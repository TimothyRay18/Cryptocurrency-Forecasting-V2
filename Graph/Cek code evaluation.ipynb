{
 "cells": [
  {
   "cell_type": "code",
   "execution_count": 1,
   "id": "52bdf8e4-218f-4fca-9767-59fbc029e7c5",
   "metadata": {},
   "outputs": [],
   "source": [
    "from tensorflow import keras\n",
    "from Skripsi import Preprocessing\n",
    "from Skripsi import Evaluation\n",
    "from Skripsi import LSTMUnit\n",
    "from Skripsi2 import Preprocessing as Preprocessing1\n",
    "from pandas import read_csv\n",
    "from pandas import DataFrame\n",
    "import numpy as np\n",
    "import pandas as pd\n",
    "import matplotlib.pyplot as plt"
   ]
  },
  {
   "cell_type": "code",
   "execution_count": 17,
   "id": "8b3bdd80-f926-4748-bae1-324b22bf8089",
   "metadata": {},
   "outputs": [],
   "source": [
    "y_pred = np.array([[16136.67], [16137.79], [16137.76], [16137.76], [16134.21]])\n",
    "y_true = np.array([[16199.59], [16220.76], [16212.91], [16130.62], [16250.77]])"
   ]
  },
  {
   "cell_type": "code",
   "execution_count": 18,
   "id": "7c962cf8-fa84-4f83-a7de-bc8b0701de8c",
   "metadata": {},
   "outputs": [
    {
     "data": {
      "text/plain": [
       "(5, 1)"
      ]
     },
     "execution_count": 18,
     "metadata": {},
     "output_type": "execute_result"
    }
   ],
   "source": [
    "y_pred.shape"
   ]
  },
  {
   "cell_type": "code",
   "execution_count": 19,
   "id": "dfb58e06-e0ac-4b02-bc53-2f93e48b52ef",
   "metadata": {},
   "outputs": [
    {
     "name": "stdout",
     "output_type": "stream",
     "text": [
      "RMSE\n",
      "77.6243299487991\n",
      "MAE\n",
      "68.94799999999995\n",
      "MAPE\n",
      "0.42499027372591197\n"
     ]
    }
   ],
   "source": [
    "print('RMSE')\n",
    "print(Evaluation.rmse(y_true,y_pred)[0])\n",
    "print('MAE')\n",
    "print(Evaluation.mae(y_true,y_pred)[0])\n",
    "print('MAPE')\n",
    "print(Evaluation.mape(y_true,y_pred)[0])"
   ]
  },
  {
   "cell_type": "code",
   "execution_count": 20,
   "id": "ce8f344b-7be3-4cb4-ab2d-478f06bb0da8",
   "metadata": {},
   "outputs": [
    {
     "name": "stdout",
     "output_type": "stream",
     "text": [
      "Metal device set to: Apple M1\n",
      "RMSE: 0.5\n",
      "MAE: tf.Tensor(0.5, shape=(), dtype=float64)\n",
      "MAPE: tf.Tensor(0.22833333333333333, shape=(), dtype=float64)\n"
     ]
    },
    {
     "name": "stderr",
     "output_type": "stream",
     "text": [
      "2023-04-10 16:22:33.020897: I tensorflow/core/common_runtime/pluggable_device/pluggable_device_factory.cc:306] Could not identify NUMA node of platform GPU ID 0, defaulting to 0. Your kernel may not have been built with NUMA support.\n",
      "2023-04-10 16:22:33.021439: I tensorflow/core/common_runtime/pluggable_device/pluggable_device_factory.cc:272] Created TensorFlow device (/job:localhost/replica:0/task:0/device:GPU:0 with 0 MB memory) -> physical PluggableDevice (device: 0, name: METAL, pci bus id: <undefined>)\n"
     ]
    }
   ],
   "source": [
    "from keras.losses import mean_squared_error, mean_absolute_error\n",
    "from keras.backend import mean, maximum\n",
    "\n",
    "# create example data\n",
    "y_true = np.array([1, 2, 3, 4, 5])\n",
    "y_pred = np.array([1.5, 2.5, 3.5, 4.5, 5.5])\n",
    "\n",
    "# calculate RMSE\n",
    "rmse = np.sqrt(mean_squared_error(y_true, y_pred))\n",
    "print('RMSE:', rmse)\n",
    "\n",
    "# calculate MAE\n",
    "mae = mean_absolute_error(y_true, y_pred)\n",
    "print('MAE:', mae)\n",
    "\n",
    "# calculate MAPE\n",
    "mape = mean(maximum(np.abs((y_true - y_pred) / y_true), 1e-8))\n",
    "print('MAPE:', mape)"
   ]
  },
  {
   "cell_type": "code",
   "execution_count": 21,
   "id": "5137daa9-c49d-4e99-a237-f280a45d7ab2",
   "metadata": {},
   "outputs": [
    {
     "name": "stdout",
     "output_type": "stream",
     "text": [
      "RMSE\n",
      "0.5\n",
      "MAE\n",
      "0.5\n",
      "MAPE\n",
      "22.833333333333332\n"
     ]
    }
   ],
   "source": [
    "y_true = np.array([[1], [2], [3], [4], [5]])\n",
    "y_pred = np.array([[1.5], [2.5], [3.5], [4.5], [5.5]])\n",
    "print('RMSE')\n",
    "print(Evaluation.rmse(y_true,y_pred)[0])\n",
    "print('MAE')\n",
    "print(Evaluation.mae(y_true,y_pred)[0])\n",
    "print('MAPE')\n",
    "print(Evaluation.mape(y_true,y_pred)[0])"
   ]
  },
  {
   "cell_type": "code",
   "execution_count": null,
   "id": "de1876e6-d55b-4c89-b880-154c68ef031e",
   "metadata": {},
   "outputs": [],
   "source": []
  }
 ],
 "metadata": {
  "kernelspec": {
   "display_name": "Python 3 (ipykernel)",
   "language": "python",
   "name": "python3"
  },
  "language_info": {
   "codemirror_mode": {
    "name": "ipython",
    "version": 3
   },
   "file_extension": ".py",
   "mimetype": "text/x-python",
   "name": "python",
   "nbconvert_exporter": "python",
   "pygments_lexer": "ipython3",
   "version": "3.9.13"
  }
 },
 "nbformat": 4,
 "nbformat_minor": 5
}
