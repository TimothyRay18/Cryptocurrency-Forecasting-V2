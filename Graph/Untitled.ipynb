{
 "cells": [
  {
   "cell_type": "code",
   "execution_count": 1,
   "id": "6605bf9c-5da1-4c08-b150-820a794608f7",
   "metadata": {},
   "outputs": [],
   "source": [
    "from tensorflow import keras\n",
    "from Skripsi import Preprocessing\n",
    "from Skripsi import Evaluation\n",
    "from Skripsi import LSTMUnit\n",
    "from Skripsi2 import Preprocessing as Preprocessing1\n",
    "from pandas import read_csv\n",
    "from pandas import DataFrame\n",
    "import numpy as np\n",
    "import pandas as pd\n",
    "import matplotlib.pyplot as plt"
   ]
  },
  {
   "cell_type": "code",
   "execution_count": 2,
   "id": "4a7ae213-db9a-482a-8f6f-0b76162ca463",
   "metadata": {},
   "outputs": [],
   "source": [
    "eth_dfd = pd.read_csv('../Dataset/Binance_ETHUSDT_1h.csv')\n",
    "df = Preprocessing.sort_df(eth_dfd)\n",
    "x, eth_scaler = Preprocessing.minmax_scale(df)\n",
    "train, test = Preprocessing.splitting_data(x)\n",
    "eth_train_X, eth_train_y = Preprocessing.create_dataset(train,25)\n",
    "eth_test_X, eth_test_y = Preprocessing.create_dataset(test,25)"
   ]
  },
  {
   "cell_type": "code",
   "execution_count": 4,
   "id": "1cad0ab6-e6bc-4ad5-ad57-411ca7d5f297",
   "metadata": {},
   "outputs": [],
   "source": [
    "df = Preprocessing1.sort_df(eth_dfd)\n",
    "x, eth_scaler = Preprocessing1.minmax_scale(df)\n",
    "train, test = Preprocessing1.splitting_data(x)\n",
    "eth_train_X_uni, eth_train_y_uni = Preprocessing1.create_dataset(train,25)\n",
    "eth_test_X_uni, eth_test_y_uni = Preprocessing1.create_dataset(test,25)"
   ]
  },
  {
   "cell_type": "code",
   "execution_count": null,
   "id": "df04b71b-809b-484f-abdd-d463b18b6cb2",
   "metadata": {},
   "outputs": [],
   "source": [
    "btc_dfd['Date'] = pd.to_datetime(btc_dfd['Date'], format='%Y-%m-%d %H:%M:%S')\n",
    "eth_dfd['Date'] = pd.to_datetime(eth_dfd['Date'], format='%Y-%m-%d %H:%M:%S')\n",
    "ltc_dfd['Date'] = pd.to_datetime(ltc_dfd['Date'], format='%Y-%m-%d %H:%M:%S')"
   ]
  },
  {
   "cell_type": "code",
   "execution_count": null,
   "id": "4401bee7-7b6b-48a9-ba44-d3a84464b2dc",
   "metadata": {},
   "outputs": [],
   "source": []
  }
 ],
 "metadata": {
  "kernelspec": {
   "display_name": "Python 3 (ipykernel)",
   "language": "python",
   "name": "python3"
  },
  "language_info": {
   "codemirror_mode": {
    "name": "ipython",
    "version": 3
   },
   "file_extension": ".py",
   "mimetype": "text/x-python",
   "name": "python",
   "nbconvert_exporter": "python",
   "pygments_lexer": "ipython3",
   "version": "3.9.13"
  }
 },
 "nbformat": 4,
 "nbformat_minor": 5
}
