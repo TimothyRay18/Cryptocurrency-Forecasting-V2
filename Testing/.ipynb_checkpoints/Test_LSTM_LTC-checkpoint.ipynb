{
 "cells": [
  {
   "cell_type": "code",
   "execution_count": 1,
   "id": "3d0aa9f1-8162-4f51-8666-384a83630ce5",
   "metadata": {},
   "outputs": [],
   "source": [
    "from tensorflow import keras\n",
    "from Skripsi import Preprocessing\n",
    "from Skripsi import Evaluation\n",
    "from Skripsi import LSTMUnit\n",
    "from pandas import read_csv\n",
    "from pandas import DataFrame\n",
    "import numpy as np\n",
    "import pandas as pd\n",
    "from openpyxl.workbook import Workbook"
   ]
  },
  {
   "cell_type": "code",
   "execution_count": 2,
   "id": "6aa22282-0918-460c-b045-bd64f76068f5",
   "metadata": {},
   "outputs": [
    {
     "data": {
      "text/plain": [
       "[(32, 25, 50),\n",
       " (32, 25, 60),\n",
       " (32, 25, 100),\n",
       " (32, 50, 50),\n",
       " (32, 50, 60),\n",
       " (32, 50, 100),\n",
       " (32, 100, 50),\n",
       " (32, 100, 60),\n",
       " (32, 100, 100)]"
      ]
     },
     "execution_count": 2,
     "metadata": {},
     "output_type": "execute_result"
    }
   ],
   "source": [
    "hyperparams = []\n",
    "batch = [32, 64, 128]\n",
    "epoch = [25, 50, 100]\n",
    "neuron = [50, 60, 100]\n",
    "for j in batch:\n",
    "    for k in epoch:\n",
    "        for l in neuron:\n",
    "            hyperparams.append((j,k,l))\n",
    "hyperparam1 = hyperparams[:9]\n",
    "hyperparam2 = hyperparams[9:18]\n",
    "hyperparam3 = hyperparams[18:27]\n",
    "hyperparam1"
   ]
  },
  {
   "cell_type": "code",
   "execution_count": 3,
   "id": "5afadb25-e60b-4a51-b52f-b7ce399615d4",
   "metadata": {},
   "outputs": [
    {
     "name": "stdout",
     "output_type": "stream",
     "text": [
      "duplicate ok\n",
      "No missing value\n"
     ]
    }
   ],
   "source": [
    "ltc_dfd = pd.read_csv('../Dataset/Binance_LTCUSDT_1h.csv')\n",
    "df = Preprocessing.feature_selection(ltc_dfd)\n",
    "df_no_dup = Preprocessing.handle_duplicate(df)\n",
    "miss = Preprocessing.handle_missing_value(df_no_dup)\n",
    "x, scaler = Preprocessing.minmax_scale(df_no_dup)\n",
    "train, test = Preprocessing.splitting_data(x)\n",
    "train_X, train_y = Preprocessing.create_dataset(train,50)\n",
    "test_X, test_y = Preprocessing.create_dataset(test,50)"
   ]
  },
  {
   "cell_type": "code",
   "execution_count": 4,
   "id": "57f55621-28fe-4ec4-a534-24540aa20020",
   "metadata": {},
   "outputs": [
    {
     "name": "stdout",
     "output_type": "stream",
     "text": [
      "(20969, 50, 5) (20969,) (5205, 50, 5) (5205,)\n"
     ]
    }
   ],
   "source": [
    "print(train_X.shape, train_y.shape, test_X.shape, test_y.shape)"
   ]
  },
  {
   "cell_type": "code",
   "execution_count": 5,
   "id": "0e955542-c74d-4e48-9eea-696ca4022b95",
   "metadata": {},
   "outputs": [
    {
     "name": "stdout",
     "output_type": "stream",
     "text": [
      "Metal device set to: Apple M1\n"
     ]
    },
    {
     "name": "stderr",
     "output_type": "stream",
     "text": [
      "2023-04-10 16:42:04.996594: I tensorflow/core/common_runtime/pluggable_device/pluggable_device_factory.cc:306] Could not identify NUMA node of platform GPU ID 0, defaulting to 0. Your kernel may not have been built with NUMA support.\n",
      "2023-04-10 16:42:04.997089: I tensorflow/core/common_runtime/pluggable_device/pluggable_device_factory.cc:272] Created TensorFlow device (/job:localhost/replica:0/task:0/device:GPU:0 with 0 MB memory) -> physical PluggableDevice (device: 0, name: METAL, pci bus id: <undefined>)\n",
      "2023-04-10 16:42:05.340629: W tensorflow/core/platform/profile_utils/cpu_utils.cc:128] Failed to get CPU frequency: 0 Hz\n",
      "2023-04-10 16:42:05.458750: I tensorflow/core/grappler/optimizers/custom_graph_optimizer_registry.cc:114] Plugin optimizer for device_type GPU is enabled.\n",
      "2023-04-10 16:42:05.496451: I tensorflow/core/grappler/optimizers/custom_graph_optimizer_registry.cc:114] Plugin optimizer for device_type GPU is enabled.\n"
     ]
    },
    {
     "name": "stdout",
     "output_type": "stream",
     "text": [
      "163/163 [==============================] - 2s 8ms/step\n",
      "(32, 25, 50)\n",
      "Neurons: 50\n",
      "RMSE\n",
      "0.7024824178380331\n",
      "MAE\n",
      "0.4996880724757587\n",
      "MAPE\n",
      "0.838748231443835\n",
      "  8/163 [>.............................] - ETA: 1s "
     ]
    },
    {
     "name": "stderr",
     "output_type": "stream",
     "text": [
      "2023-04-10 16:42:07.482094: I tensorflow/core/grappler/optimizers/custom_graph_optimizer_registry.cc:114] Plugin optimizer for device_type GPU is enabled.\n",
      "2023-04-10 16:42:07.509597: I tensorflow/core/grappler/optimizers/custom_graph_optimizer_registry.cc:114] Plugin optimizer for device_type GPU is enabled.\n"
     ]
    },
    {
     "name": "stdout",
     "output_type": "stream",
     "text": [
      "163/163 [==============================] - 1s 8ms/step\n",
      "(32, 25, 60)\n",
      "Neurons: 60\n",
      "RMSE\n",
      "0.6671911324121621\n",
      "MAE\n",
      "0.4578668353312521\n",
      "MAPE\n",
      "0.7582898585303243\n",
      "  8/163 [>.............................] - ETA: 1s "
     ]
    },
    {
     "name": "stderr",
     "output_type": "stream",
     "text": [
      "2023-04-10 16:42:09.126144: I tensorflow/core/grappler/optimizers/custom_graph_optimizer_registry.cc:114] Plugin optimizer for device_type GPU is enabled.\n",
      "2023-04-10 16:42:09.153982: I tensorflow/core/grappler/optimizers/custom_graph_optimizer_registry.cc:114] Plugin optimizer for device_type GPU is enabled.\n"
     ]
    },
    {
     "name": "stdout",
     "output_type": "stream",
     "text": [
      "163/163 [==============================] - 1s 8ms/step\n",
      "(32, 25, 100)\n",
      "Neurons: 100\n",
      "RMSE\n",
      "0.7111154453228203\n",
      "MAE\n",
      "0.5157898802010625\n",
      "MAPE\n",
      "0.8686668530634317\n",
      "  8/163 [>.............................] - ETA: 1s "
     ]
    },
    {
     "name": "stderr",
     "output_type": "stream",
     "text": [
      "2023-04-10 16:42:10.776182: I tensorflow/core/grappler/optimizers/custom_graph_optimizer_registry.cc:114] Plugin optimizer for device_type GPU is enabled.\n",
      "2023-04-10 16:42:10.803280: I tensorflow/core/grappler/optimizers/custom_graph_optimizer_registry.cc:114] Plugin optimizer for device_type GPU is enabled.\n"
     ]
    },
    {
     "name": "stdout",
     "output_type": "stream",
     "text": [
      "163/163 [==============================] - 1s 8ms/step\n",
      "(32, 50, 50)\n",
      "Neurons: 50\n",
      "RMSE\n",
      "0.6438079705965021\n",
      "MAE\n",
      "0.4473348495673942\n",
      "MAPE\n",
      "0.7519421269176276\n",
      "  8/163 [>.............................] - ETA: 1s "
     ]
    },
    {
     "name": "stderr",
     "output_type": "stream",
     "text": [
      "2023-04-10 16:42:12.417387: I tensorflow/core/grappler/optimizers/custom_graph_optimizer_registry.cc:114] Plugin optimizer for device_type GPU is enabled.\n",
      "2023-04-10 16:42:12.443180: I tensorflow/core/grappler/optimizers/custom_graph_optimizer_registry.cc:114] Plugin optimizer for device_type GPU is enabled.\n"
     ]
    },
    {
     "name": "stdout",
     "output_type": "stream",
     "text": [
      "163/163 [==============================] - 1s 8ms/step\n",
      "(32, 50, 60)\n",
      "Neurons: 60\n",
      "RMSE\n",
      "0.6128656217091811\n",
      "MAE\n",
      "0.41144105296725875\n",
      "MAPE\n",
      "0.6905655583191797\n",
      "  8/163 [>.............................] - ETA: 1s "
     ]
    },
    {
     "name": "stderr",
     "output_type": "stream",
     "text": [
      "2023-04-10 16:42:14.142942: I tensorflow/core/grappler/optimizers/custom_graph_optimizer_registry.cc:114] Plugin optimizer for device_type GPU is enabled.\n",
      "2023-04-10 16:42:14.168374: I tensorflow/core/grappler/optimizers/custom_graph_optimizer_registry.cc:114] Plugin optimizer for device_type GPU is enabled.\n"
     ]
    },
    {
     "name": "stdout",
     "output_type": "stream",
     "text": [
      "163/163 [==============================] - 2s 8ms/step\n",
      "(32, 50, 100)\n",
      "Neurons: 100\n",
      "RMSE\n",
      "0.6541371815309682\n",
      "MAE\n",
      "0.4690366061720902\n",
      "MAPE\n",
      "0.8003684893436167\n",
      "  8/163 [>.............................] - ETA: 1s "
     ]
    },
    {
     "name": "stderr",
     "output_type": "stream",
     "text": [
      "2023-04-10 16:42:15.798627: I tensorflow/core/grappler/optimizers/custom_graph_optimizer_registry.cc:114] Plugin optimizer for device_type GPU is enabled.\n",
      "2023-04-10 16:42:15.824297: I tensorflow/core/grappler/optimizers/custom_graph_optimizer_registry.cc:114] Plugin optimizer for device_type GPU is enabled.\n"
     ]
    },
    {
     "name": "stdout",
     "output_type": "stream",
     "text": [
      "163/163 [==============================] - 1s 8ms/step\n",
      "(32, 100, 50)\n",
      "Neurons: 50\n",
      "RMSE\n",
      "0.5980311971931939\n",
      "MAE\n",
      "0.3953997011798488\n",
      "MAPE\n",
      "0.661309486619724\n",
      "  7/163 [>.............................] - ETA: 1s "
     ]
    },
    {
     "name": "stderr",
     "output_type": "stream",
     "text": [
      "2023-04-10 16:42:17.446762: I tensorflow/core/grappler/optimizers/custom_graph_optimizer_registry.cc:114] Plugin optimizer for device_type GPU is enabled.\n",
      "2023-04-10 16:42:17.474368: I tensorflow/core/grappler/optimizers/custom_graph_optimizer_registry.cc:114] Plugin optimizer for device_type GPU is enabled.\n"
     ]
    },
    {
     "name": "stdout",
     "output_type": "stream",
     "text": [
      "163/163 [==============================] - 1s 8ms/step\n",
      "(32, 100, 60)\n",
      "Neurons: 60\n",
      "RMSE\n",
      "0.5830343562631993\n",
      "MAE\n",
      "0.379901228759062\n",
      "MAPE\n",
      "0.6394318892491364\n",
      "  8/163 [>.............................] - ETA: 1s "
     ]
    },
    {
     "name": "stderr",
     "output_type": "stream",
     "text": [
      "2023-04-10 16:42:19.234299: I tensorflow/core/grappler/optimizers/custom_graph_optimizer_registry.cc:114] Plugin optimizer for device_type GPU is enabled.\n",
      "2023-04-10 16:42:19.261976: I tensorflow/core/grappler/optimizers/custom_graph_optimizer_registry.cc:114] Plugin optimizer for device_type GPU is enabled.\n"
     ]
    },
    {
     "name": "stdout",
     "output_type": "stream",
     "text": [
      "163/163 [==============================] - 2s 8ms/step\n",
      "(32, 100, 100)\n",
      "Neurons: 100\n",
      "RMSE\n",
      "0.6245649436738001\n",
      "MAE\n",
      "0.42996220736544766\n",
      "MAPE\n",
      "0.7215437152300949\n",
      "  7/163 [>.............................] - ETA: 1s "
     ]
    },
    {
     "name": "stderr",
     "output_type": "stream",
     "text": [
      "2023-04-10 16:42:20.948129: I tensorflow/core/grappler/optimizers/custom_graph_optimizer_registry.cc:114] Plugin optimizer for device_type GPU is enabled.\n",
      "2023-04-10 16:42:20.977782: I tensorflow/core/grappler/optimizers/custom_graph_optimizer_registry.cc:114] Plugin optimizer for device_type GPU is enabled.\n"
     ]
    },
    {
     "name": "stdout",
     "output_type": "stream",
     "text": [
      "163/163 [==============================] - 2s 9ms/step\n",
      "(64, 25, 50)\n",
      "Neurons: 50\n",
      "RMSE\n",
      "0.855274522833532\n",
      "MAE\n",
      "0.6459841753311959\n",
      "MAPE\n",
      "1.0997981440729558\n",
      "  7/163 [>.............................] - ETA: 1s "
     ]
    },
    {
     "name": "stderr",
     "output_type": "stream",
     "text": [
      "2023-04-10 16:42:22.869881: I tensorflow/core/grappler/optimizers/custom_graph_optimizer_registry.cc:114] Plugin optimizer for device_type GPU is enabled.\n",
      "2023-04-10 16:42:22.897094: I tensorflow/core/grappler/optimizers/custom_graph_optimizer_registry.cc:114] Plugin optimizer for device_type GPU is enabled.\n"
     ]
    },
    {
     "name": "stdout",
     "output_type": "stream",
     "text": [
      "163/163 [==============================] - 2s 9ms/step\n",
      "(64, 25, 60)\n",
      "Neurons: 60\n",
      "RMSE\n",
      "0.9632048546359079\n",
      "MAE\n",
      "0.7538589749295025\n",
      "MAPE\n",
      "1.293530720966922\n",
      "  8/163 [>.............................] - ETA: 1s "
     ]
    },
    {
     "name": "stderr",
     "output_type": "stream",
     "text": [
      "2023-04-10 16:42:24.675589: I tensorflow/core/grappler/optimizers/custom_graph_optimizer_registry.cc:114] Plugin optimizer for device_type GPU is enabled.\n",
      "2023-04-10 16:42:24.704058: I tensorflow/core/grappler/optimizers/custom_graph_optimizer_registry.cc:114] Plugin optimizer for device_type GPU is enabled.\n"
     ]
    },
    {
     "name": "stdout",
     "output_type": "stream",
     "text": [
      "163/163 [==============================] - 2s 8ms/step\n",
      "(64, 25, 100)\n",
      "Neurons: 100\n",
      "RMSE\n",
      "0.7694277021979301\n",
      "MAE\n",
      "0.5591648104884781\n",
      "MAPE\n",
      "0.9327078576436488\n",
      "  7/163 [>.............................] - ETA: 1s "
     ]
    },
    {
     "name": "stderr",
     "output_type": "stream",
     "text": [
      "2023-04-10 16:42:26.454976: I tensorflow/core/grappler/optimizers/custom_graph_optimizer_registry.cc:114] Plugin optimizer for device_type GPU is enabled.\n",
      "2023-04-10 16:42:26.483416: I tensorflow/core/grappler/optimizers/custom_graph_optimizer_registry.cc:114] Plugin optimizer for device_type GPU is enabled.\n"
     ]
    },
    {
     "name": "stdout",
     "output_type": "stream",
     "text": [
      "163/163 [==============================] - 2s 9ms/step\n",
      "(64, 50, 50)\n",
      "Neurons: 50\n",
      "RMSE\n",
      "0.7601482982512341\n",
      "MAE\n",
      "0.5617523599674098\n",
      "MAPE\n",
      "0.9454880524261607\n",
      "  7/163 [>.............................] - ETA: 1s "
     ]
    },
    {
     "name": "stderr",
     "output_type": "stream",
     "text": [
      "2023-04-10 16:42:28.264999: I tensorflow/core/grappler/optimizers/custom_graph_optimizer_registry.cc:114] Plugin optimizer for device_type GPU is enabled.\n",
      "2023-04-10 16:42:28.294531: I tensorflow/core/grappler/optimizers/custom_graph_optimizer_registry.cc:114] Plugin optimizer for device_type GPU is enabled.\n"
     ]
    },
    {
     "name": "stdout",
     "output_type": "stream",
     "text": [
      "163/163 [==============================] - 2s 9ms/step\n",
      "(64, 50, 60)\n",
      "Neurons: 60\n",
      "RMSE\n",
      "0.7564781214116756\n",
      "MAE\n",
      "0.5448520857254889\n",
      "MAPE\n",
      "0.8970879562179546\n",
      "  7/163 [>.............................] - ETA: 1s "
     ]
    },
    {
     "name": "stderr",
     "output_type": "stream",
     "text": [
      "2023-04-10 16:42:30.060985: I tensorflow/core/grappler/optimizers/custom_graph_optimizer_registry.cc:114] Plugin optimizer for device_type GPU is enabled.\n",
      "2023-04-10 16:42:30.089266: I tensorflow/core/grappler/optimizers/custom_graph_optimizer_registry.cc:114] Plugin optimizer for device_type GPU is enabled.\n"
     ]
    },
    {
     "name": "stdout",
     "output_type": "stream",
     "text": [
      "163/163 [==============================] - 2s 9ms/step\n",
      "(64, 50, 100)\n",
      "Neurons: 100\n",
      "RMSE\n",
      "0.8440090693495704\n",
      "MAE\n",
      "0.63906516300315\n",
      "MAPE\n",
      "1.0703207736193705\n",
      "  7/163 [>.............................] - ETA: 1s "
     ]
    },
    {
     "name": "stderr",
     "output_type": "stream",
     "text": [
      "2023-04-10 16:42:31.886726: I tensorflow/core/grappler/optimizers/custom_graph_optimizer_registry.cc:114] Plugin optimizer for device_type GPU is enabled.\n",
      "2023-04-10 16:42:31.916764: I tensorflow/core/grappler/optimizers/custom_graph_optimizer_registry.cc:114] Plugin optimizer for device_type GPU is enabled.\n"
     ]
    },
    {
     "name": "stdout",
     "output_type": "stream",
     "text": [
      "163/163 [==============================] - 2s 10ms/step\n",
      "(64, 100, 50)\n",
      "Neurons: 50\n",
      "RMSE\n",
      "0.8439705584332946\n",
      "MAE\n",
      "0.6634502908228457\n",
      "MAPE\n",
      "1.164418247752359\n",
      "  7/163 [>.............................] - ETA: 1s "
     ]
    },
    {
     "name": "stderr",
     "output_type": "stream",
     "text": [
      "2023-04-10 16:42:33.917472: I tensorflow/core/grappler/optimizers/custom_graph_optimizer_registry.cc:114] Plugin optimizer for device_type GPU is enabled.\n",
      "2023-04-10 16:42:33.946547: I tensorflow/core/grappler/optimizers/custom_graph_optimizer_registry.cc:114] Plugin optimizer for device_type GPU is enabled.\n"
     ]
    },
    {
     "name": "stdout",
     "output_type": "stream",
     "text": [
      "163/163 [==============================] - 2s 9ms/step\n",
      "(64, 100, 60)\n",
      "Neurons: 60\n",
      "RMSE\n",
      "0.70613838607132\n",
      "MAE\n",
      "0.5199087531449805\n",
      "MAPE\n",
      "0.8801288249365857\n"
     ]
    },
    {
     "name": "stderr",
     "output_type": "stream",
     "text": [
      "2023-04-10 16:42:36.088340: I tensorflow/core/grappler/optimizers/custom_graph_optimizer_registry.cc:114] Plugin optimizer for device_type GPU is enabled.\n",
      "2023-04-10 16:42:36.187808: I tensorflow/core/grappler/optimizers/custom_graph_optimizer_registry.cc:114] Plugin optimizer for device_type GPU is enabled.\n"
     ]
    },
    {
     "name": "stdout",
     "output_type": "stream",
     "text": [
      "163/163 [==============================] - 2s 9ms/step\n",
      "(64, 100, 100)\n",
      "Neurons: 100\n",
      "RMSE\n",
      "0.6960498731248392\n",
      "MAE\n",
      "0.5108891665763738\n",
      "MAPE\n",
      "0.8660727882767443\n",
      "  1/163 [..............................] - ETA: 40s"
     ]
    },
    {
     "name": "stderr",
     "output_type": "stream",
     "text": [
      "2023-04-10 16:42:38.165257: I tensorflow/core/grappler/optimizers/custom_graph_optimizer_registry.cc:114] Plugin optimizer for device_type GPU is enabled.\n",
      "2023-04-10 16:42:38.196133: I tensorflow/core/grappler/optimizers/custom_graph_optimizer_registry.cc:114] Plugin optimizer for device_type GPU is enabled.\n"
     ]
    },
    {
     "name": "stdout",
     "output_type": "stream",
     "text": [
      "163/163 [==============================] - 2s 10ms/step\n",
      "(128, 25, 50)\n",
      "Neurons: 50\n",
      "RMSE\n",
      "4.087289285952892\n",
      "MAE\n",
      "3.965871791169005\n",
      "MAPE\n",
      "6.9682286127062145\n",
      "  1/163 [..............................] - ETA: 43s"
     ]
    },
    {
     "name": "stderr",
     "output_type": "stream",
     "text": [
      "2023-04-10 16:42:40.307778: I tensorflow/core/grappler/optimizers/custom_graph_optimizer_registry.cc:114] Plugin optimizer for device_type GPU is enabled.\n",
      "2023-04-10 16:42:40.347601: I tensorflow/core/grappler/optimizers/custom_graph_optimizer_registry.cc:114] Plugin optimizer for device_type GPU is enabled.\n"
     ]
    },
    {
     "name": "stdout",
     "output_type": "stream",
     "text": [
      "163/163 [==============================] - 2s 9ms/step\n",
      "(128, 25, 60)\n",
      "Neurons: 60\n",
      "RMSE\n",
      "5.305614463719456\n",
      "MAE\n",
      "5.211790908769508\n",
      "MAPE\n",
      "9.100787255342897\n",
      "  7/163 [>.............................] - ETA: 1s "
     ]
    },
    {
     "name": "stderr",
     "output_type": "stream",
     "text": [
      "2023-04-10 16:42:42.321826: I tensorflow/core/grappler/optimizers/custom_graph_optimizer_registry.cc:114] Plugin optimizer for device_type GPU is enabled.\n",
      "2023-04-10 16:42:42.352332: I tensorflow/core/grappler/optimizers/custom_graph_optimizer_registry.cc:114] Plugin optimizer for device_type GPU is enabled.\n"
     ]
    },
    {
     "name": "stdout",
     "output_type": "stream",
     "text": [
      "163/163 [==============================] - 2s 10ms/step\n",
      "(128, 25, 100)\n",
      "Neurons: 100\n",
      "RMSE\n",
      "0.7622859616685271\n",
      "MAE\n",
      "0.5245603235484775\n",
      "MAPE\n",
      "0.8588111896866651\n",
      "  6/163 [>.............................] - ETA: 1s "
     ]
    },
    {
     "name": "stderr",
     "output_type": "stream",
     "text": [
      "2023-04-10 16:42:44.297077: I tensorflow/core/grappler/optimizers/custom_graph_optimizer_registry.cc:114] Plugin optimizer for device_type GPU is enabled.\n",
      "2023-04-10 16:42:44.327406: I tensorflow/core/grappler/optimizers/custom_graph_optimizer_registry.cc:114] Plugin optimizer for device_type GPU is enabled.\n"
     ]
    },
    {
     "name": "stdout",
     "output_type": "stream",
     "text": [
      "163/163 [==============================] - 2s 10ms/step\n",
      "(128, 50, 50)\n",
      "Neurons: 50\n",
      "RMSE\n",
      "4.680054122998628\n",
      "MAE\n",
      "4.572906241410523\n",
      "MAPE\n",
      "8.019202067996185\n",
      "  1/163 [..............................] - ETA: 40s"
     ]
    },
    {
     "name": "stderr",
     "output_type": "stream",
     "text": [
      "2023-04-10 16:42:46.415286: I tensorflow/core/grappler/optimizers/custom_graph_optimizer_registry.cc:114] Plugin optimizer for device_type GPU is enabled.\n",
      "2023-04-10 16:42:46.447122: I tensorflow/core/grappler/optimizers/custom_graph_optimizer_registry.cc:114] Plugin optimizer for device_type GPU is enabled.\n"
     ]
    },
    {
     "name": "stdout",
     "output_type": "stream",
     "text": [
      "163/163 [==============================] - 2s 12ms/step\n",
      "(128, 50, 60)\n",
      "Neurons: 60\n",
      "RMSE\n",
      "0.723248488312036\n",
      "MAE\n",
      "0.5021209890931759\n",
      "MAPE\n",
      "0.8194677957505905\n",
      "  1/163 [..............................] - ETA: 39s"
     ]
    },
    {
     "name": "stderr",
     "output_type": "stream",
     "text": [
      "2023-04-10 16:42:48.785626: I tensorflow/core/grappler/optimizers/custom_graph_optimizer_registry.cc:114] Plugin optimizer for device_type GPU is enabled.\n",
      "2023-04-10 16:42:48.823815: I tensorflow/core/grappler/optimizers/custom_graph_optimizer_registry.cc:114] Plugin optimizer for device_type GPU is enabled.\n"
     ]
    },
    {
     "name": "stdout",
     "output_type": "stream",
     "text": [
      "163/163 [==============================] - 2s 10ms/step\n",
      "(128, 50, 100)\n",
      "Neurons: 100\n",
      "RMSE\n",
      "0.7156945891948032\n",
      "MAE\n",
      "0.4943314270840365\n",
      "MAPE\n",
      "0.8078023123676223\n",
      "  1/163 [..............................] - ETA: 46s"
     ]
    },
    {
     "name": "stderr",
     "output_type": "stream",
     "text": [
      "2023-04-10 16:42:50.928421: I tensorflow/core/grappler/optimizers/custom_graph_optimizer_registry.cc:114] Plugin optimizer for device_type GPU is enabled.\n",
      "2023-04-10 16:42:50.959051: I tensorflow/core/grappler/optimizers/custom_graph_optimizer_registry.cc:114] Plugin optimizer for device_type GPU is enabled.\n"
     ]
    },
    {
     "name": "stdout",
     "output_type": "stream",
     "text": [
      "163/163 [==============================] - 2s 12ms/step\n",
      "(128, 100, 50)\n",
      "Neurons: 50\n",
      "RMSE\n",
      "2.4949765206565804\n",
      "MAE\n",
      "2.424141570429296\n",
      "MAPE\n",
      "4.205674276724893\n",
      "  1/163 [..............................] - ETA: 45s"
     ]
    },
    {
     "name": "stderr",
     "output_type": "stream",
     "text": [
      "2023-04-10 16:42:53.506422: I tensorflow/core/grappler/optimizers/custom_graph_optimizer_registry.cc:114] Plugin optimizer for device_type GPU is enabled.\n",
      "2023-04-10 16:42:53.543937: I tensorflow/core/grappler/optimizers/custom_graph_optimizer_registry.cc:114] Plugin optimizer for device_type GPU is enabled.\n"
     ]
    },
    {
     "name": "stdout",
     "output_type": "stream",
     "text": [
      "163/163 [==============================] - 2s 11ms/step\n",
      "(128, 100, 60)\n",
      "Neurons: 60\n",
      "RMSE\n",
      "2.5456162850221378\n",
      "MAE\n",
      "2.4744091060759366\n",
      "MAPE\n",
      "4.301508768423469\n",
      "  1/163 [..............................] - ETA: 41s"
     ]
    },
    {
     "name": "stderr",
     "output_type": "stream",
     "text": [
      "2023-04-10 16:42:55.755910: I tensorflow/core/grappler/optimizers/custom_graph_optimizer_registry.cc:114] Plugin optimizer for device_type GPU is enabled.\n",
      "2023-04-10 16:42:55.789286: I tensorflow/core/grappler/optimizers/custom_graph_optimizer_registry.cc:114] Plugin optimizer for device_type GPU is enabled.\n"
     ]
    },
    {
     "name": "stdout",
     "output_type": "stream",
     "text": [
      "163/163 [==============================] - 2s 11ms/step\n",
      "(128, 100, 100)\n",
      "Neurons: 100\n",
      "RMSE\n",
      "0.6541848146464226\n",
      "MAE\n",
      "0.4594335122232128\n",
      "MAPE\n",
      "0.7763978423560141\n"
     ]
    }
   ],
   "source": [
    "wb1 = Workbook()\n",
    "ws1 = wb1.active\n",
    "i=0\n",
    "for x in hyperparams:\n",
    "    model = keras.models.load_model('../Model LSTM LTC/LSTM_LTC'+str(x)+'.h5')\n",
    "    test_x2 = test_X\n",
    "    yhat = model.predict(test_x2)\n",
    "    inv_yhat = Preprocessing.inverse_scaler(yhat, scaler)\n",
    "    inv_y = Preprocessing.inverse_scaler(test_y.reshape(-1,1), scaler)\n",
    "    print(x)\n",
    "    # print(\"Epoch: \"+ str(lstms1[i].params['epochs']))\n",
    "    print(\"Neurons: \"+str(model.layers[0].units))\n",
    "    i = i+1\n",
    "    ws1['A'+str(i)] = 'LSTM'\n",
    "    ws1['B'+str(i)] = hyperparams[i-1][0]\n",
    "    ws1['C'+str(i)] = hyperparams[i-1][1]\n",
    "    ws1['D'+str(i)] = hyperparams[i-1][2]\n",
    "    print('RMSE')\n",
    "    print(Evaluation.rmse(inv_y,inv_yhat))\n",
    "    ws1['E'+str(i)] = Evaluation.rmse(inv_y,inv_yhat)\n",
    "    print('MAE')\n",
    "    print(Evaluation.mae(inv_y,inv_yhat))\n",
    "    ws1['F'+str(i)] = Evaluation.mae(inv_y,inv_yhat)\n",
    "    print('MAPE')\n",
    "    print(Evaluation.mape(inv_y,inv_yhat))\n",
    "    ws1['G'+str(i)] = Evaluation.mape(inv_y,inv_yhat)\n",
    "wb1.save('LSTM_LTC_result.xlsx')"
   ]
  },
  {
   "cell_type": "code",
   "execution_count": 6,
   "id": "f4c07bee-6239-46e6-a6b8-02760d753ceb",
   "metadata": {},
   "outputs": [
    {
     "data": {
      "text/plain": [
       "array([0.09609984, 0.09583983, 0.09687988, ..., 0.11697868, 0.11661466,\n",
       "       0.11674467])"
      ]
     },
     "execution_count": 6,
     "metadata": {},
     "output_type": "execute_result"
    }
   ],
   "source": [
    "test_y"
   ]
  },
  {
   "cell_type": "code",
   "execution_count": null,
   "id": "028357f2-9590-4c7c-a322-8fdf48e988d3",
   "metadata": {},
   "outputs": [],
   "source": []
  }
 ],
 "metadata": {
  "kernelspec": {
   "display_name": "Python 3 (ipykernel)",
   "language": "python",
   "name": "python3"
  },
  "language_info": {
   "codemirror_mode": {
    "name": "ipython",
    "version": 3
   },
   "file_extension": ".py",
   "mimetype": "text/x-python",
   "name": "python",
   "nbconvert_exporter": "python",
   "pygments_lexer": "ipython3",
   "version": "3.9.13"
  }
 },
 "nbformat": 4,
 "nbformat_minor": 5
}
