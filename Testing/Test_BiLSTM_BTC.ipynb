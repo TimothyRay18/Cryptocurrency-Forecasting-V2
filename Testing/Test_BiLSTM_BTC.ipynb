{
 "cells": [
  {
   "cell_type": "code",
   "execution_count": 2,
   "id": "3d0aa9f1-8162-4f51-8666-384a83630ce5",
   "metadata": {},
   "outputs": [],
   "source": [
    "from tensorflow import keras\n",
    "from Skripsi import Preprocessing\n",
    "from Skripsi import Evaluation\n",
    "from Skripsi import LSTMUnit\n",
    "from pandas import read_csv\n",
    "from pandas import DataFrame\n",
    "import numpy as np\n",
    "import pandas as pd\n",
    "from openpyxl.workbook import Workbook"
   ]
  },
  {
   "cell_type": "code",
   "execution_count": 7,
   "id": "6aa22282-0918-460c-b045-bd64f76068f5",
   "metadata": {},
   "outputs": [],
   "source": [
    "btc_dfd = pd.read_csv('../Dataset/Binance_BTCUSDT_1h_b.csv')"
   ]
  },
  {
   "cell_type": "code",
   "execution_count": 8,
   "id": "5afadb25-e60b-4a51-b52f-b7ce399615d4",
   "metadata": {},
   "outputs": [
    {
     "data": {
      "text/html": [
       "<div>\n",
       "<style scoped>\n",
       "    .dataframe tbody tr th:only-of-type {\n",
       "        vertical-align: middle;\n",
       "    }\n",
       "\n",
       "    .dataframe tbody tr th {\n",
       "        vertical-align: top;\n",
       "    }\n",
       "\n",
       "    .dataframe thead th {\n",
       "        text-align: right;\n",
       "    }\n",
       "</style>\n",
       "<table border=\"1\" class=\"dataframe\">\n",
       "  <thead>\n",
       "    <tr style=\"text-align: right;\">\n",
       "      <th></th>\n",
       "      <th>Date</th>\n",
       "      <th>Open</th>\n",
       "      <th>High</th>\n",
       "      <th>Low</th>\n",
       "      <th>Close</th>\n",
       "      <th>Volume USDT</th>\n",
       "    </tr>\n",
       "  </thead>\n",
       "  <tbody>\n",
       "    <tr>\n",
       "      <th>0</th>\n",
       "      <td>2022-12-31 23:00:00</td>\n",
       "      <td>16520.28</td>\n",
       "      <td>16551.24</td>\n",
       "      <td>16487.74</td>\n",
       "      <td>16542.40</td>\n",
       "      <td>8.217183e+07</td>\n",
       "    </tr>\n",
       "    <tr>\n",
       "      <th>1</th>\n",
       "      <td>2022-12-31 22:00:00</td>\n",
       "      <td>16548.28</td>\n",
       "      <td>16567.49</td>\n",
       "      <td>16470.00</td>\n",
       "      <td>16520.81</td>\n",
       "      <td>1.106669e+08</td>\n",
       "    </tr>\n",
       "    <tr>\n",
       "      <th>2</th>\n",
       "      <td>2022-12-31 21:00:00</td>\n",
       "      <td>16568.19</td>\n",
       "      <td>16571.64</td>\n",
       "      <td>16544.12</td>\n",
       "      <td>16548.28</td>\n",
       "      <td>5.992803e+07</td>\n",
       "    </tr>\n",
       "    <tr>\n",
       "      <th>3</th>\n",
       "      <td>2022-12-31 20:00:00</td>\n",
       "      <td>16570.14</td>\n",
       "      <td>16574.97</td>\n",
       "      <td>16564.09</td>\n",
       "      <td>16568.60</td>\n",
       "      <td>4.344849e+07</td>\n",
       "    </tr>\n",
       "    <tr>\n",
       "      <th>4</th>\n",
       "      <td>2022-12-31 19:00:00</td>\n",
       "      <td>16577.78</td>\n",
       "      <td>16590.06</td>\n",
       "      <td>16565.10</td>\n",
       "      <td>16570.14</td>\n",
       "      <td>6.704605e+07</td>\n",
       "    </tr>\n",
       "    <tr>\n",
       "      <th>...</th>\n",
       "      <td>...</td>\n",
       "      <td>...</td>\n",
       "      <td>...</td>\n",
       "      <td>...</td>\n",
       "      <td>...</td>\n",
       "      <td>...</td>\n",
       "    </tr>\n",
       "    <tr>\n",
       "      <th>26269</th>\n",
       "      <td>2020-01-01 04:00:00</td>\n",
       "      <td>7225.00</td>\n",
       "      <td>7230.00</td>\n",
       "      <td>7215.03</td>\n",
       "      <td>7217.27</td>\n",
       "      <td>3.379094e+06</td>\n",
       "    </tr>\n",
       "    <tr>\n",
       "      <th>26270</th>\n",
       "      <td>2020-01-01 03:00:00</td>\n",
       "      <td>7242.66</td>\n",
       "      <td>7245.00</td>\n",
       "      <td>7220.00</td>\n",
       "      <td>7225.01</td>\n",
       "      <td>5.667367e+06</td>\n",
       "    </tr>\n",
       "    <tr>\n",
       "      <th>26271</th>\n",
       "      <td>2020-01-01 02:00:00</td>\n",
       "      <td>7215.52</td>\n",
       "      <td>7244.87</td>\n",
       "      <td>7211.41</td>\n",
       "      <td>7242.85</td>\n",
       "      <td>4.736719e+06</td>\n",
       "    </tr>\n",
       "    <tr>\n",
       "      <th>26272</th>\n",
       "      <td>2020-01-01 01:00:00</td>\n",
       "      <td>7176.47</td>\n",
       "      <td>7230.00</td>\n",
       "      <td>7175.71</td>\n",
       "      <td>7216.27</td>\n",
       "      <td>6.365953e+06</td>\n",
       "    </tr>\n",
       "    <tr>\n",
       "      <th>26273</th>\n",
       "      <td>2020-01-01 00:00:00</td>\n",
       "      <td>7195.24</td>\n",
       "      <td>7196.25</td>\n",
       "      <td>7175.46</td>\n",
       "      <td>7177.02</td>\n",
       "      <td>3.675857e+06</td>\n",
       "    </tr>\n",
       "  </tbody>\n",
       "</table>\n",
       "<p>26274 rows × 6 columns</p>\n",
       "</div>"
      ],
      "text/plain": [
       "                      Date      Open      High       Low     Close  \\\n",
       "0      2022-12-31 23:00:00  16520.28  16551.24  16487.74  16542.40   \n",
       "1      2022-12-31 22:00:00  16548.28  16567.49  16470.00  16520.81   \n",
       "2      2022-12-31 21:00:00  16568.19  16571.64  16544.12  16548.28   \n",
       "3      2022-12-31 20:00:00  16570.14  16574.97  16564.09  16568.60   \n",
       "4      2022-12-31 19:00:00  16577.78  16590.06  16565.10  16570.14   \n",
       "...                    ...       ...       ...       ...       ...   \n",
       "26269  2020-01-01 04:00:00   7225.00   7230.00   7215.03   7217.27   \n",
       "26270  2020-01-01 03:00:00   7242.66   7245.00   7220.00   7225.01   \n",
       "26271  2020-01-01 02:00:00   7215.52   7244.87   7211.41   7242.85   \n",
       "26272  2020-01-01 01:00:00   7176.47   7230.00   7175.71   7216.27   \n",
       "26273  2020-01-01 00:00:00   7195.24   7196.25   7175.46   7177.02   \n",
       "\n",
       "        Volume USDT  \n",
       "0      8.217183e+07  \n",
       "1      1.106669e+08  \n",
       "2      5.992803e+07  \n",
       "3      4.344849e+07  \n",
       "4      6.704605e+07  \n",
       "...             ...  \n",
       "26269  3.379094e+06  \n",
       "26270  5.667367e+06  \n",
       "26271  4.736719e+06  \n",
       "26272  6.365953e+06  \n",
       "26273  3.675857e+06  \n",
       "\n",
       "[26274 rows x 6 columns]"
      ]
     },
     "execution_count": 8,
     "metadata": {},
     "output_type": "execute_result"
    }
   ],
   "source": [
    "btc_dfd"
   ]
  },
  {
   "cell_type": "code",
   "execution_count": 4,
   "id": "57f55621-28fe-4ec4-a534-24540aa20020",
   "metadata": {},
   "outputs": [
    {
     "name": "stdout",
     "output_type": "stream",
     "text": [
      "(20969, 50, 5) (20969,) (5205, 50, 5) (5205,)\n"
     ]
    }
   ],
   "source": [
    "print(train_X.shape, train_y.shape, test_X.shape, test_y.shape)"
   ]
  },
  {
   "cell_type": "code",
   "execution_count": 5,
   "id": "0e955542-c74d-4e48-9eea-696ca4022b95",
   "metadata": {},
   "outputs": [
    {
     "name": "stdout",
     "output_type": "stream",
     "text": [
      "Metal device set to: Apple M1\n"
     ]
    },
    {
     "name": "stderr",
     "output_type": "stream",
     "text": [
      "2023-04-10 16:43:20.379817: I tensorflow/core/common_runtime/pluggable_device/pluggable_device_factory.cc:306] Could not identify NUMA node of platform GPU ID 0, defaulting to 0. Your kernel may not have been built with NUMA support.\n",
      "2023-04-10 16:43:20.379942: I tensorflow/core/common_runtime/pluggable_device/pluggable_device_factory.cc:272] Created TensorFlow device (/job:localhost/replica:0/task:0/device:GPU:0 with 0 MB memory) -> physical PluggableDevice (device: 0, name: METAL, pci bus id: <undefined>)\n",
      "2023-04-10 16:43:21.442704: W tensorflow/core/platform/profile_utils/cpu_utils.cc:128] Failed to get CPU frequency: 0 Hz\n",
      "2023-04-10 16:43:21.830102: I tensorflow/core/grappler/optimizers/custom_graph_optimizer_registry.cc:114] Plugin optimizer for device_type GPU is enabled.\n",
      "2023-04-10 16:43:21.907605: I tensorflow/core/grappler/optimizers/custom_graph_optimizer_registry.cc:114] Plugin optimizer for device_type GPU is enabled.\n",
      "2023-04-10 16:43:21.923071: I tensorflow/core/grappler/optimizers/custom_graph_optimizer_registry.cc:114] Plugin optimizer for device_type GPU is enabled.\n"
     ]
    },
    {
     "name": "stdout",
     "output_type": "stream",
     "text": [
      "163/163 [==============================] - 8s 34ms/step\n",
      "(32, 25, 50)\n",
      "Neurons: 50\n",
      "RMSE\n",
      "681.1301011499193\n",
      "MAE\n",
      "589.2629086665476\n",
      "MAPE\n",
      "3.0867206734173003\n"
     ]
    },
    {
     "name": "stderr",
     "output_type": "stream",
     "text": [
      "2023-04-10 16:43:30.181071: I tensorflow/core/grappler/optimizers/custom_graph_optimizer_registry.cc:114] Plugin optimizer for device_type GPU is enabled.\n",
      "2023-04-10 16:43:30.246043: I tensorflow/core/grappler/optimizers/custom_graph_optimizer_registry.cc:114] Plugin optimizer for device_type GPU is enabled.\n",
      "2023-04-10 16:43:30.263590: I tensorflow/core/grappler/optimizers/custom_graph_optimizer_registry.cc:114] Plugin optimizer for device_type GPU is enabled.\n"
     ]
    },
    {
     "name": "stdout",
     "output_type": "stream",
     "text": [
      "163/163 [==============================] - 5s 25ms/step\n",
      "(32, 25, 60)\n",
      "Neurons: 60\n",
      "RMSE\n",
      "421.8519002555145\n",
      "MAE\n",
      "356.85076686329296\n",
      "MAPE\n",
      "1.8443966291874465\n"
     ]
    },
    {
     "name": "stderr",
     "output_type": "stream",
     "text": [
      "2023-04-10 16:43:35.505964: I tensorflow/core/grappler/optimizers/custom_graph_optimizer_registry.cc:114] Plugin optimizer for device_type GPU is enabled.\n",
      "2023-04-10 16:43:35.579774: I tensorflow/core/grappler/optimizers/custom_graph_optimizer_registry.cc:114] Plugin optimizer for device_type GPU is enabled.\n",
      "2023-04-10 16:43:35.591828: I tensorflow/core/grappler/optimizers/custom_graph_optimizer_registry.cc:114] Plugin optimizer for device_type GPU is enabled.\n"
     ]
    },
    {
     "name": "stdout",
     "output_type": "stream",
     "text": [
      "163/163 [==============================] - 5s 26ms/step\n",
      "(32, 25, 100)\n",
      "Neurons: 100\n",
      "RMSE\n",
      "493.9961625091142\n",
      "MAE\n",
      "426.5837351479954\n",
      "MAPE\n",
      "2.217758007567038\n"
     ]
    },
    {
     "name": "stderr",
     "output_type": "stream",
     "text": [
      "2023-04-10 16:43:40.667396: I tensorflow/core/grappler/optimizers/custom_graph_optimizer_registry.cc:114] Plugin optimizer for device_type GPU is enabled.\n",
      "2023-04-10 16:43:40.750882: I tensorflow/core/grappler/optimizers/custom_graph_optimizer_registry.cc:114] Plugin optimizer for device_type GPU is enabled.\n",
      "2023-04-10 16:43:40.766243: I tensorflow/core/grappler/optimizers/custom_graph_optimizer_registry.cc:114] Plugin optimizer for device_type GPU is enabled.\n"
     ]
    },
    {
     "name": "stdout",
     "output_type": "stream",
     "text": [
      "163/163 [==============================] - 5s 27ms/step\n",
      "(32, 50, 50)\n",
      "Neurons: 50\n",
      "RMSE\n",
      "965.1049425358328\n",
      "MAE\n",
      "900.3861524225513\n",
      "MAPE\n",
      "4.680678843614316\n"
     ]
    },
    {
     "name": "stderr",
     "output_type": "stream",
     "text": [
      "2023-04-10 16:43:46.092866: I tensorflow/core/grappler/optimizers/custom_graph_optimizer_registry.cc:114] Plugin optimizer for device_type GPU is enabled.\n",
      "2023-04-10 16:43:46.173143: I tensorflow/core/grappler/optimizers/custom_graph_optimizer_registry.cc:114] Plugin optimizer for device_type GPU is enabled.\n",
      "2023-04-10 16:43:46.187069: I tensorflow/core/grappler/optimizers/custom_graph_optimizer_registry.cc:114] Plugin optimizer for device_type GPU is enabled.\n"
     ]
    },
    {
     "name": "stdout",
     "output_type": "stream",
     "text": [
      "163/163 [==============================] - 4s 20ms/step\n",
      "(32, 50, 60)\n",
      "Neurons: 60\n",
      "RMSE\n",
      "413.213962793564\n",
      "MAE\n",
      "347.1794733429403\n",
      "MAPE\n",
      "1.8002363422049268\n"
     ]
    },
    {
     "name": "stderr",
     "output_type": "stream",
     "text": [
      "2023-04-10 16:43:50.317421: I tensorflow/core/grappler/optimizers/custom_graph_optimizer_registry.cc:114] Plugin optimizer for device_type GPU is enabled.\n",
      "2023-04-10 16:43:50.384805: I tensorflow/core/grappler/optimizers/custom_graph_optimizer_registry.cc:114] Plugin optimizer for device_type GPU is enabled.\n",
      "2023-04-10 16:43:50.395736: I tensorflow/core/grappler/optimizers/custom_graph_optimizer_registry.cc:114] Plugin optimizer for device_type GPU is enabled.\n"
     ]
    },
    {
     "name": "stdout",
     "output_type": "stream",
     "text": [
      "163/163 [==============================] - 4s 19ms/step\n",
      "(32, 50, 100)\n",
      "Neurons: 100\n",
      "RMSE\n",
      "912.5726598415063\n",
      "MAE\n",
      "846.2458578590307\n",
      "MAPE\n",
      "4.403916633039235\n"
     ]
    },
    {
     "name": "stderr",
     "output_type": "stream",
     "text": [
      "2023-04-10 16:43:54.330772: I tensorflow/core/grappler/optimizers/custom_graph_optimizer_registry.cc:114] Plugin optimizer for device_type GPU is enabled.\n",
      "2023-04-10 16:43:54.395249: I tensorflow/core/grappler/optimizers/custom_graph_optimizer_registry.cc:114] Plugin optimizer for device_type GPU is enabled.\n",
      "2023-04-10 16:43:54.406323: I tensorflow/core/grappler/optimizers/custom_graph_optimizer_registry.cc:114] Plugin optimizer for device_type GPU is enabled.\n"
     ]
    },
    {
     "name": "stdout",
     "output_type": "stream",
     "text": [
      "163/163 [==============================] - 4s 21ms/step\n",
      "(32, 100, 50)\n",
      "Neurons: 50\n",
      "RMSE\n",
      "719.6906829597089\n",
      "MAE\n",
      "644.8211225684433\n",
      "MAPE\n",
      "3.361774500915919\n"
     ]
    },
    {
     "name": "stderr",
     "output_type": "stream",
     "text": [
      "2023-04-10 16:43:58.906604: I tensorflow/core/grappler/optimizers/custom_graph_optimizer_registry.cc:114] Plugin optimizer for device_type GPU is enabled.\n",
      "2023-04-10 16:43:58.970804: I tensorflow/core/grappler/optimizers/custom_graph_optimizer_registry.cc:114] Plugin optimizer for device_type GPU is enabled.\n",
      "2023-04-10 16:43:58.981898: I tensorflow/core/grappler/optimizers/custom_graph_optimizer_registry.cc:114] Plugin optimizer for device_type GPU is enabled.\n"
     ]
    },
    {
     "name": "stdout",
     "output_type": "stream",
     "text": [
      "163/163 [==============================] - 4s 19ms/step\n",
      "(32, 100, 60)\n",
      "Neurons: 60\n",
      "RMSE\n",
      "651.2399357641782\n",
      "MAE\n",
      "580.0481232438764\n",
      "MAPE\n",
      "3.022838684777118\n"
     ]
    },
    {
     "name": "stderr",
     "output_type": "stream",
     "text": [
      "2023-04-10 16:44:02.900546: I tensorflow/core/grappler/optimizers/custom_graph_optimizer_registry.cc:114] Plugin optimizer for device_type GPU is enabled.\n",
      "2023-04-10 16:44:02.958844: I tensorflow/core/grappler/optimizers/custom_graph_optimizer_registry.cc:114] Plugin optimizer for device_type GPU is enabled.\n",
      "2023-04-10 16:44:02.970198: I tensorflow/core/grappler/optimizers/custom_graph_optimizer_registry.cc:114] Plugin optimizer for device_type GPU is enabled.\n"
     ]
    },
    {
     "name": "stdout",
     "output_type": "stream",
     "text": [
      "163/163 [==============================] - 4s 25ms/step\n",
      "(32, 100, 100)\n",
      "Neurons: 100\n",
      "RMSE\n",
      "667.2982127139787\n",
      "MAE\n",
      "593.1468456487154\n",
      "MAPE\n",
      "3.0935118038747196\n"
     ]
    },
    {
     "name": "stderr",
     "output_type": "stream",
     "text": [
      "2023-04-10 16:44:07.743990: I tensorflow/core/grappler/optimizers/custom_graph_optimizer_registry.cc:114] Plugin optimizer for device_type GPU is enabled.\n",
      "2023-04-10 16:44:07.804684: I tensorflow/core/grappler/optimizers/custom_graph_optimizer_registry.cc:114] Plugin optimizer for device_type GPU is enabled.\n",
      "2023-04-10 16:44:07.816499: I tensorflow/core/grappler/optimizers/custom_graph_optimizer_registry.cc:114] Plugin optimizer for device_type GPU is enabled.\n"
     ]
    },
    {
     "name": "stdout",
     "output_type": "stream",
     "text": [
      "163/163 [==============================] - 4s 22ms/step\n",
      "(64, 25, 50)\n",
      "Neurons: 50\n",
      "RMSE\n",
      "2462.2899758271374\n",
      "MAE\n",
      "2404.139902557637\n",
      "MAPE\n",
      "12.330079980431075\n"
     ]
    },
    {
     "name": "stderr",
     "output_type": "stream",
     "text": [
      "2023-04-10 16:44:12.137430: I tensorflow/core/grappler/optimizers/custom_graph_optimizer_registry.cc:114] Plugin optimizer for device_type GPU is enabled.\n",
      "2023-04-10 16:44:12.196050: I tensorflow/core/grappler/optimizers/custom_graph_optimizer_registry.cc:114] Plugin optimizer for device_type GPU is enabled.\n",
      "2023-04-10 16:44:12.207211: I tensorflow/core/grappler/optimizers/custom_graph_optimizer_registry.cc:114] Plugin optimizer for device_type GPU is enabled.\n"
     ]
    },
    {
     "name": "stdout",
     "output_type": "stream",
     "text": [
      "163/163 [==============================] - 4s 20ms/step\n",
      "(64, 25, 60)\n",
      "Neurons: 60\n",
      "RMSE\n",
      "424.0774338992268\n",
      "MAE\n",
      "355.5530907255649\n",
      "MAPE\n",
      "1.867825607465155\n"
     ]
    },
    {
     "name": "stderr",
     "output_type": "stream",
     "text": [
      "2023-04-10 16:44:16.232414: I tensorflow/core/grappler/optimizers/custom_graph_optimizer_registry.cc:114] Plugin optimizer for device_type GPU is enabled.\n",
      "2023-04-10 16:44:16.299154: I tensorflow/core/grappler/optimizers/custom_graph_optimizer_registry.cc:114] Plugin optimizer for device_type GPU is enabled.\n",
      "2023-04-10 16:44:16.315274: I tensorflow/core/grappler/optimizers/custom_graph_optimizer_registry.cc:114] Plugin optimizer for device_type GPU is enabled.\n"
     ]
    },
    {
     "name": "stdout",
     "output_type": "stream",
     "text": [
      "163/163 [==============================] - 4s 21ms/step\n",
      "(64, 25, 100)\n",
      "Neurons: 100\n",
      "RMSE\n",
      "372.18359178122876\n",
      "MAE\n",
      "311.6731372628484\n",
      "MAPE\n",
      "1.6270858536642114\n"
     ]
    },
    {
     "name": "stderr",
     "output_type": "stream",
     "text": [
      "2023-04-10 16:44:20.879018: I tensorflow/core/grappler/optimizers/custom_graph_optimizer_registry.cc:114] Plugin optimizer for device_type GPU is enabled.\n",
      "2023-04-10 16:44:20.954266: I tensorflow/core/grappler/optimizers/custom_graph_optimizer_registry.cc:114] Plugin optimizer for device_type GPU is enabled.\n",
      "2023-04-10 16:44:20.966006: I tensorflow/core/grappler/optimizers/custom_graph_optimizer_registry.cc:114] Plugin optimizer for device_type GPU is enabled.\n"
     ]
    },
    {
     "name": "stdout",
     "output_type": "stream",
     "text": [
      "163/163 [==============================] - 4s 23ms/step\n",
      "(64, 50, 50)\n",
      "Neurons: 50\n",
      "RMSE\n",
      "2020.0321735075408\n",
      "MAE\n",
      "1974.6265777797753\n",
      "MAPE\n",
      "10.102330295814358\n"
     ]
    },
    {
     "name": "stderr",
     "output_type": "stream",
     "text": [
      "2023-04-10 16:44:25.465627: I tensorflow/core/grappler/optimizers/custom_graph_optimizer_registry.cc:114] Plugin optimizer for device_type GPU is enabled.\n",
      "2023-04-10 16:44:25.527983: I tensorflow/core/grappler/optimizers/custom_graph_optimizer_registry.cc:114] Plugin optimizer for device_type GPU is enabled.\n",
      "2023-04-10 16:44:25.539039: I tensorflow/core/grappler/optimizers/custom_graph_optimizer_registry.cc:114] Plugin optimizer for device_type GPU is enabled.\n"
     ]
    },
    {
     "name": "stdout",
     "output_type": "stream",
     "text": [
      "163/163 [==============================] - 4s 20ms/step\n",
      "(64, 50, 60)\n",
      "Neurons: 60\n",
      "RMSE\n",
      "421.4290922215995\n",
      "MAE\n",
      "374.11482529568946\n",
      "MAPE\n",
      "1.9572309218421833\n"
     ]
    },
    {
     "name": "stderr",
     "output_type": "stream",
     "text": [
      "2023-04-10 16:44:29.592790: I tensorflow/core/grappler/optimizers/custom_graph_optimizer_registry.cc:114] Plugin optimizer for device_type GPU is enabled.\n",
      "2023-04-10 16:44:29.652882: I tensorflow/core/grappler/optimizers/custom_graph_optimizer_registry.cc:114] Plugin optimizer for device_type GPU is enabled.\n",
      "2023-04-10 16:44:29.663761: I tensorflow/core/grappler/optimizers/custom_graph_optimizer_registry.cc:114] Plugin optimizer for device_type GPU is enabled.\n"
     ]
    },
    {
     "name": "stdout",
     "output_type": "stream",
     "text": [
      "163/163 [==============================] - 4s 21ms/step\n",
      "(64, 50, 100)\n",
      "Neurons: 100\n",
      "RMSE\n",
      "340.37313615477575\n",
      "MAE\n",
      "290.2775766090303\n",
      "MAPE\n",
      "1.5214451807697502\n"
     ]
    },
    {
     "name": "stderr",
     "output_type": "stream",
     "text": [
      "2023-04-10 16:44:33.801658: I tensorflow/core/grappler/optimizers/custom_graph_optimizer_registry.cc:114] Plugin optimizer for device_type GPU is enabled.\n",
      "2023-04-10 16:44:33.864147: I tensorflow/core/grappler/optimizers/custom_graph_optimizer_registry.cc:114] Plugin optimizer for device_type GPU is enabled.\n",
      "2023-04-10 16:44:33.875750: I tensorflow/core/grappler/optimizers/custom_graph_optimizer_registry.cc:114] Plugin optimizer for device_type GPU is enabled.\n"
     ]
    },
    {
     "name": "stdout",
     "output_type": "stream",
     "text": [
      "163/163 [==============================] - 4s 22ms/step\n",
      "(64, 100, 50)\n",
      "Neurons: 50\n",
      "RMSE\n",
      "1245.5797811281868\n",
      "MAE\n",
      "1196.8731764079002\n",
      "MAPE\n",
      "6.183765205449944\n"
     ]
    },
    {
     "name": "stderr",
     "output_type": "stream",
     "text": [
      "2023-04-10 16:44:38.247581: I tensorflow/core/grappler/optimizers/custom_graph_optimizer_registry.cc:114] Plugin optimizer for device_type GPU is enabled.\n",
      "2023-04-10 16:44:38.321960: I tensorflow/core/grappler/optimizers/custom_graph_optimizer_registry.cc:114] Plugin optimizer for device_type GPU is enabled.\n",
      "2023-04-10 16:44:38.333705: I tensorflow/core/grappler/optimizers/custom_graph_optimizer_registry.cc:114] Plugin optimizer for device_type GPU is enabled.\n"
     ]
    },
    {
     "name": "stdout",
     "output_type": "stream",
     "text": [
      "163/163 [==============================] - 4s 21ms/step\n",
      "(64, 100, 60)\n",
      "Neurons: 60\n",
      "RMSE\n",
      "255.83864446774587\n",
      "MAE\n",
      "214.25201119716627\n",
      "MAPE\n",
      "1.1131538200697482\n"
     ]
    },
    {
     "name": "stderr",
     "output_type": "stream",
     "text": [
      "2023-04-10 16:44:42.874359: I tensorflow/core/grappler/optimizers/custom_graph_optimizer_registry.cc:114] Plugin optimizer for device_type GPU is enabled.\n",
      "2023-04-10 16:44:42.940106: I tensorflow/core/grappler/optimizers/custom_graph_optimizer_registry.cc:114] Plugin optimizer for device_type GPU is enabled.\n",
      "2023-04-10 16:44:42.956362: I tensorflow/core/grappler/optimizers/custom_graph_optimizer_registry.cc:114] Plugin optimizer for device_type GPU is enabled.\n"
     ]
    },
    {
     "name": "stdout",
     "output_type": "stream",
     "text": [
      "163/163 [==============================] - 4s 23ms/step\n",
      "(64, 100, 100)\n",
      "Neurons: 100\n",
      "RMSE\n",
      "263.57537041257274\n",
      "MAE\n",
      "220.18104706262014\n",
      "MAPE\n",
      "1.1424654592611834\n"
     ]
    },
    {
     "name": "stderr",
     "output_type": "stream",
     "text": [
      "2023-04-10 16:44:47.537243: I tensorflow/core/grappler/optimizers/custom_graph_optimizer_registry.cc:114] Plugin optimizer for device_type GPU is enabled.\n",
      "2023-04-10 16:44:47.602703: I tensorflow/core/grappler/optimizers/custom_graph_optimizer_registry.cc:114] Plugin optimizer for device_type GPU is enabled.\n",
      "2023-04-10 16:44:47.620247: I tensorflow/core/grappler/optimizers/custom_graph_optimizer_registry.cc:114] Plugin optimizer for device_type GPU is enabled.\n"
     ]
    },
    {
     "name": "stdout",
     "output_type": "stream",
     "text": [
      "163/163 [==============================] - 4s 23ms/step\n",
      "(128, 25, 50)\n",
      "Neurons: 50\n",
      "RMSE\n",
      "1258.1892447050093\n",
      "MAE\n",
      "1126.7368498514027\n",
      "MAPE\n",
      "5.467966317780372\n"
     ]
    },
    {
     "name": "stderr",
     "output_type": "stream",
     "text": [
      "2023-04-10 16:44:52.208563: I tensorflow/core/grappler/optimizers/custom_graph_optimizer_registry.cc:114] Plugin optimizer for device_type GPU is enabled.\n",
      "2023-04-10 16:44:52.278125: I tensorflow/core/grappler/optimizers/custom_graph_optimizer_registry.cc:114] Plugin optimizer for device_type GPU is enabled.\n",
      "2023-04-10 16:44:52.290587: I tensorflow/core/grappler/optimizers/custom_graph_optimizer_registry.cc:114] Plugin optimizer for device_type GPU is enabled.\n"
     ]
    },
    {
     "name": "stdout",
     "output_type": "stream",
     "text": [
      "163/163 [==============================] - 4s 21ms/step\n",
      "(128, 25, 60)\n",
      "Neurons: 60\n",
      "RMSE\n",
      "751.2877421770037\n",
      "MAE\n",
      "587.3317437334873\n",
      "MAPE\n",
      "2.756096736633138\n"
     ]
    },
    {
     "name": "stderr",
     "output_type": "stream",
     "text": [
      "2023-04-10 16:44:56.522167: I tensorflow/core/grappler/optimizers/custom_graph_optimizer_registry.cc:114] Plugin optimizer for device_type GPU is enabled.\n",
      "2023-04-10 16:44:56.582551: I tensorflow/core/grappler/optimizers/custom_graph_optimizer_registry.cc:114] Plugin optimizer for device_type GPU is enabled.\n",
      "2023-04-10 16:44:56.594074: I tensorflow/core/grappler/optimizers/custom_graph_optimizer_registry.cc:114] Plugin optimizer for device_type GPU is enabled.\n"
     ]
    },
    {
     "name": "stdout",
     "output_type": "stream",
     "text": [
      "163/163 [==============================] - 4s 21ms/step\n",
      "(128, 25, 100)\n",
      "Neurons: 100\n",
      "RMSE\n",
      "583.9557513663866\n",
      "MAE\n",
      "422.2928721106508\n",
      "MAPE\n",
      "1.9687765538423632\n"
     ]
    },
    {
     "name": "stderr",
     "output_type": "stream",
     "text": [
      "2023-04-10 16:45:00.755668: I tensorflow/core/grappler/optimizers/custom_graph_optimizer_registry.cc:114] Plugin optimizer for device_type GPU is enabled.\n",
      "2023-04-10 16:45:00.869425: I tensorflow/core/grappler/optimizers/custom_graph_optimizer_registry.cc:114] Plugin optimizer for device_type GPU is enabled.\n",
      "2023-04-10 16:45:00.881222: I tensorflow/core/grappler/optimizers/custom_graph_optimizer_registry.cc:114] Plugin optimizer for device_type GPU is enabled.\n"
     ]
    },
    {
     "name": "stdout",
     "output_type": "stream",
     "text": [
      "163/163 [==============================] - 4s 19ms/step\n",
      "(128, 50, 50)\n",
      "Neurons: 50\n",
      "RMSE\n",
      "699.1418229125792\n",
      "MAE\n",
      "510.2127034552109\n",
      "MAPE\n",
      "2.4431951981473032\n"
     ]
    },
    {
     "name": "stderr",
     "output_type": "stream",
     "text": [
      "2023-04-10 16:45:05.038466: I tensorflow/core/grappler/optimizers/custom_graph_optimizer_registry.cc:114] Plugin optimizer for device_type GPU is enabled.\n",
      "2023-04-10 16:45:05.101181: I tensorflow/core/grappler/optimizers/custom_graph_optimizer_registry.cc:114] Plugin optimizer for device_type GPU is enabled.\n",
      "2023-04-10 16:45:05.112032: I tensorflow/core/grappler/optimizers/custom_graph_optimizer_registry.cc:114] Plugin optimizer for device_type GPU is enabled.\n"
     ]
    },
    {
     "name": "stdout",
     "output_type": "stream",
     "text": [
      "163/163 [==============================] - 3s 17ms/step\n",
      "(128, 50, 60)\n",
      "Neurons: 60\n",
      "RMSE\n",
      "684.8522537370883\n",
      "MAE\n",
      "533.7959625210128\n",
      "MAPE\n",
      "2.5032884906869217\n"
     ]
    },
    {
     "name": "stderr",
     "output_type": "stream",
     "text": [
      "2023-04-10 16:45:08.590647: I tensorflow/core/grappler/optimizers/custom_graph_optimizer_registry.cc:114] Plugin optimizer for device_type GPU is enabled.\n",
      "2023-04-10 16:45:08.645646: I tensorflow/core/grappler/optimizers/custom_graph_optimizer_registry.cc:114] Plugin optimizer for device_type GPU is enabled.\n",
      "2023-04-10 16:45:08.655906: I tensorflow/core/grappler/optimizers/custom_graph_optimizer_registry.cc:114] Plugin optimizer for device_type GPU is enabled.\n"
     ]
    },
    {
     "name": "stdout",
     "output_type": "stream",
     "text": [
      "163/163 [==============================] - 3s 18ms/step\n",
      "(128, 50, 100)\n",
      "Neurons: 100\n",
      "RMSE\n",
      "909.0291535925511\n",
      "MAE\n",
      "764.4373508645544\n",
      "MAPE\n",
      "3.6698059163749917\n"
     ]
    },
    {
     "name": "stderr",
     "output_type": "stream",
     "text": [
      "2023-04-10 16:45:12.342629: I tensorflow/core/grappler/optimizers/custom_graph_optimizer_registry.cc:114] Plugin optimizer for device_type GPU is enabled.\n",
      "2023-04-10 16:45:12.397661: I tensorflow/core/grappler/optimizers/custom_graph_optimizer_registry.cc:114] Plugin optimizer for device_type GPU is enabled.\n",
      "2023-04-10 16:45:12.407970: I tensorflow/core/grappler/optimizers/custom_graph_optimizer_registry.cc:114] Plugin optimizer for device_type GPU is enabled.\n"
     ]
    },
    {
     "name": "stdout",
     "output_type": "stream",
     "text": [
      "163/163 [==============================] - 3s 16ms/step\n",
      "(128, 100, 50)\n",
      "Neurons: 50\n",
      "RMSE\n",
      "670.2153663452908\n",
      "MAE\n",
      "536.6978675027027\n",
      "MAPE\n",
      "2.5669663555793245\n"
     ]
    },
    {
     "name": "stderr",
     "output_type": "stream",
     "text": [
      "2023-04-10 16:45:15.579311: I tensorflow/core/grappler/optimizers/custom_graph_optimizer_registry.cc:114] Plugin optimizer for device_type GPU is enabled.\n",
      "2023-04-10 16:45:15.627930: I tensorflow/core/grappler/optimizers/custom_graph_optimizer_registry.cc:114] Plugin optimizer for device_type GPU is enabled.\n",
      "2023-04-10 16:45:15.636861: I tensorflow/core/grappler/optimizers/custom_graph_optimizer_registry.cc:114] Plugin optimizer for device_type GPU is enabled.\n"
     ]
    },
    {
     "name": "stdout",
     "output_type": "stream",
     "text": [
      "163/163 [==============================] - 3s 16ms/step\n",
      "(128, 100, 60)\n",
      "Neurons: 60\n",
      "RMSE\n",
      "483.7904366699545\n",
      "MAE\n",
      "376.58085116474587\n",
      "MAPE\n",
      "1.8637432340094173\n"
     ]
    },
    {
     "name": "stderr",
     "output_type": "stream",
     "text": [
      "2023-04-10 16:45:18.830047: I tensorflow/core/grappler/optimizers/custom_graph_optimizer_registry.cc:114] Plugin optimizer for device_type GPU is enabled.\n",
      "2023-04-10 16:45:18.877094: I tensorflow/core/grappler/optimizers/custom_graph_optimizer_registry.cc:114] Plugin optimizer for device_type GPU is enabled.\n",
      "2023-04-10 16:45:18.886213: I tensorflow/core/grappler/optimizers/custom_graph_optimizer_registry.cc:114] Plugin optimizer for device_type GPU is enabled.\n"
     ]
    },
    {
     "name": "stdout",
     "output_type": "stream",
     "text": [
      "163/163 [==============================] - 3s 15ms/step\n",
      "(128, 100, 100)\n",
      "Neurons: 100\n",
      "RMSE\n",
      "766.4110656405072\n",
      "MAE\n",
      "646.4473106838379\n",
      "MAPE\n",
      "3.0991868716650015\n"
     ]
    }
   ],
   "source": [
    "wb1 = Workbook()\n",
    "ws1 = wb1.active\n",
    "i=0\n",
    "for x in hyperparams:\n",
    "    model = keras.models.load_model('../Model BiLSTM BTC/BiLSTM_BTC'+str(x)+'.h5')\n",
    "    test_x2 = test_X\n",
    "    yhat = model.predict(test_x2)\n",
    "    inv_yhat = Preprocessing.inverse_scaler(yhat, scaler)\n",
    "    inv_y = Preprocessing.inverse_scaler(test_y.reshape(-1,1), scaler)\n",
    "    print(x)\n",
    "    print(\"Neurons: \"+str(model.layers[0].layer.units))\n",
    "    i = i+1\n",
    "    ws1['A'+str(i)] = 'BiLSTM'\n",
    "    ws1['B'+str(i)] = hyperparams[i-1][0]\n",
    "    ws1['C'+str(i)] = hyperparams[i-1][1]\n",
    "    ws1['D'+str(i)] = hyperparams[i-1][2]\n",
    "    print('RMSE')\n",
    "    print(Evaluation.rmse(inv_y,inv_yhat))\n",
    "    ws1['E'+str(i)] = Evaluation.rmse(inv_y,inv_yhat)\n",
    "    print('MAE')\n",
    "    print(Evaluation.mae(inv_y,inv_yhat))\n",
    "    ws1['F'+str(i)] = Evaluation.mae(inv_y,inv_yhat)\n",
    "    print('MAPE')\n",
    "    print(Evaluation.mape(inv_y,inv_yhat))\n",
    "    ws1['G'+str(i)] = Evaluation.mape(inv_y,inv_yhat)\n",
    "wb1.save('BiLSTM_BTC_result.xlsx')"
   ]
  },
  {
   "cell_type": "code",
   "execution_count": 6,
   "id": "f4c07bee-6239-46e6-a6b8-02760d753ceb",
   "metadata": {},
   "outputs": [
    {
     "data": {
      "text/plain": [
       "array([0.38531015, 0.38463995, 0.38622127, ..., 0.19251245, 0.19208658,\n",
       "       0.19242129])"
      ]
     },
     "execution_count": 6,
     "metadata": {},
     "output_type": "execute_result"
    }
   ],
   "source": [
    "test_y"
   ]
  },
  {
   "cell_type": "code",
   "execution_count": null,
   "id": "028357f2-9590-4c7c-a322-8fdf48e988d3",
   "metadata": {},
   "outputs": [],
   "source": []
  }
 ],
 "metadata": {
  "kernelspec": {
   "display_name": "Python 3 (ipykernel)",
   "language": "python",
   "name": "python3"
  },
  "language_info": {
   "codemirror_mode": {
    "name": "ipython",
    "version": 3
   },
   "file_extension": ".py",
   "mimetype": "text/x-python",
   "name": "python",
   "nbconvert_exporter": "python",
   "pygments_lexer": "ipython3",
   "version": "3.9.13"
  }
 },
 "nbformat": 4,
 "nbformat_minor": 5
}
