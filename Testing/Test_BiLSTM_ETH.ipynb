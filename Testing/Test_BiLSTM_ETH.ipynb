{
 "cells": [
  {
   "cell_type": "code",
   "execution_count": 1,
   "id": "3d0aa9f1-8162-4f51-8666-384a83630ce5",
   "metadata": {},
   "outputs": [],
   "source": [
    "from tensorflow import keras\n",
    "from Skripsi import Preprocessing\n",
    "from Skripsi import Evaluation\n",
    "from Skripsi import LSTMUnit\n",
    "from pandas import read_csv\n",
    "from pandas import DataFrame\n",
    "import numpy as np\n",
    "import pandas as pd\n",
    "from openpyxl.workbook import Workbook"
   ]
  },
  {
   "cell_type": "code",
   "execution_count": 2,
   "id": "6aa22282-0918-460c-b045-bd64f76068f5",
   "metadata": {},
   "outputs": [],
   "source": [
    "hyperparams = []\n",
    "batch = [16, 32, 64, 128]\n",
    "epoch = [25, 50, 100]\n",
    "neuron = [50, 60, 100]\n",
    "for j in batch:\n",
    "    for k in epoch:\n",
    "        for l in neuron:\n",
    "            hyperparams.append((j,k,l))"
   ]
  },
  {
   "cell_type": "code",
   "execution_count": 3,
   "id": "5afadb25-e60b-4a51-b52f-b7ce399615d4",
   "metadata": {},
   "outputs": [],
   "source": [
    "eth_dfd = pd.read_csv('../Dataset/Binance_ETHUSDT_1h.csv')\n",
    "df = Preprocessing.sort_df(eth_dfd)\n",
    "x, scaler = Preprocessing.minmax_scale(df)\n",
    "train, test = Preprocessing.splitting_data(x)\n",
    "train_X, train_y = Preprocessing.create_dataset(train,25)\n",
    "test_X, test_y = Preprocessing.create_dataset(test,25)"
   ]
  },
  {
   "cell_type": "code",
   "execution_count": 4,
   "id": "57f55621-28fe-4ec4-a534-24540aa20020",
   "metadata": {},
   "outputs": [
    {
     "name": "stdout",
     "output_type": "stream",
     "text": [
      "(20994, 25, 5) (20994,) (5230, 25, 5) (5230,)\n"
     ]
    }
   ],
   "source": [
    "print(train_X.shape, train_y.shape, test_X.shape, test_y.shape)"
   ]
  },
  {
   "cell_type": "code",
   "execution_count": 5,
   "id": "0e955542-c74d-4e48-9eea-696ca4022b95",
   "metadata": {},
   "outputs": [
    {
     "name": "stdout",
     "output_type": "stream",
     "text": [
      "Metal device set to: Apple M1\n"
     ]
    },
    {
     "name": "stderr",
     "output_type": "stream",
     "text": [
      "2023-06-16 08:37:38.586066: I tensorflow/core/common_runtime/pluggable_device/pluggable_device_factory.cc:306] Could not identify NUMA node of platform GPU ID 0, defaulting to 0. Your kernel may not have been built with NUMA support.\n",
      "2023-06-16 08:37:38.586184: I tensorflow/core/common_runtime/pluggable_device/pluggable_device_factory.cc:272] Created TensorFlow device (/job:localhost/replica:0/task:0/device:GPU:0 with 0 MB memory) -> physical PluggableDevice (device: 0, name: METAL, pci bus id: <undefined>)\n",
      "2023-06-16 08:37:39.420930: W tensorflow/core/platform/profile_utils/cpu_utils.cc:128] Failed to get CPU frequency: 0 Hz\n",
      "2023-06-16 08:37:39.602679: I tensorflow/core/grappler/optimizers/custom_graph_optimizer_registry.cc:114] Plugin optimizer for device_type GPU is enabled.\n",
      "2023-06-16 08:37:39.651831: I tensorflow/core/grappler/optimizers/custom_graph_optimizer_registry.cc:114] Plugin optimizer for device_type GPU is enabled.\n",
      "2023-06-16 08:37:39.660982: I tensorflow/core/grappler/optimizers/custom_graph_optimizer_registry.cc:114] Plugin optimizer for device_type GPU is enabled.\n"
     ]
    },
    {
     "name": "stdout",
     "output_type": "stream",
     "text": [
      "164/164 [==============================] - 3s 11ms/step\n",
      "(16, 25, 50)\n",
      "Neurons: 50\n",
      "RMSE\n",
      "16.013290993793238\n",
      "MAE\n",
      "10.887927377266832\n",
      "MAPE\n",
      "0.788075275550597\n",
      "  1/164 [..............................] - ETA: 53s"
     ]
    },
    {
     "name": "stderr",
     "output_type": "stream",
     "text": [
      "2023-06-16 08:37:43.072876: I tensorflow/core/grappler/optimizers/custom_graph_optimizer_registry.cc:114] Plugin optimizer for device_type GPU is enabled.\n",
      "2023-06-16 08:37:43.130074: I tensorflow/core/grappler/optimizers/custom_graph_optimizer_registry.cc:114] Plugin optimizer for device_type GPU is enabled.\n",
      "2023-06-16 08:37:43.139492: I tensorflow/core/grappler/optimizers/custom_graph_optimizer_registry.cc:114] Plugin optimizer for device_type GPU is enabled.\n"
     ]
    },
    {
     "name": "stdout",
     "output_type": "stream",
     "text": [
      "164/164 [==============================] - 2s 10ms/step\n",
      "(16, 25, 60)\n",
      "Neurons: 60\n",
      "RMSE\n",
      "15.987912496027006\n",
      "MAE\n",
      "10.178618821328284\n",
      "MAPE\n",
      "0.7103089187213424\n",
      "  1/164 [..............................] - ETA: 51s"
     ]
    },
    {
     "name": "stderr",
     "output_type": "stream",
     "text": [
      "2023-06-16 08:37:45.416821: I tensorflow/core/grappler/optimizers/custom_graph_optimizer_registry.cc:114] Plugin optimizer for device_type GPU is enabled.\n",
      "2023-06-16 08:37:45.467896: I tensorflow/core/grappler/optimizers/custom_graph_optimizer_registry.cc:114] Plugin optimizer for device_type GPU is enabled.\n",
      "2023-06-16 08:37:45.477152: I tensorflow/core/grappler/optimizers/custom_graph_optimizer_registry.cc:114] Plugin optimizer for device_type GPU is enabled.\n"
     ]
    },
    {
     "name": "stdout",
     "output_type": "stream",
     "text": [
      "164/164 [==============================] - 2s 9ms/step\n",
      "(16, 25, 100)\n",
      "Neurons: 100\n",
      "RMSE\n",
      "40.18482301111503\n",
      "MAE\n",
      "36.183264713323744\n",
      "MAPE\n",
      "2.7500425802297728\n",
      "  1/164 [..............................] - ETA: 51s"
     ]
    },
    {
     "name": "stderr",
     "output_type": "stream",
     "text": [
      "2023-06-16 08:37:47.550150: I tensorflow/core/grappler/optimizers/custom_graph_optimizer_registry.cc:114] Plugin optimizer for device_type GPU is enabled.\n",
      "2023-06-16 08:37:47.598570: I tensorflow/core/grappler/optimizers/custom_graph_optimizer_registry.cc:114] Plugin optimizer for device_type GPU is enabled.\n",
      "2023-06-16 08:37:47.608063: I tensorflow/core/grappler/optimizers/custom_graph_optimizer_registry.cc:114] Plugin optimizer for device_type GPU is enabled.\n"
     ]
    },
    {
     "name": "stdout",
     "output_type": "stream",
     "text": [
      "164/164 [==============================] - 2s 9ms/step\n",
      "(16, 50, 50)\n",
      "Neurons: 50\n",
      "RMSE\n",
      "14.582733670320684\n",
      "MAE\n",
      "9.560822972839281\n",
      "MAPE\n",
      "0.6820987151836713\n",
      "  1/164 [..............................] - ETA: 51s"
     ]
    },
    {
     "name": "stderr",
     "output_type": "stream",
     "text": [
      "2023-06-16 08:37:49.683658: I tensorflow/core/grappler/optimizers/custom_graph_optimizer_registry.cc:114] Plugin optimizer for device_type GPU is enabled.\n",
      "2023-06-16 08:37:49.731119: I tensorflow/core/grappler/optimizers/custom_graph_optimizer_registry.cc:114] Plugin optimizer for device_type GPU is enabled.\n",
      "2023-06-16 08:37:49.740319: I tensorflow/core/grappler/optimizers/custom_graph_optimizer_registry.cc:114] Plugin optimizer for device_type GPU is enabled.\n"
     ]
    },
    {
     "name": "stdout",
     "output_type": "stream",
     "text": [
      "164/164 [==============================] - 2s 10ms/step\n",
      "(16, 50, 60)\n",
      "Neurons: 60\n",
      "RMSE\n",
      "14.667121416630538\n",
      "MAE\n",
      "10.046771116997064\n",
      "MAPE\n",
      "0.7256957200312676\n",
      "  1/164 [..............................] - ETA: 51s"
     ]
    },
    {
     "name": "stderr",
     "output_type": "stream",
     "text": [
      "2023-06-16 08:37:51.953364: I tensorflow/core/grappler/optimizers/custom_graph_optimizer_registry.cc:114] Plugin optimizer for device_type GPU is enabled.\n",
      "2023-06-16 08:37:52.001383: I tensorflow/core/grappler/optimizers/custom_graph_optimizer_registry.cc:114] Plugin optimizer for device_type GPU is enabled.\n",
      "2023-06-16 08:37:52.010705: I tensorflow/core/grappler/optimizers/custom_graph_optimizer_registry.cc:114] Plugin optimizer for device_type GPU is enabled.\n"
     ]
    },
    {
     "name": "stdout",
     "output_type": "stream",
     "text": [
      "164/164 [==============================] - 2s 10ms/step\n",
      "(16, 50, 100)\n",
      "Neurons: 100\n",
      "RMSE\n",
      "16.31096062369741\n",
      "MAE\n",
      "12.330772037075809\n",
      "MAPE\n",
      "0.9176555630937154\n",
      "  1/164 [..............................] - ETA: 50s"
     ]
    },
    {
     "name": "stderr",
     "output_type": "stream",
     "text": [
      "2023-06-16 08:37:54.148679: I tensorflow/core/grappler/optimizers/custom_graph_optimizer_registry.cc:114] Plugin optimizer for device_type GPU is enabled.\n",
      "2023-06-16 08:37:54.195749: I tensorflow/core/grappler/optimizers/custom_graph_optimizer_registry.cc:114] Plugin optimizer for device_type GPU is enabled.\n",
      "2023-06-16 08:37:54.204975: I tensorflow/core/grappler/optimizers/custom_graph_optimizer_registry.cc:114] Plugin optimizer for device_type GPU is enabled.\n"
     ]
    },
    {
     "name": "stdout",
     "output_type": "stream",
     "text": [
      "164/164 [==============================] - 2s 9ms/step\n",
      "(16, 100, 50)\n",
      "Neurons: 50\n",
      "RMSE\n",
      "23.60341672109596\n",
      "MAE\n",
      "20.161300771446978\n",
      "MAPE\n",
      "1.5233946794804256\n",
      "  1/164 [..............................] - ETA: 51s"
     ]
    },
    {
     "name": "stderr",
     "output_type": "stream",
     "text": [
      "2023-06-16 08:37:56.467635: I tensorflow/core/grappler/optimizers/custom_graph_optimizer_registry.cc:114] Plugin optimizer for device_type GPU is enabled.\n",
      "2023-06-16 08:37:56.521391: I tensorflow/core/grappler/optimizers/custom_graph_optimizer_registry.cc:114] Plugin optimizer for device_type GPU is enabled.\n",
      "2023-06-16 08:37:56.530806: I tensorflow/core/grappler/optimizers/custom_graph_optimizer_registry.cc:114] Plugin optimizer for device_type GPU is enabled.\n"
     ]
    },
    {
     "name": "stdout",
     "output_type": "stream",
     "text": [
      "164/164 [==============================] - 2s 9ms/step\n",
      "(16, 100, 60)\n",
      "Neurons: 60\n",
      "RMSE\n",
      "14.926214831892533\n",
      "MAE\n",
      "10.820018956609292\n",
      "MAPE\n",
      "0.7938300561377324\n",
      "  1/164 [..............................] - ETA: 52s"
     ]
    },
    {
     "name": "stderr",
     "output_type": "stream",
     "text": [
      "2023-06-16 08:37:58.596720: I tensorflow/core/grappler/optimizers/custom_graph_optimizer_registry.cc:114] Plugin optimizer for device_type GPU is enabled.\n",
      "2023-06-16 08:37:58.644821: I tensorflow/core/grappler/optimizers/custom_graph_optimizer_registry.cc:114] Plugin optimizer for device_type GPU is enabled.\n",
      "2023-06-16 08:37:58.654183: I tensorflow/core/grappler/optimizers/custom_graph_optimizer_registry.cc:114] Plugin optimizer for device_type GPU is enabled.\n"
     ]
    },
    {
     "name": "stdout",
     "output_type": "stream",
     "text": [
      "164/164 [==============================] - 2s 10ms/step\n",
      "(16, 100, 100)\n",
      "Neurons: 100\n",
      "RMSE\n",
      "27.17410526867205\n",
      "MAE\n",
      "23.729902270461082\n",
      "MAPE\n",
      "1.817965923580856\n",
      "  1/164 [..............................] - ETA: 51s"
     ]
    },
    {
     "name": "stderr",
     "output_type": "stream",
     "text": [
      "2023-06-16 08:38:00.772376: I tensorflow/core/grappler/optimizers/custom_graph_optimizer_registry.cc:114] Plugin optimizer for device_type GPU is enabled.\n",
      "2023-06-16 08:38:00.820263: I tensorflow/core/grappler/optimizers/custom_graph_optimizer_registry.cc:114] Plugin optimizer for device_type GPU is enabled.\n",
      "2023-06-16 08:38:00.829542: I tensorflow/core/grappler/optimizers/custom_graph_optimizer_registry.cc:114] Plugin optimizer for device_type GPU is enabled.\n"
     ]
    },
    {
     "name": "stdout",
     "output_type": "stream",
     "text": [
      "164/164 [==============================] - 2s 10ms/step\n",
      "(32, 25, 50)\n",
      "Neurons: 50\n",
      "RMSE\n",
      "61.37303209496093\n",
      "MAE\n",
      "53.74167304668848\n",
      "MAPE\n",
      "4.1809761834560515\n",
      "  1/164 [..............................] - ETA: 51s"
     ]
    },
    {
     "name": "stderr",
     "output_type": "stream",
     "text": [
      "2023-06-16 08:38:02.939662: I tensorflow/core/grappler/optimizers/custom_graph_optimizer_registry.cc:114] Plugin optimizer for device_type GPU is enabled.\n",
      "2023-06-16 08:38:02.987379: I tensorflow/core/grappler/optimizers/custom_graph_optimizer_registry.cc:114] Plugin optimizer for device_type GPU is enabled.\n",
      "2023-06-16 08:38:02.996395: I tensorflow/core/grappler/optimizers/custom_graph_optimizer_registry.cc:114] Plugin optimizer for device_type GPU is enabled.\n"
     ]
    },
    {
     "name": "stdout",
     "output_type": "stream",
     "text": [
      "164/164 [==============================] - 2s 10ms/step\n",
      "(32, 25, 60)\n",
      "Neurons: 60\n",
      "RMSE\n",
      "39.61880299362649\n",
      "MAE\n",
      "34.10618090773638\n",
      "MAPE\n",
      "2.625628550649294\n",
      "  1/164 [..............................] - ETA: 52s"
     ]
    },
    {
     "name": "stderr",
     "output_type": "stream",
     "text": [
      "2023-06-16 08:38:05.142090: I tensorflow/core/grappler/optimizers/custom_graph_optimizer_registry.cc:114] Plugin optimizer for device_type GPU is enabled.\n",
      "2023-06-16 08:38:05.193222: I tensorflow/core/grappler/optimizers/custom_graph_optimizer_registry.cc:114] Plugin optimizer for device_type GPU is enabled.\n",
      "2023-06-16 08:38:05.202109: I tensorflow/core/grappler/optimizers/custom_graph_optimizer_registry.cc:114] Plugin optimizer for device_type GPU is enabled.\n"
     ]
    },
    {
     "name": "stdout",
     "output_type": "stream",
     "text": [
      "164/164 [==============================] - 2s 10ms/step\n",
      "(32, 25, 100)\n",
      "Neurons: 100\n",
      "RMSE\n",
      "51.525001515589786\n",
      "MAE\n",
      "45.024813004152804\n",
      "MAPE\n",
      "3.4888604423905476\n",
      "  1/164 [..............................] - ETA: 51s"
     ]
    },
    {
     "name": "stderr",
     "output_type": "stream",
     "text": [
      "2023-06-16 08:38:07.587747: I tensorflow/core/grappler/optimizers/custom_graph_optimizer_registry.cc:114] Plugin optimizer for device_type GPU is enabled.\n",
      "2023-06-16 08:38:07.634535: I tensorflow/core/grappler/optimizers/custom_graph_optimizer_registry.cc:114] Plugin optimizer for device_type GPU is enabled.\n",
      "2023-06-16 08:38:07.643933: I tensorflow/core/grappler/optimizers/custom_graph_optimizer_registry.cc:114] Plugin optimizer for device_type GPU is enabled.\n"
     ]
    },
    {
     "name": "stdout",
     "output_type": "stream",
     "text": [
      "164/164 [==============================] - 2s 10ms/step\n",
      "(32, 50, 50)\n",
      "Neurons: 50\n",
      "RMSE\n",
      "43.70541721693545\n",
      "MAE\n",
      "37.81183640384133\n",
      "MAPE\n",
      "2.929328669425791\n",
      "  1/164 [..............................] - ETA: 51s"
     ]
    },
    {
     "name": "stderr",
     "output_type": "stream",
     "text": [
      "2023-06-16 08:38:09.733411: I tensorflow/core/grappler/optimizers/custom_graph_optimizer_registry.cc:114] Plugin optimizer for device_type GPU is enabled.\n",
      "2023-06-16 08:38:09.781901: I tensorflow/core/grappler/optimizers/custom_graph_optimizer_registry.cc:114] Plugin optimizer for device_type GPU is enabled.\n",
      "2023-06-16 08:38:09.793998: I tensorflow/core/grappler/optimizers/custom_graph_optimizer_registry.cc:114] Plugin optimizer for device_type GPU is enabled.\n"
     ]
    },
    {
     "name": "stdout",
     "output_type": "stream",
     "text": [
      "164/164 [==============================] - 2s 9ms/step\n",
      "(32, 50, 60)\n",
      "Neurons: 60\n",
      "RMSE\n",
      "18.31436592725522\n",
      "MAE\n",
      "13.089624413689048\n",
      "MAPE\n",
      "0.8899931218707348\n",
      "  1/164 [..............................] - ETA: 52s"
     ]
    },
    {
     "name": "stderr",
     "output_type": "stream",
     "text": [
      "2023-06-16 08:38:11.886309: I tensorflow/core/grappler/optimizers/custom_graph_optimizer_registry.cc:114] Plugin optimizer for device_type GPU is enabled.\n",
      "2023-06-16 08:38:11.938286: I tensorflow/core/grappler/optimizers/custom_graph_optimizer_registry.cc:114] Plugin optimizer for device_type GPU is enabled.\n",
      "2023-06-16 08:38:11.947420: I tensorflow/core/grappler/optimizers/custom_graph_optimizer_registry.cc:114] Plugin optimizer for device_type GPU is enabled.\n"
     ]
    },
    {
     "name": "stdout",
     "output_type": "stream",
     "text": [
      "164/164 [==============================] - 2s 9ms/step\n",
      "(32, 50, 100)\n",
      "Neurons: 100\n",
      "RMSE\n",
      "21.165706740147247\n",
      "MAE\n",
      "17.59228935098737\n",
      "MAPE\n",
      "1.3008259486767393\n",
      "  6/164 [>.............................] - ETA: 1s "
     ]
    },
    {
     "name": "stderr",
     "output_type": "stream",
     "text": [
      "2023-06-16 08:38:13.975628: I tensorflow/core/grappler/optimizers/custom_graph_optimizer_registry.cc:114] Plugin optimizer for device_type GPU is enabled.\n",
      "2023-06-16 08:38:14.019523: I tensorflow/core/grappler/optimizers/custom_graph_optimizer_registry.cc:114] Plugin optimizer for device_type GPU is enabled.\n",
      "2023-06-16 08:38:14.028017: I tensorflow/core/grappler/optimizers/custom_graph_optimizer_registry.cc:114] Plugin optimizer for device_type GPU is enabled.\n"
     ]
    },
    {
     "name": "stdout",
     "output_type": "stream",
     "text": [
      "164/164 [==============================] - 2s 9ms/step\n",
      "(32, 100, 50)\n",
      "Neurons: 50\n",
      "RMSE\n",
      "15.993382547719365\n",
      "MAE\n",
      "11.169022661664973\n",
      "MAPE\n",
      "0.7691197679091978\n",
      "  1/164 [..............................] - ETA: 50s"
     ]
    },
    {
     "name": "stderr",
     "output_type": "stream",
     "text": [
      "2023-06-16 08:38:15.928587: I tensorflow/core/grappler/optimizers/custom_graph_optimizer_registry.cc:114] Plugin optimizer for device_type GPU is enabled.\n",
      "2023-06-16 08:38:15.976688: I tensorflow/core/grappler/optimizers/custom_graph_optimizer_registry.cc:114] Plugin optimizer for device_type GPU is enabled.\n",
      "2023-06-16 08:38:15.986855: I tensorflow/core/grappler/optimizers/custom_graph_optimizer_registry.cc:114] Plugin optimizer for device_type GPU is enabled.\n"
     ]
    },
    {
     "name": "stdout",
     "output_type": "stream",
     "text": [
      "164/164 [==============================] - 2s 9ms/step\n",
      "(32, 100, 60)\n",
      "Neurons: 60\n",
      "RMSE\n",
      "16.0763393125761\n",
      "MAE\n",
      "11.664805304620312\n",
      "MAPE\n",
      "0.8194662102075062\n",
      "  1/164 [..............................] - ETA: 47s"
     ]
    },
    {
     "name": "stderr",
     "output_type": "stream",
     "text": [
      "2023-06-16 08:38:18.085724: I tensorflow/core/grappler/optimizers/custom_graph_optimizer_registry.cc:114] Plugin optimizer for device_type GPU is enabled.\n",
      "2023-06-16 08:38:18.129816: I tensorflow/core/grappler/optimizers/custom_graph_optimizer_registry.cc:114] Plugin optimizer for device_type GPU is enabled.\n",
      "2023-06-16 08:38:18.138693: I tensorflow/core/grappler/optimizers/custom_graph_optimizer_registry.cc:114] Plugin optimizer for device_type GPU is enabled.\n"
     ]
    },
    {
     "name": "stdout",
     "output_type": "stream",
     "text": [
      "164/164 [==============================] - 2s 10ms/step\n",
      "(32, 100, 100)\n",
      "Neurons: 100\n",
      "RMSE\n",
      "17.337909973539595\n",
      "MAE\n",
      "12.17041195906282\n",
      "MAPE\n",
      "0.8233440583416544\n",
      "  1/164 [..............................] - ETA: 48s"
     ]
    },
    {
     "name": "stderr",
     "output_type": "stream",
     "text": [
      "2023-06-16 08:38:20.188227: I tensorflow/core/grappler/optimizers/custom_graph_optimizer_registry.cc:114] Plugin optimizer for device_type GPU is enabled.\n",
      "2023-06-16 08:38:20.238684: I tensorflow/core/grappler/optimizers/custom_graph_optimizer_registry.cc:114] Plugin optimizer for device_type GPU is enabled.\n",
      "2023-06-16 08:38:20.247365: I tensorflow/core/grappler/optimizers/custom_graph_optimizer_registry.cc:114] Plugin optimizer for device_type GPU is enabled.\n"
     ]
    },
    {
     "name": "stdout",
     "output_type": "stream",
     "text": [
      "164/164 [==============================] - 2s 9ms/step\n",
      "(64, 25, 50)\n",
      "Neurons: 50\n",
      "RMSE\n",
      "94.17442503541469\n",
      "MAE\n",
      "87.08969553656776\n",
      "MAPE\n",
      "6.677454172834087\n",
      "  1/164 [..............................] - ETA: 47s"
     ]
    },
    {
     "name": "stderr",
     "output_type": "stream",
     "text": [
      "2023-06-16 08:38:22.168709: I tensorflow/core/grappler/optimizers/custom_graph_optimizer_registry.cc:114] Plugin optimizer for device_type GPU is enabled.\n",
      "2023-06-16 08:38:22.211784: I tensorflow/core/grappler/optimizers/custom_graph_optimizer_registry.cc:114] Plugin optimizer for device_type GPU is enabled.\n",
      "2023-06-16 08:38:22.220357: I tensorflow/core/grappler/optimizers/custom_graph_optimizer_registry.cc:114] Plugin optimizer for device_type GPU is enabled.\n"
     ]
    },
    {
     "name": "stdout",
     "output_type": "stream",
     "text": [
      "164/164 [==============================] - 2s 9ms/step\n",
      "(64, 25, 60)\n",
      "Neurons: 60\n",
      "RMSE\n",
      "48.44293066265342\n",
      "MAE\n",
      "42.34634843021786\n",
      "MAPE\n",
      "3.264735795402925\n",
      "  1/164 [..............................] - ETA: 48s"
     ]
    },
    {
     "name": "stderr",
     "output_type": "stream",
     "text": [
      "2023-06-16 08:38:24.121283: I tensorflow/core/grappler/optimizers/custom_graph_optimizer_registry.cc:114] Plugin optimizer for device_type GPU is enabled.\n",
      "2023-06-16 08:38:24.164610: I tensorflow/core/grappler/optimizers/custom_graph_optimizer_registry.cc:114] Plugin optimizer for device_type GPU is enabled.\n",
      "2023-06-16 08:38:24.175325: I tensorflow/core/grappler/optimizers/custom_graph_optimizer_registry.cc:114] Plugin optimizer for device_type GPU is enabled.\n"
     ]
    },
    {
     "name": "stdout",
     "output_type": "stream",
     "text": [
      "164/164 [==============================] - 2s 9ms/step\n",
      "(64, 25, 100)\n",
      "Neurons: 100\n",
      "RMSE\n",
      "149.0119948075852\n",
      "MAE\n",
      "141.63892466091033\n",
      "MAPE\n",
      "10.773503138695315\n",
      "  1/164 [..............................] - ETA: 49s"
     ]
    },
    {
     "name": "stderr",
     "output_type": "stream",
     "text": [
      "2023-06-16 08:38:26.192362: I tensorflow/core/grappler/optimizers/custom_graph_optimizer_registry.cc:114] Plugin optimizer for device_type GPU is enabled.\n",
      "2023-06-16 08:38:26.235774: I tensorflow/core/grappler/optimizers/custom_graph_optimizer_registry.cc:114] Plugin optimizer for device_type GPU is enabled.\n",
      "2023-06-16 08:38:26.244208: I tensorflow/core/grappler/optimizers/custom_graph_optimizer_registry.cc:114] Plugin optimizer for device_type GPU is enabled.\n"
     ]
    },
    {
     "name": "stdout",
     "output_type": "stream",
     "text": [
      "164/164 [==============================] - 2s 9ms/step\n",
      "(64, 50, 50)\n",
      "Neurons: 50\n",
      "RMSE\n",
      "82.91378104695507\n",
      "MAE\n",
      "77.04689117676723\n",
      "MAPE\n",
      "5.9057193659525735\n",
      "  1/164 [..............................] - ETA: 1:20"
     ]
    },
    {
     "name": "stderr",
     "output_type": "stream",
     "text": [
      "2023-06-16 08:38:28.368767: I tensorflow/core/grappler/optimizers/custom_graph_optimizer_registry.cc:114] Plugin optimizer for device_type GPU is enabled.\n",
      "2023-06-16 08:38:28.417505: I tensorflow/core/grappler/optimizers/custom_graph_optimizer_registry.cc:114] Plugin optimizer for device_type GPU is enabled.\n",
      "2023-06-16 08:38:28.426239: I tensorflow/core/grappler/optimizers/custom_graph_optimizer_registry.cc:114] Plugin optimizer for device_type GPU is enabled.\n"
     ]
    },
    {
     "name": "stdout",
     "output_type": "stream",
     "text": [
      "164/164 [==============================] - 2s 9ms/step\n",
      "(64, 50, 60)\n",
      "Neurons: 60\n",
      "RMSE\n",
      "44.029772903035564\n",
      "MAE\n",
      "39.10055765593264\n",
      "MAPE\n",
      "3.0346954793041174\n",
      "  1/164 [..............................] - ETA: 49s"
     ]
    },
    {
     "name": "stderr",
     "output_type": "stream",
     "text": [
      "2023-06-16 08:38:30.353204: I tensorflow/core/grappler/optimizers/custom_graph_optimizer_registry.cc:114] Plugin optimizer for device_type GPU is enabled.\n",
      "2023-06-16 08:38:30.396611: I tensorflow/core/grappler/optimizers/custom_graph_optimizer_registry.cc:114] Plugin optimizer for device_type GPU is enabled.\n",
      "2023-06-16 08:38:30.405114: I tensorflow/core/grappler/optimizers/custom_graph_optimizer_registry.cc:114] Plugin optimizer for device_type GPU is enabled.\n"
     ]
    },
    {
     "name": "stdout",
     "output_type": "stream",
     "text": [
      "164/164 [==============================] - 2s 9ms/step\n",
      "(64, 50, 100)\n",
      "Neurons: 100\n",
      "RMSE\n",
      "132.43047166103977\n",
      "MAE\n",
      "126.4878897399315\n",
      "MAPE\n",
      "9.614687409726114\n",
      "  1/164 [..............................] - ETA: 50s"
     ]
    },
    {
     "name": "stderr",
     "output_type": "stream",
     "text": [
      "2023-06-16 08:38:32.445994: I tensorflow/core/grappler/optimizers/custom_graph_optimizer_registry.cc:114] Plugin optimizer for device_type GPU is enabled.\n",
      "2023-06-16 08:38:32.494611: I tensorflow/core/grappler/optimizers/custom_graph_optimizer_registry.cc:114] Plugin optimizer for device_type GPU is enabled.\n",
      "2023-06-16 08:38:32.503345: I tensorflow/core/grappler/optimizers/custom_graph_optimizer_registry.cc:114] Plugin optimizer for device_type GPU is enabled.\n"
     ]
    },
    {
     "name": "stdout",
     "output_type": "stream",
     "text": [
      "164/164 [==============================] - 2s 9ms/step\n",
      "(64, 100, 50)\n",
      "Neurons: 50\n",
      "RMSE\n",
      "94.5588406013091\n",
      "MAE\n",
      "89.42375431330656\n",
      "MAPE\n",
      "6.81951321156616\n",
      "  1/164 [..............................] - ETA: 48s"
     ]
    },
    {
     "name": "stderr",
     "output_type": "stream",
     "text": [
      "2023-06-16 08:38:34.428664: I tensorflow/core/grappler/optimizers/custom_graph_optimizer_registry.cc:114] Plugin optimizer for device_type GPU is enabled.\n",
      "2023-06-16 08:38:34.471777: I tensorflow/core/grappler/optimizers/custom_graph_optimizer_registry.cc:114] Plugin optimizer for device_type GPU is enabled.\n",
      "2023-06-16 08:38:34.481793: I tensorflow/core/grappler/optimizers/custom_graph_optimizer_registry.cc:114] Plugin optimizer for device_type GPU is enabled.\n"
     ]
    },
    {
     "name": "stdout",
     "output_type": "stream",
     "text": [
      "164/164 [==============================] - 2s 9ms/step\n",
      "(64, 100, 60)\n",
      "Neurons: 60\n",
      "RMSE\n",
      "75.12561755973948\n",
      "MAE\n",
      "67.34368687914538\n",
      "MAPE\n",
      "5.262664463891136\n",
      "  1/164 [..............................] - ETA: 50s"
     ]
    },
    {
     "name": "stderr",
     "output_type": "stream",
     "text": [
      "2023-06-16 08:38:36.409521: I tensorflow/core/grappler/optimizers/custom_graph_optimizer_registry.cc:114] Plugin optimizer for device_type GPU is enabled.\n",
      "2023-06-16 08:38:36.452776: I tensorflow/core/grappler/optimizers/custom_graph_optimizer_registry.cc:114] Plugin optimizer for device_type GPU is enabled.\n",
      "2023-06-16 08:38:36.461398: I tensorflow/core/grappler/optimizers/custom_graph_optimizer_registry.cc:114] Plugin optimizer for device_type GPU is enabled.\n"
     ]
    },
    {
     "name": "stdout",
     "output_type": "stream",
     "text": [
      "164/164 [==============================] - 2s 9ms/step\n",
      "(64, 100, 100)\n",
      "Neurons: 100\n",
      "RMSE\n",
      "110.248662100765\n",
      "MAE\n",
      "105.67392132229921\n",
      "MAPE\n",
      "8.002636247866894\n",
      "  1/164 [..............................] - ETA: 47s"
     ]
    },
    {
     "name": "stderr",
     "output_type": "stream",
     "text": [
      "2023-06-16 08:38:38.589240: I tensorflow/core/grappler/optimizers/custom_graph_optimizer_registry.cc:114] Plugin optimizer for device_type GPU is enabled.\n",
      "2023-06-16 08:38:38.632888: I tensorflow/core/grappler/optimizers/custom_graph_optimizer_registry.cc:114] Plugin optimizer for device_type GPU is enabled.\n",
      "2023-06-16 08:38:38.641416: I tensorflow/core/grappler/optimizers/custom_graph_optimizer_registry.cc:114] Plugin optimizer for device_type GPU is enabled.\n"
     ]
    },
    {
     "name": "stdout",
     "output_type": "stream",
     "text": [
      "164/164 [==============================] - 2s 9ms/step\n",
      "(128, 25, 50)\n",
      "Neurons: 50\n",
      "RMSE\n",
      "48.19637483882077\n",
      "MAE\n",
      "41.23773065547336\n",
      "MAPE\n",
      "3.163335639538418\n",
      "  1/164 [..............................] - ETA: 49s"
     ]
    },
    {
     "name": "stderr",
     "output_type": "stream",
     "text": [
      "2023-06-16 08:38:40.549038: I tensorflow/core/grappler/optimizers/custom_graph_optimizer_registry.cc:114] Plugin optimizer for device_type GPU is enabled.\n",
      "2023-06-16 08:38:40.594277: I tensorflow/core/grappler/optimizers/custom_graph_optimizer_registry.cc:114] Plugin optimizer for device_type GPU is enabled.\n",
      "2023-06-16 08:38:40.603203: I tensorflow/core/grappler/optimizers/custom_graph_optimizer_registry.cc:114] Plugin optimizer for device_type GPU is enabled.\n"
     ]
    },
    {
     "name": "stdout",
     "output_type": "stream",
     "text": [
      "164/164 [==============================] - 2s 9ms/step\n",
      "(128, 25, 60)\n",
      "Neurons: 60\n",
      "RMSE\n",
      "60.55729254796846\n",
      "MAE\n",
      "53.31354714108083\n",
      "MAPE\n",
      "4.130183164984218\n",
      "  1/164 [..............................] - ETA: 49s"
     ]
    },
    {
     "name": "stderr",
     "output_type": "stream",
     "text": [
      "2023-06-16 08:38:42.555327: I tensorflow/core/grappler/optimizers/custom_graph_optimizer_registry.cc:114] Plugin optimizer for device_type GPU is enabled.\n",
      "2023-06-16 08:38:42.598227: I tensorflow/core/grappler/optimizers/custom_graph_optimizer_registry.cc:114] Plugin optimizer for device_type GPU is enabled.\n",
      "2023-06-16 08:38:42.606694: I tensorflow/core/grappler/optimizers/custom_graph_optimizer_registry.cc:114] Plugin optimizer for device_type GPU is enabled.\n"
     ]
    },
    {
     "name": "stdout",
     "output_type": "stream",
     "text": [
      "164/164 [==============================] - 2s 9ms/step\n",
      "(128, 25, 100)\n",
      "Neurons: 100\n",
      "RMSE\n",
      "53.96704856675981\n",
      "MAE\n",
      "47.0756749671369\n",
      "MAPE\n",
      "3.6325800428741157\n",
      "  1/164 [..............................] - ETA: 49s"
     ]
    },
    {
     "name": "stderr",
     "output_type": "stream",
     "text": [
      "2023-06-16 08:38:44.618879: I tensorflow/core/grappler/optimizers/custom_graph_optimizer_registry.cc:114] Plugin optimizer for device_type GPU is enabled.\n",
      "2023-06-16 08:38:44.662298: I tensorflow/core/grappler/optimizers/custom_graph_optimizer_registry.cc:114] Plugin optimizer for device_type GPU is enabled.\n",
      "2023-06-16 08:38:44.670768: I tensorflow/core/grappler/optimizers/custom_graph_optimizer_registry.cc:114] Plugin optimizer for device_type GPU is enabled.\n"
     ]
    },
    {
     "name": "stdout",
     "output_type": "stream",
     "text": [
      "164/164 [==============================] - 2s 9ms/step\n",
      "(128, 50, 50)\n",
      "Neurons: 50\n",
      "RMSE\n",
      "40.89467432711445\n",
      "MAE\n",
      "34.9117848696299\n",
      "MAPE\n",
      "2.7185485155390454\n",
      "  1/164 [..............................] - ETA: 49s"
     ]
    },
    {
     "name": "stderr",
     "output_type": "stream",
     "text": [
      "2023-06-16 08:38:46.624831: I tensorflow/core/grappler/optimizers/custom_graph_optimizer_registry.cc:114] Plugin optimizer for device_type GPU is enabled.\n",
      "2023-06-16 08:38:46.669105: I tensorflow/core/grappler/optimizers/custom_graph_optimizer_registry.cc:114] Plugin optimizer for device_type GPU is enabled.\n",
      "2023-06-16 08:38:46.677791: I tensorflow/core/grappler/optimizers/custom_graph_optimizer_registry.cc:114] Plugin optimizer for device_type GPU is enabled.\n"
     ]
    },
    {
     "name": "stdout",
     "output_type": "stream",
     "text": [
      "164/164 [==============================] - 2s 9ms/step\n",
      "(128, 50, 60)\n",
      "Neurons: 60\n",
      "RMSE\n",
      "43.63375919622028\n",
      "MAE\n",
      "37.84224150175903\n",
      "MAPE\n",
      "2.9425884231910624\n",
      "  1/164 [..............................] - ETA: 48s"
     ]
    },
    {
     "name": "stderr",
     "output_type": "stream",
     "text": [
      "2023-06-16 08:38:48.783842: I tensorflow/core/grappler/optimizers/custom_graph_optimizer_registry.cc:114] Plugin optimizer for device_type GPU is enabled.\n",
      "2023-06-16 08:38:48.827487: I tensorflow/core/grappler/optimizers/custom_graph_optimizer_registry.cc:114] Plugin optimizer for device_type GPU is enabled.\n",
      "2023-06-16 08:38:48.836477: I tensorflow/core/grappler/optimizers/custom_graph_optimizer_registry.cc:114] Plugin optimizer for device_type GPU is enabled.\n"
     ]
    },
    {
     "name": "stdout",
     "output_type": "stream",
     "text": [
      "164/164 [==============================] - 2s 10ms/step\n",
      "(128, 50, 100)\n",
      "Neurons: 100\n",
      "RMSE\n",
      "36.54961278683501\n",
      "MAE\n",
      "30.816706805781685\n",
      "MAPE\n",
      "2.397022159101394\n",
      "  1/164 [..............................] - ETA: 50s"
     ]
    },
    {
     "name": "stderr",
     "output_type": "stream",
     "text": [
      "2023-06-16 08:38:50.915977: I tensorflow/core/grappler/optimizers/custom_graph_optimizer_registry.cc:114] Plugin optimizer for device_type GPU is enabled.\n",
      "2023-06-16 08:38:50.963899: I tensorflow/core/grappler/optimizers/custom_graph_optimizer_registry.cc:114] Plugin optimizer for device_type GPU is enabled.\n",
      "2023-06-16 08:38:50.973184: I tensorflow/core/grappler/optimizers/custom_graph_optimizer_registry.cc:114] Plugin optimizer for device_type GPU is enabled.\n"
     ]
    },
    {
     "name": "stdout",
     "output_type": "stream",
     "text": [
      "164/164 [==============================] - 2s 9ms/step\n",
      "(128, 100, 50)\n",
      "Neurons: 50\n",
      "RMSE\n",
      "37.649298671061416\n",
      "MAE\n",
      "31.87346265348654\n",
      "MAPE\n",
      "2.49778464045055\n",
      "  1/164 [..............................] - ETA: 50s"
     ]
    },
    {
     "name": "stderr",
     "output_type": "stream",
     "text": [
      "2023-06-16 08:38:52.935030: I tensorflow/core/grappler/optimizers/custom_graph_optimizer_registry.cc:114] Plugin optimizer for device_type GPU is enabled.\n",
      "2023-06-16 08:38:52.985640: I tensorflow/core/grappler/optimizers/custom_graph_optimizer_registry.cc:114] Plugin optimizer for device_type GPU is enabled.\n",
      "2023-06-16 08:38:52.994308: I tensorflow/core/grappler/optimizers/custom_graph_optimizer_registry.cc:114] Plugin optimizer for device_type GPU is enabled.\n"
     ]
    },
    {
     "name": "stdout",
     "output_type": "stream",
     "text": [
      "164/164 [==============================] - 2s 9ms/step\n",
      "(128, 100, 60)\n",
      "Neurons: 60\n",
      "RMSE\n",
      "47.77176810964104\n",
      "MAE\n",
      "41.903554463899056\n",
      "MAPE\n",
      "3.271093721690352\n",
      "  1/164 [..............................] - ETA: 49s"
     ]
    },
    {
     "name": "stderr",
     "output_type": "stream",
     "text": [
      "2023-06-16 08:38:54.950007: I tensorflow/core/grappler/optimizers/custom_graph_optimizer_registry.cc:114] Plugin optimizer for device_type GPU is enabled.\n",
      "2023-06-16 08:38:54.995966: I tensorflow/core/grappler/optimizers/custom_graph_optimizer_registry.cc:114] Plugin optimizer for device_type GPU is enabled.\n",
      "2023-06-16 08:38:55.004559: I tensorflow/core/grappler/optimizers/custom_graph_optimizer_registry.cc:114] Plugin optimizer for device_type GPU is enabled.\n"
     ]
    },
    {
     "name": "stdout",
     "output_type": "stream",
     "text": [
      "164/164 [==============================] - 2s 9ms/step\n",
      "(128, 100, 100)\n",
      "Neurons: 100\n",
      "RMSE\n",
      "37.937083071362196\n",
      "MAE\n",
      "32.57494714192091\n",
      "MAPE\n",
      "2.546673937796908\n"
     ]
    }
   ],
   "source": [
    "wb1 = Workbook()\n",
    "ws1 = wb1.active\n",
    "i=0\n",
    "for x in hyperparams:\n",
    "    model = keras.models.load_model('../Model BiLSTM ETH/BiLSTM_ETH'+str(x)+'.h5')\n",
    "    test_x2 = test_X\n",
    "    yhat = model.predict(test_x2)\n",
    "    inv_yhat = Preprocessing.inverse_scaler(yhat, scaler)\n",
    "    inv_y = Preprocessing.inverse_scaler(test_y.reshape(-1,1), scaler)\n",
    "    print(x)\n",
    "    print(\"Neurons: \"+str(model.layers[0].layer.units))\n",
    "    i = i+1\n",
    "    ws1['A'+str(i)] = 'BiLSTM'\n",
    "    ws1['B'+str(i)] = hyperparams[i-1][0]\n",
    "    ws1['C'+str(i)] = hyperparams[i-1][1]\n",
    "    ws1['D'+str(i)] = hyperparams[i-1][2]\n",
    "    print('RMSE')\n",
    "    print(Evaluation.rmse(inv_y,inv_yhat))\n",
    "    ws1['E'+str(i)] = Evaluation.rmse(inv_y,inv_yhat)\n",
    "    print('MAE')\n",
    "    print(Evaluation.mae(inv_y,inv_yhat))\n",
    "    ws1['F'+str(i)] = Evaluation.mae(inv_y,inv_yhat)\n",
    "    print('MAPE')\n",
    "    print(Evaluation.mape(inv_y,inv_yhat))\n",
    "    ws1['G'+str(i)] = Evaluation.mape(inv_y,inv_yhat)\n",
    "wb1.save('BiLSTM_ETH_result.xlsx')"
   ]
  },
  {
   "cell_type": "code",
   "execution_count": 6,
   "id": "f4c07bee-6239-46e6-a6b8-02760d753ceb",
   "metadata": {},
   "outputs": [
    {
     "data": {
      "text/plain": [
       "array([0.34373243, 0.35124808, 0.35062494, ..., 0.23230718, 0.23148404,\n",
       "       0.2314714 ])"
      ]
     },
     "execution_count": 6,
     "metadata": {},
     "output_type": "execute_result"
    }
   ],
   "source": [
    "test_y"
   ]
  },
  {
   "cell_type": "code",
   "execution_count": null,
   "id": "028357f2-9590-4c7c-a322-8fdf48e988d3",
   "metadata": {},
   "outputs": [],
   "source": []
  }
 ],
 "metadata": {
  "kernelspec": {
   "display_name": "Python 3 (ipykernel)",
   "language": "python",
   "name": "python3"
  },
  "language_info": {
   "codemirror_mode": {
    "name": "ipython",
    "version": 3
   },
   "file_extension": ".py",
   "mimetype": "text/x-python",
   "name": "python",
   "nbconvert_exporter": "python",
   "pygments_lexer": "ipython3",
   "version": "3.9.13"
  }
 },
 "nbformat": 4,
 "nbformat_minor": 5
}
