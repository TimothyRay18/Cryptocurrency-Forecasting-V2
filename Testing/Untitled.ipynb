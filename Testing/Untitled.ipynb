{
 "cells": [
  {
   "cell_type": "code",
   "execution_count": 3,
   "id": "2339c2e0-dadb-495c-95a1-5018a0855ae1",
   "metadata": {},
   "outputs": [],
   "source": [
    "from joblib import dump,load\n",
    "from tensorflow import keras\n",
    "from Skripsi import Preprocessing\n",
    "from Skripsi import Evaluation\n",
    "from Skripsi import LSTMUnit\n",
    "import pandas as pd"
   ]
  },
  {
   "cell_type": "code",
   "execution_count": 4,
   "id": "9f63da7a-272e-448b-a07a-a6e7fe1da5dd",
   "metadata": {},
   "outputs": [],
   "source": [
    "best_lstm_btc = keras.models.load_model('../Model LSTM BTC/LSTM_BTC(64, 100, 60).h5')"
   ]
  },
  {
   "cell_type": "code",
   "execution_count": 16,
   "id": "ecf3fd03-dcb2-4285-ac19-fd02e4037d10",
   "metadata": {},
   "outputs": [
    {
     "data": {
      "text/plain": [
       "[0, 4, 3, 45, 5, 6, 6, 6]"
      ]
     },
     "execution_count": 16,
     "metadata": {},
     "output_type": "execute_result"
    }
   ],
   "source": [
    "test_x = [0,4,3,45,5,6,6,6]\n",
    "test = test_x\n",
    "test"
   ]
  },
  {
   "cell_type": "code",
   "execution_count": 17,
   "id": "e05d49b4-f1a1-4e1f-9188-cd4be9b513aa",
   "metadata": {},
   "outputs": [],
   "source": [
    "test.append(6)"
   ]
  },
  {
   "cell_type": "code",
   "execution_count": 18,
   "id": "8ccae5ca-6599-4430-95d1-6ddb757e802e",
   "metadata": {},
   "outputs": [
    {
     "data": {
      "text/plain": [
       "[0, 4, 3, 45, 5, 6, 6, 6, 6]"
      ]
     },
     "execution_count": 18,
     "metadata": {},
     "output_type": "execute_result"
    }
   ],
   "source": [
    "test_x"
   ]
  },
  {
   "cell_type": "code",
   "execution_count": 19,
   "id": "14242f08-3f49-46b5-af7b-95bed74dabe2",
   "metadata": {},
   "outputs": [
    {
     "data": {
      "text/plain": [
       "[0, 4, 3, 45, 5, 6, 6, 6, 6]"
      ]
     },
     "execution_count": 19,
     "metadata": {},
     "output_type": "execute_result"
    }
   ],
   "source": [
    "test"
   ]
  },
  {
   "cell_type": "code",
   "execution_count": 20,
   "id": "618b64a8-a24e-416a-a2eb-5e5af9ac4b13",
   "metadata": {},
   "outputs": [
    {
     "data": {
      "text/plain": [
       "[0, 4, 3, 45, 5, 6, 6, 6, 6]"
      ]
     },
     "execution_count": 20,
     "metadata": {},
     "output_type": "execute_result"
    }
   ],
   "source": [
    "test"
   ]
  },
  {
   "cell_type": "code",
   "execution_count": null,
   "id": "ce0b48bf-020f-46ad-9bb1-01d40cf157be",
   "metadata": {},
   "outputs": [],
   "source": []
  }
 ],
 "metadata": {
  "kernelspec": {
   "display_name": "Python 3 (ipykernel)",
   "language": "python",
   "name": "python3"
  },
  "language_info": {
   "codemirror_mode": {
    "name": "ipython",
    "version": 3
   },
   "file_extension": ".py",
   "mimetype": "text/x-python",
   "name": "python",
   "nbconvert_exporter": "python",
   "pygments_lexer": "ipython3",
   "version": "3.9.13"
  }
 },
 "nbformat": 4,
 "nbformat_minor": 5
}
