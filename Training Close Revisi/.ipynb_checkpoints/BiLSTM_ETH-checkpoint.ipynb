{
 "cells": [
  {
   "cell_type": "code",
   "execution_count": 1,
   "id": "499ef9d1-2655-483e-9f50-0badccf17d21",
   "metadata": {},
   "outputs": [],
   "source": [
    "from Skripsi import Preprocessing\n",
    "from Skripsi import Evaluation\n",
    "from Skripsi import NeuralNetwork\n",
    "from pandas import read_csv\n",
    "from pandas import DataFrame\n",
    "import numpy as np\n",
    "import pandas as pd\n",
    "from openpyxl.workbook import Workbook\n",
    "import pickle"
   ]
  },
  {
   "cell_type": "code",
   "execution_count": 2,
   "id": "f8ed0706-d5c2-4868-beee-6933c00b0a83",
   "metadata": {},
   "outputs": [
    {
     "data": {
      "text/html": [
       "<div>\n",
       "<style scoped>\n",
       "    .dataframe tbody tr th:only-of-type {\n",
       "        vertical-align: middle;\n",
       "    }\n",
       "\n",
       "    .dataframe tbody tr th {\n",
       "        vertical-align: top;\n",
       "    }\n",
       "\n",
       "    .dataframe thead th {\n",
       "        text-align: right;\n",
       "    }\n",
       "</style>\n",
       "<table border=\"1\" class=\"dataframe\">\n",
       "  <thead>\n",
       "    <tr style=\"text-align: right;\">\n",
       "      <th></th>\n",
       "      <th>Date</th>\n",
       "      <th>Open</th>\n",
       "      <th>High</th>\n",
       "      <th>Low</th>\n",
       "      <th>Close</th>\n",
       "      <th>Volume USDT</th>\n",
       "    </tr>\n",
       "  </thead>\n",
       "  <tbody>\n",
       "    <tr>\n",
       "      <th>0</th>\n",
       "      <td>2022-12-31 23:00:00</td>\n",
       "      <td>1196.18</td>\n",
       "      <td>1197.43</td>\n",
       "      <td>1193.60</td>\n",
       "      <td>1196.13</td>\n",
       "      <td>7.086714e+06</td>\n",
       "    </tr>\n",
       "    <tr>\n",
       "      <th>1</th>\n",
       "      <td>2022-12-31 22:00:00</td>\n",
       "      <td>1200.09</td>\n",
       "      <td>1201.11</td>\n",
       "      <td>1193.08</td>\n",
       "      <td>1196.19</td>\n",
       "      <td>1.143952e+07</td>\n",
       "    </tr>\n",
       "    <tr>\n",
       "      <th>2</th>\n",
       "      <td>2022-12-31 21:00:00</td>\n",
       "      <td>1202.33</td>\n",
       "      <td>1203.00</td>\n",
       "      <td>1199.83</td>\n",
       "      <td>1200.10</td>\n",
       "      <td>4.643401e+06</td>\n",
       "    </tr>\n",
       "    <tr>\n",
       "      <th>3</th>\n",
       "      <td>2022-12-31 20:00:00</td>\n",
       "      <td>1202.66</td>\n",
       "      <td>1203.71</td>\n",
       "      <td>1202.30</td>\n",
       "      <td>1202.34</td>\n",
       "      <td>4.278879e+06</td>\n",
       "    </tr>\n",
       "    <tr>\n",
       "      <th>4</th>\n",
       "      <td>2022-12-31 19:00:00</td>\n",
       "      <td>1199.59</td>\n",
       "      <td>1205.61</td>\n",
       "      <td>1199.42</td>\n",
       "      <td>1202.65</td>\n",
       "      <td>7.738029e+06</td>\n",
       "    </tr>\n",
       "    <tr>\n",
       "      <th>...</th>\n",
       "      <td>...</td>\n",
       "      <td>...</td>\n",
       "      <td>...</td>\n",
       "      <td>...</td>\n",
       "      <td>...</td>\n",
       "      <td>...</td>\n",
       "    </tr>\n",
       "    <tr>\n",
       "      <th>26269</th>\n",
       "      <td>2020-01-01 04:00:00</td>\n",
       "      <td>130.21</td>\n",
       "      <td>130.74</td>\n",
       "      <td>130.15</td>\n",
       "      <td>130.20</td>\n",
       "      <td>4.430067e+05</td>\n",
       "    </tr>\n",
       "    <tr>\n",
       "      <th>26270</th>\n",
       "      <td>2020-01-01 03:00:00</td>\n",
       "      <td>130.85</td>\n",
       "      <td>130.89</td>\n",
       "      <td>129.94</td>\n",
       "      <td>130.20</td>\n",
       "      <td>6.473610e+05</td>\n",
       "    </tr>\n",
       "    <tr>\n",
       "      <th>26271</th>\n",
       "      <td>2020-01-01 02:00:00</td>\n",
       "      <td>130.63</td>\n",
       "      <td>130.98</td>\n",
       "      <td>130.35</td>\n",
       "      <td>130.85</td>\n",
       "      <td>9.940256e+05</td>\n",
       "    </tr>\n",
       "    <tr>\n",
       "      <th>26272</th>\n",
       "      <td>2020-01-01 01:00:00</td>\n",
       "      <td>128.87</td>\n",
       "      <td>130.65</td>\n",
       "      <td>128.78</td>\n",
       "      <td>130.64</td>\n",
       "      <td>1.474278e+06</td>\n",
       "    </tr>\n",
       "    <tr>\n",
       "      <th>26273</th>\n",
       "      <td>2020-01-01 00:00:00</td>\n",
       "      <td>129.16</td>\n",
       "      <td>129.19</td>\n",
       "      <td>128.68</td>\n",
       "      <td>128.87</td>\n",
       "      <td>1.000930e+06</td>\n",
       "    </tr>\n",
       "  </tbody>\n",
       "</table>\n",
       "<p>26274 rows × 6 columns</p>\n",
       "</div>"
      ],
      "text/plain": [
       "                      Date     Open     High      Low    Close   Volume USDT\n",
       "0      2022-12-31 23:00:00  1196.18  1197.43  1193.60  1196.13  7.086714e+06\n",
       "1      2022-12-31 22:00:00  1200.09  1201.11  1193.08  1196.19  1.143952e+07\n",
       "2      2022-12-31 21:00:00  1202.33  1203.00  1199.83  1200.10  4.643401e+06\n",
       "3      2022-12-31 20:00:00  1202.66  1203.71  1202.30  1202.34  4.278879e+06\n",
       "4      2022-12-31 19:00:00  1199.59  1205.61  1199.42  1202.65  7.738029e+06\n",
       "...                    ...      ...      ...      ...      ...           ...\n",
       "26269  2020-01-01 04:00:00   130.21   130.74   130.15   130.20  4.430067e+05\n",
       "26270  2020-01-01 03:00:00   130.85   130.89   129.94   130.20  6.473610e+05\n",
       "26271  2020-01-01 02:00:00   130.63   130.98   130.35   130.85  9.940256e+05\n",
       "26272  2020-01-01 01:00:00   128.87   130.65   128.78   130.64  1.474278e+06\n",
       "26273  2020-01-01 00:00:00   129.16   129.19   128.68   128.87  1.000930e+06\n",
       "\n",
       "[26274 rows x 6 columns]"
      ]
     },
     "execution_count": 2,
     "metadata": {},
     "output_type": "execute_result"
    }
   ],
   "source": [
    "eth_dfd = pd.read_csv('../Dataset/Binance_ETHUSDT_1h.csv')\n",
    "eth_dfd"
   ]
  },
  {
   "cell_type": "code",
   "execution_count": 3,
   "id": "41062755-9cca-4348-91bc-e80d46b79c3d",
   "metadata": {},
   "outputs": [
    {
     "data": {
      "text/html": [
       "<div>\n",
       "<style scoped>\n",
       "    .dataframe tbody tr th:only-of-type {\n",
       "        vertical-align: middle;\n",
       "    }\n",
       "\n",
       "    .dataframe tbody tr th {\n",
       "        vertical-align: top;\n",
       "    }\n",
       "\n",
       "    .dataframe thead th {\n",
       "        text-align: right;\n",
       "    }\n",
       "</style>\n",
       "<table border=\"1\" class=\"dataframe\">\n",
       "  <thead>\n",
       "    <tr style=\"text-align: right;\">\n",
       "      <th></th>\n",
       "      <th>Close</th>\n",
       "    </tr>\n",
       "  </thead>\n",
       "  <tbody>\n",
       "    <tr>\n",
       "      <th>0</th>\n",
       "      <td>128.87</td>\n",
       "    </tr>\n",
       "    <tr>\n",
       "      <th>1</th>\n",
       "      <td>130.64</td>\n",
       "    </tr>\n",
       "    <tr>\n",
       "      <th>2</th>\n",
       "      <td>130.85</td>\n",
       "    </tr>\n",
       "    <tr>\n",
       "      <th>3</th>\n",
       "      <td>130.20</td>\n",
       "    </tr>\n",
       "    <tr>\n",
       "      <th>4</th>\n",
       "      <td>130.20</td>\n",
       "    </tr>\n",
       "    <tr>\n",
       "      <th>...</th>\n",
       "      <td>...</td>\n",
       "    </tr>\n",
       "    <tr>\n",
       "      <th>26269</th>\n",
       "      <td>1202.65</td>\n",
       "    </tr>\n",
       "    <tr>\n",
       "      <th>26270</th>\n",
       "      <td>1202.34</td>\n",
       "    </tr>\n",
       "    <tr>\n",
       "      <th>26271</th>\n",
       "      <td>1200.10</td>\n",
       "    </tr>\n",
       "    <tr>\n",
       "      <th>26272</th>\n",
       "      <td>1196.19</td>\n",
       "    </tr>\n",
       "    <tr>\n",
       "      <th>26273</th>\n",
       "      <td>1196.13</td>\n",
       "    </tr>\n",
       "  </tbody>\n",
       "</table>\n",
       "<p>26274 rows × 1 columns</p>\n",
       "</div>"
      ],
      "text/plain": [
       "         Close\n",
       "0       128.87\n",
       "1       130.64\n",
       "2       130.85\n",
       "3       130.20\n",
       "4       130.20\n",
       "...        ...\n",
       "26269  1202.65\n",
       "26270  1202.34\n",
       "26271  1200.10\n",
       "26272  1196.19\n",
       "26273  1196.13\n",
       "\n",
       "[26274 rows x 1 columns]"
      ]
     },
     "execution_count": 3,
     "metadata": {},
     "output_type": "execute_result"
    }
   ],
   "source": [
    "df = Preprocessing.sort_df(eth_dfd)\n",
    "df"
   ]
  },
  {
   "cell_type": "code",
   "execution_count": 4,
   "id": "140ecfee-f8cf-45f6-b3c6-49e8e7458101",
   "metadata": {},
   "outputs": [
    {
     "data": {
      "text/plain": [
       "array([[0.00678935],\n",
       "       [0.00716197],\n",
       "       [0.00720618],\n",
       "       ...,\n",
       "       [0.23230718],\n",
       "       [0.23148404],\n",
       "       [0.2314714 ]])"
      ]
     },
     "execution_count": 4,
     "metadata": {},
     "output_type": "execute_result"
    }
   ],
   "source": [
    "x, scaler = Preprocessing.minmax_scale(df)\n",
    "x"
   ]
  },
  {
   "cell_type": "code",
   "execution_count": 5,
   "id": "c42a7847-70b8-4487-a874-67e370666724",
   "metadata": {},
   "outputs": [
    {
     "data": {
      "text/plain": [
       "array([[0.00678935],\n",
       "       [0.00716197],\n",
       "       [0.00720618],\n",
       "       ...,\n",
       "       [0.36294049],\n",
       "       [0.35696376],\n",
       "       [0.35310278]])"
      ]
     },
     "execution_count": 5,
     "metadata": {},
     "output_type": "execute_result"
    }
   ],
   "source": [
    "train, test = Preprocessing.splitting_data(x)\n",
    "train"
   ]
  },
  {
   "cell_type": "code",
   "execution_count": 6,
   "id": "a8e525a6-83d0-4c8b-9875-33e0e15480ae",
   "metadata": {},
   "outputs": [
    {
     "data": {
      "text/plain": [
       "array([[0.34664396],\n",
       "       [0.34877655],\n",
       "       [0.35186281],\n",
       "       ...,\n",
       "       [0.23230718],\n",
       "       [0.23148404],\n",
       "       [0.2314714 ]])"
      ]
     },
     "execution_count": 6,
     "metadata": {},
     "output_type": "execute_result"
    }
   ],
   "source": [
    "test"
   ]
  },
  {
   "cell_type": "code",
   "execution_count": 7,
   "id": "08213717-a303-4c9e-97bb-280204035109",
   "metadata": {},
   "outputs": [],
   "source": [
    "train_X, train_y = Preprocessing.create_dataset(train,25)\n",
    "test_X, test_y = Preprocessing.create_dataset(test,25)"
   ]
  },
  {
   "cell_type": "code",
   "execution_count": 8,
   "id": "aff76bd7-16f2-4bf2-8a64-f1f6a1194661",
   "metadata": {},
   "outputs": [
    {
     "data": {
      "text/plain": [
       "array([[[0.00678935],\n",
       "        [0.00716197],\n",
       "        [0.00720618],\n",
       "        ...,\n",
       "        [0.00708408],\n",
       "        [0.00718934],\n",
       "        [0.00716829]],\n",
       "\n",
       "       [[0.00716197],\n",
       "        [0.00720618],\n",
       "        [0.00706934],\n",
       "        ...,\n",
       "        [0.00718934],\n",
       "        [0.00716829],\n",
       "        [0.00705881]],\n",
       "\n",
       "       [[0.00720618],\n",
       "        [0.00706934],\n",
       "        [0.00706934],\n",
       "        ...,\n",
       "        [0.00716829],\n",
       "        [0.00705881],\n",
       "        [0.00696829]],\n",
       "\n",
       "       ...,\n",
       "\n",
       "       [[0.39394411],\n",
       "        [0.39336939],\n",
       "        [0.38862632],\n",
       "        ...,\n",
       "        [0.36419099],\n",
       "        [0.36438046],\n",
       "        [0.36570254]],\n",
       "\n",
       "       [[0.39336939],\n",
       "        [0.38862632],\n",
       "        [0.39214836],\n",
       "        ...,\n",
       "        [0.36438046],\n",
       "        [0.36570254],\n",
       "        [0.36294049]],\n",
       "\n",
       "       [[0.38862632],\n",
       "        [0.39214836],\n",
       "        [0.38899684],\n",
       "        ...,\n",
       "        [0.36570254],\n",
       "        [0.36294049],\n",
       "        [0.35696376]]])"
      ]
     },
     "execution_count": 8,
     "metadata": {},
     "output_type": "execute_result"
    }
   ],
   "source": [
    "train_X"
   ]
  },
  {
   "cell_type": "code",
   "execution_count": 9,
   "id": "4efa14c4-f85e-47c3-bc04-7f0d029d3a72",
   "metadata": {},
   "outputs": [
    {
     "data": {
      "text/plain": [
       "array([0.00705881, 0.00696829, 0.00683777, ..., 0.36294049, 0.35696376,\n",
       "       0.35310278])"
      ]
     },
     "execution_count": 9,
     "metadata": {},
     "output_type": "execute_result"
    }
   ],
   "source": [
    "train_y"
   ]
  },
  {
   "cell_type": "code",
   "execution_count": 10,
   "id": "51dc56af-5903-45ab-a70b-556fb3f3d97a",
   "metadata": {},
   "outputs": [
    {
     "data": {
      "text/plain": [
       "array([[[0.34664396],\n",
       "        [0.34877655],\n",
       "        [0.35186281],\n",
       "        ...,\n",
       "        [0.34328823],\n",
       "        [0.34773236],\n",
       "        [0.34391769]],\n",
       "\n",
       "       [[0.34877655],\n",
       "        [0.35186281],\n",
       "        [0.34708184],\n",
       "        ...,\n",
       "        [0.34773236],\n",
       "        [0.34391769],\n",
       "        [0.34373243]],\n",
       "\n",
       "       [[0.35186281],\n",
       "        [0.34708184],\n",
       "        [0.34520188],\n",
       "        ...,\n",
       "        [0.34391769],\n",
       "        [0.34373243],\n",
       "        [0.35124808]],\n",
       "\n",
       "       ...,\n",
       "\n",
       "       [[0.23174087],\n",
       "        [0.23192192],\n",
       "        [0.23190718],\n",
       "        ...,\n",
       "        [0.23220192],\n",
       "        [0.23284401],\n",
       "        [0.23277875]],\n",
       "\n",
       "       [[0.23192192],\n",
       "        [0.23190718],\n",
       "        [0.23228402],\n",
       "        ...,\n",
       "        [0.23284401],\n",
       "        [0.23277875],\n",
       "        [0.23230718]],\n",
       "\n",
       "       [[0.23190718],\n",
       "        [0.23228402],\n",
       "        [0.23174087],\n",
       "        ...,\n",
       "        [0.23277875],\n",
       "        [0.23230718],\n",
       "        [0.23148404]]])"
      ]
     },
     "execution_count": 10,
     "metadata": {},
     "output_type": "execute_result"
    }
   ],
   "source": [
    "test_X"
   ]
  },
  {
   "cell_type": "code",
   "execution_count": 11,
   "id": "d98152d5-e8c5-4645-90ea-876a042b25e0",
   "metadata": {},
   "outputs": [
    {
     "data": {
      "text/plain": [
       "array([0.34373243, 0.35124808, 0.35062494, ..., 0.23230718, 0.23148404,\n",
       "       0.2314714 ])"
      ]
     },
     "execution_count": 11,
     "metadata": {},
     "output_type": "execute_result"
    }
   ],
   "source": [
    "test_y"
   ]
  },
  {
   "cell_type": "code",
   "execution_count": 12,
   "id": "d80df0f9-fe70-44f0-bef3-b779d95da0d0",
   "metadata": {},
   "outputs": [
    {
     "name": "stdout",
     "output_type": "stream",
     "text": [
      "(20994, 25, 1) (20994,) (5230, 25, 1) (5230,)\n"
     ]
    }
   ],
   "source": [
    "print(train_X.shape, train_y.shape, test_X.shape, test_y.shape)"
   ]
  },
  {
   "cell_type": "markdown",
   "id": "cf43011a-1b18-4fef-b638-d84109a5347b",
   "metadata": {},
   "source": [
    "## Model Training"
   ]
  },
  {
   "cell_type": "code",
   "execution_count": 13,
   "id": "7c6e3c5f-f40b-427b-bbf6-715de9fbfed4",
   "metadata": {},
   "outputs": [],
   "source": [
    "hyperparam = [(16,50,50)]"
   ]
  },
  {
   "cell_type": "code",
   "execution_count": 14,
   "id": "3ffd8dc1-5eb8-4d7e-aba2-cab78df020ae",
   "metadata": {},
   "outputs": [
    {
     "name": "stdout",
     "output_type": "stream",
     "text": [
      "Metal device set to: Apple M1\n",
      "Epoch 1/50\n"
     ]
    },
    {
     "name": "stderr",
     "output_type": "stream",
     "text": [
      "2023-06-16 21:15:08.428294: I tensorflow/core/common_runtime/pluggable_device/pluggable_device_factory.cc:306] Could not identify NUMA node of platform GPU ID 0, defaulting to 0. Your kernel may not have been built with NUMA support.\n",
      "2023-06-16 21:15:08.428581: I tensorflow/core/common_runtime/pluggable_device/pluggable_device_factory.cc:272] Created TensorFlow device (/job:localhost/replica:0/task:0/device:GPU:0 with 0 MB memory) -> physical PluggableDevice (device: 0, name: METAL, pci bus id: <undefined>)\n",
      "2023-06-16 21:15:08.602573: W tensorflow/core/platform/profile_utils/cpu_utils.cc:128] Failed to get CPU frequency: 0 Hz\n",
      "2023-06-16 21:15:09.958302: I tensorflow/core/grappler/optimizers/custom_graph_optimizer_registry.cc:114] Plugin optimizer for device_type GPU is enabled.\n",
      "2023-06-16 21:15:10.138580: I tensorflow/core/grappler/optimizers/custom_graph_optimizer_registry.cc:114] Plugin optimizer for device_type GPU is enabled.\n",
      "2023-06-16 21:15:10.262095: I tensorflow/core/grappler/optimizers/custom_graph_optimizer_registry.cc:114] Plugin optimizer for device_type GPU is enabled.\n",
      "2023-06-16 21:15:10.777033: I tensorflow/core/grappler/optimizers/custom_graph_optimizer_registry.cc:114] Plugin optimizer for device_type GPU is enabled.\n",
      "2023-06-16 21:15:10.799937: I tensorflow/core/grappler/optimizers/custom_graph_optimizer_registry.cc:114] Plugin optimizer for device_type GPU is enabled.\n",
      "2023-06-16 21:15:43.602738: I tensorflow/core/grappler/optimizers/custom_graph_optimizer_registry.cc:114] Plugin optimizer for device_type GPU is enabled.\n",
      "2023-06-16 21:15:43.679762: I tensorflow/core/grappler/optimizers/custom_graph_optimizer_registry.cc:114] Plugin optimizer for device_type GPU is enabled.\n",
      "2023-06-16 21:15:43.691659: I tensorflow/core/grappler/optimizers/custom_graph_optimizer_registry.cc:114] Plugin optimizer for device_type GPU is enabled.\n"
     ]
    },
    {
     "name": "stdout",
     "output_type": "stream",
     "text": [
      "1313/1313 - 40s - loss: 4.6720e-04 - val_loss: 0.0047 - 40s/epoch - 30ms/step\n",
      "Epoch 2/50\n",
      "1313/1313 - 37s - loss: 6.4115e-04 - val_loss: 0.0036 - 37s/epoch - 29ms/step\n",
      "Epoch 3/50\n",
      "1313/1313 - 40s - loss: 6.2563e-04 - val_loss: 0.0032 - 40s/epoch - 30ms/step\n",
      "Epoch 4/50\n",
      "1313/1313 - 42s - loss: 5.6137e-04 - val_loss: 0.0027 - 42s/epoch - 32ms/step\n",
      "Epoch 5/50\n",
      "1313/1313 - 42s - loss: 4.8018e-04 - val_loss: 0.0023 - 42s/epoch - 32ms/step\n",
      "Epoch 6/50\n",
      "1313/1313 - 42s - loss: 3.9002e-04 - val_loss: 0.0019 - 42s/epoch - 32ms/step\n",
      "Epoch 7/50\n",
      "1313/1313 - 42s - loss: 3.0949e-04 - val_loss: 0.0016 - 42s/epoch - 32ms/step\n",
      "Epoch 8/50\n",
      "1313/1313 - 44s - loss: 2.4513e-04 - val_loss: 0.0013 - 44s/epoch - 33ms/step\n",
      "Epoch 9/50\n",
      "1313/1313 - 43s - loss: 1.9302e-04 - val_loss: 0.0012 - 43s/epoch - 33ms/step\n",
      "Epoch 10/50\n",
      "1313/1313 - 43s - loss: 1.5468e-04 - val_loss: 0.0010 - 43s/epoch - 32ms/step\n",
      "Epoch 11/50\n",
      "1313/1313 - 45s - loss: 1.3134e-04 - val_loss: 9.2206e-04 - 45s/epoch - 34ms/step\n",
      "Epoch 12/50\n",
      "1313/1313 - 43s - loss: 1.1413e-04 - val_loss: 8.4067e-04 - 43s/epoch - 33ms/step\n",
      "Epoch 13/50\n",
      "1313/1313 - 44s - loss: 1.0364e-04 - val_loss: 7.8411e-04 - 44s/epoch - 34ms/step\n",
      "Epoch 14/50\n",
      "1313/1313 - 44s - loss: 9.3793e-05 - val_loss: 7.2751e-04 - 44s/epoch - 34ms/step\n",
      "Epoch 15/50\n",
      "1313/1313 - 44s - loss: 8.8010e-05 - val_loss: 6.9859e-04 - 44s/epoch - 33ms/step\n",
      "Epoch 16/50\n",
      "1313/1313 - 46s - loss: 8.4299e-05 - val_loss: 6.7578e-04 - 46s/epoch - 35ms/step\n",
      "Epoch 17/50\n",
      "1313/1313 - 45s - loss: 7.9872e-05 - val_loss: 6.3454e-04 - 45s/epoch - 34ms/step\n",
      "Epoch 18/50\n",
      "1313/1313 - 44s - loss: 7.7215e-05 - val_loss: 6.2132e-04 - 44s/epoch - 33ms/step\n",
      "Epoch 19/50\n",
      "1313/1313 - 45s - loss: 7.6201e-05 - val_loss: 6.2004e-04 - 45s/epoch - 34ms/step\n",
      "Epoch 20/50\n",
      "1313/1313 - 45s - loss: 7.5650e-05 - val_loss: 6.0445e-04 - 45s/epoch - 34ms/step\n",
      "Epoch 21/50\n",
      "1313/1313 - 47s - loss: 7.4829e-05 - val_loss: 5.8897e-04 - 47s/epoch - 35ms/step\n",
      "Epoch 22/50\n",
      "1313/1313 - 44s - loss: 7.4728e-05 - val_loss: 5.8207e-04 - 44s/epoch - 34ms/step\n",
      "Epoch 23/50\n",
      "1313/1313 - 45s - loss: 7.4399e-05 - val_loss: 5.5916e-04 - 45s/epoch - 34ms/step\n",
      "Epoch 24/50\n",
      "1313/1313 - 45s - loss: 7.4675e-05 - val_loss: 5.4070e-04 - 45s/epoch - 35ms/step\n",
      "Epoch 25/50\n",
      "1313/1313 - 46s - loss: 7.5148e-05 - val_loss: 5.2605e-04 - 46s/epoch - 35ms/step\n",
      "Epoch 26/50\n",
      "1313/1313 - 46s - loss: 7.5573e-05 - val_loss: 5.0257e-04 - 46s/epoch - 35ms/step\n",
      "Epoch 27/50\n",
      "1313/1313 - 40s - loss: 7.5807e-05 - val_loss: 4.7526e-04 - 40s/epoch - 30ms/step\n",
      "Epoch 28/50\n",
      "1313/1313 - 36s - loss: 7.5948e-05 - val_loss: 4.5083e-04 - 36s/epoch - 28ms/step\n",
      "Epoch 29/50\n",
      "1313/1313 - 36s - loss: 7.6191e-05 - val_loss: 4.2795e-04 - 36s/epoch - 27ms/step\n",
      "Epoch 30/50\n",
      "1313/1313 - 36s - loss: 7.6342e-05 - val_loss: 4.0307e-04 - 36s/epoch - 28ms/step\n",
      "Epoch 31/50\n",
      "1313/1313 - 36s - loss: 7.6674e-05 - val_loss: 3.8220e-04 - 36s/epoch - 27ms/step\n",
      "Epoch 32/50\n",
      "1313/1313 - 37s - loss: 7.7108e-05 - val_loss: 3.6049e-04 - 37s/epoch - 28ms/step\n",
      "Epoch 33/50\n",
      "1313/1313 - 36s - loss: 7.7425e-05 - val_loss: 3.3771e-04 - 36s/epoch - 28ms/step\n",
      "Epoch 34/50\n",
      "1313/1313 - 36s - loss: 7.7859e-05 - val_loss: 3.1648e-04 - 36s/epoch - 28ms/step\n",
      "Epoch 35/50\n",
      "1313/1313 - 38s - loss: 7.8210e-05 - val_loss: 2.9710e-04 - 38s/epoch - 29ms/step\n",
      "Epoch 36/50\n",
      "1313/1313 - 37s - loss: 7.8714e-05 - val_loss: 2.7932e-04 - 37s/epoch - 28ms/step\n",
      "Epoch 37/50\n",
      "1313/1313 - 39s - loss: 7.9187e-05 - val_loss: 2.6228e-04 - 39s/epoch - 30ms/step\n",
      "Epoch 38/50\n",
      "1313/1313 - 39s - loss: 7.9753e-05 - val_loss: 2.4680e-04 - 39s/epoch - 29ms/step\n",
      "Epoch 39/50\n",
      "1313/1313 - 42s - loss: 8.0511e-05 - val_loss: 2.3294e-04 - 42s/epoch - 32ms/step\n",
      "Epoch 40/50\n",
      "1313/1313 - 38s - loss: 8.1120e-05 - val_loss: 2.1787e-04 - 38s/epoch - 29ms/step\n",
      "Epoch 41/50\n",
      "1313/1313 - 39s - loss: 8.1514e-05 - val_loss: 2.0306e-04 - 39s/epoch - 30ms/step\n",
      "Epoch 42/50\n",
      "1313/1313 - 41s - loss: 8.1827e-05 - val_loss: 1.9159e-04 - 41s/epoch - 31ms/step\n",
      "Epoch 43/50\n",
      "1313/1313 - 39s - loss: 8.2370e-05 - val_loss: 1.8394e-04 - 39s/epoch - 29ms/step\n",
      "Epoch 44/50\n",
      "1313/1313 - 39s - loss: 8.2282e-05 - val_loss: 1.7425e-04 - 39s/epoch - 29ms/step\n",
      "Epoch 45/50\n",
      "1313/1313 - 39s - loss: 8.2123e-05 - val_loss: 1.6583e-04 - 39s/epoch - 30ms/step\n",
      "Epoch 46/50\n",
      "1313/1313 - 39s - loss: 8.2056e-05 - val_loss: 1.6022e-04 - 39s/epoch - 30ms/step\n",
      "Epoch 47/50\n",
      "1313/1313 - 39s - loss: 8.2217e-05 - val_loss: 1.5626e-04 - 39s/epoch - 29ms/step\n",
      "Epoch 48/50\n",
      "1313/1313 - 39s - loss: 8.2137e-05 - val_loss: 1.5066e-04 - 39s/epoch - 29ms/step\n",
      "Epoch 49/50\n",
      "1313/1313 - 39s - loss: 8.2258e-05 - val_loss: 1.4565e-04 - 39s/epoch - 30ms/step\n",
      "Epoch 50/50\n",
      "1313/1313 - 38s - loss: 8.2416e-05 - val_loss: 1.4184e-04 - 38s/epoch - 29ms/step\n"
     ]
    }
   ],
   "source": [
    "for batch, epoch, neuron in hyperparam:\n",
    "    model1, bilstm1 = NeuralNetwork.train_bilstm(train_X, train_y, test_X, test_y, neuron, epoch, batch)"
   ]
  },
  {
   "cell_type": "code",
   "execution_count": 15,
   "id": "ebe15d8d-6bc9-4220-a7db-48e4d4c7cd18",
   "metadata": {},
   "outputs": [
    {
     "name": "stderr",
     "output_type": "stream",
     "text": [
      "2023-06-16 21:49:17.269258: I tensorflow/core/grappler/optimizers/custom_graph_optimizer_registry.cc:114] Plugin optimizer for device_type GPU is enabled.\n",
      "2023-06-16 21:49:17.333906: I tensorflow/core/grappler/optimizers/custom_graph_optimizer_registry.cc:114] Plugin optimizer for device_type GPU is enabled.\n",
      "2023-06-16 21:49:17.347169: I tensorflow/core/grappler/optimizers/custom_graph_optimizer_registry.cc:114] Plugin optimizer for device_type GPU is enabled.\n"
     ]
    },
    {
     "name": "stdout",
     "output_type": "stream",
     "text": [
      "164/164 [==============================] - 2s 12ms/step\n",
      "(16, 50, 50)\n",
      "Epoch: 50\n",
      "Neurons: 50\n",
      "RMSE\n",
      "56.57300052827915\n",
      "MAE\n",
      "52.785773939318865\n",
      "MAPE\n",
      "4.023249775278887\n"
     ]
    }
   ],
   "source": [
    "i=0\n",
    "# make a prediction\n",
    "test_x2 = test_X\n",
    "yhat = NeuralNetwork.predict(test_x2, model1)\n",
    "inv_yhat = Preprocessing.inverse_scaler(yhat, scaler)\n",
    "inv_y = Preprocessing.inverse_scaler(test_y.reshape(-1,1), scaler)\n",
    "print(hyperparam[i])\n",
    "print(\"Epoch: \"+ str(bilstm1.params['epochs']))\n",
    "print(\"Neurons: \"+str(model1.layers[0].layer.units))\n",
    "i = i+1\n",
    "print('RMSE')\n",
    "print(Evaluation.rmse(inv_y,inv_yhat))\n",
    "print('MAE')\n",
    "print(Evaluation.mae(inv_y,inv_yhat))\n",
    "print('MAPE')\n",
    "print(Evaluation.mape(inv_y,inv_yhat))\n",
    "NeuralNetwork.save_model(model1, 1, 'ETH',hyperparam[0])\n",
    "with open('BiLSTM_ETH'+str(hyperparam[0])+'.pkl', 'wb') as f:\n",
    "    pickle.dump(bilstm1.history, f)"
   ]
  },
  {
   "cell_type": "code",
   "execution_count": null,
   "id": "13a58e81-77c7-489c-9932-062972f07b1d",
   "metadata": {},
   "outputs": [],
   "source": []
  }
 ],
 "metadata": {
  "kernelspec": {
   "display_name": "Python 3 (ipykernel)",
   "language": "python",
   "name": "python3"
  },
  "language_info": {
   "codemirror_mode": {
    "name": "ipython",
    "version": 3
   },
   "file_extension": ".py",
   "mimetype": "text/x-python",
   "name": "python",
   "nbconvert_exporter": "python",
   "pygments_lexer": "ipython3",
   "version": "3.9.13"
  }
 },
 "nbformat": 4,
 "nbformat_minor": 5
}
