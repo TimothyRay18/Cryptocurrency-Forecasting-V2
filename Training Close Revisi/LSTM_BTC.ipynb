{
 "cells": [
  {
   "cell_type": "code",
   "execution_count": 1,
   "id": "499ef9d1-2655-483e-9f50-0badccf17d21",
   "metadata": {},
   "outputs": [],
   "source": [
    "from Skripsi import Preprocessing\n",
    "from Skripsi import Evaluation\n",
    "from Skripsi import NeuralNetwork\n",
    "from pandas import read_csv\n",
    "from pandas import DataFrame\n",
    "import numpy as np\n",
    "import pandas as pd\n",
    "from openpyxl.workbook import Workbook\n",
    "import pickle"
   ]
  },
  {
   "cell_type": "code",
   "execution_count": 2,
   "id": "f8ed0706-d5c2-4868-beee-6933c00b0a83",
   "metadata": {},
   "outputs": [
    {
     "data": {
      "text/html": [
       "<div>\n",
       "<style scoped>\n",
       "    .dataframe tbody tr th:only-of-type {\n",
       "        vertical-align: middle;\n",
       "    }\n",
       "\n",
       "    .dataframe tbody tr th {\n",
       "        vertical-align: top;\n",
       "    }\n",
       "\n",
       "    .dataframe thead th {\n",
       "        text-align: right;\n",
       "    }\n",
       "</style>\n",
       "<table border=\"1\" class=\"dataframe\">\n",
       "  <thead>\n",
       "    <tr style=\"text-align: right;\">\n",
       "      <th></th>\n",
       "      <th>Date</th>\n",
       "      <th>Open</th>\n",
       "      <th>High</th>\n",
       "      <th>Low</th>\n",
       "      <th>Close</th>\n",
       "      <th>Volume USDT</th>\n",
       "    </tr>\n",
       "  </thead>\n",
       "  <tbody>\n",
       "    <tr>\n",
       "      <th>0</th>\n",
       "      <td>2022-12-31 23:00:00</td>\n",
       "      <td>16520.28</td>\n",
       "      <td>16551.24</td>\n",
       "      <td>16487.74</td>\n",
       "      <td>16542.40</td>\n",
       "      <td>8.217183e+07</td>\n",
       "    </tr>\n",
       "    <tr>\n",
       "      <th>1</th>\n",
       "      <td>2022-12-31 22:00:00</td>\n",
       "      <td>16548.28</td>\n",
       "      <td>16567.49</td>\n",
       "      <td>16470.00</td>\n",
       "      <td>16520.81</td>\n",
       "      <td>1.106669e+08</td>\n",
       "    </tr>\n",
       "    <tr>\n",
       "      <th>2</th>\n",
       "      <td>2022-12-31 21:00:00</td>\n",
       "      <td>16568.19</td>\n",
       "      <td>16571.64</td>\n",
       "      <td>16544.12</td>\n",
       "      <td>16548.28</td>\n",
       "      <td>5.992803e+07</td>\n",
       "    </tr>\n",
       "    <tr>\n",
       "      <th>3</th>\n",
       "      <td>2022-12-31 20:00:00</td>\n",
       "      <td>16570.14</td>\n",
       "      <td>16574.97</td>\n",
       "      <td>16564.09</td>\n",
       "      <td>16568.60</td>\n",
       "      <td>4.344849e+07</td>\n",
       "    </tr>\n",
       "    <tr>\n",
       "      <th>4</th>\n",
       "      <td>2022-12-31 19:00:00</td>\n",
       "      <td>16577.78</td>\n",
       "      <td>16590.06</td>\n",
       "      <td>16565.10</td>\n",
       "      <td>16570.14</td>\n",
       "      <td>6.704605e+07</td>\n",
       "    </tr>\n",
       "    <tr>\n",
       "      <th>...</th>\n",
       "      <td>...</td>\n",
       "      <td>...</td>\n",
       "      <td>...</td>\n",
       "      <td>...</td>\n",
       "      <td>...</td>\n",
       "      <td>...</td>\n",
       "    </tr>\n",
       "    <tr>\n",
       "      <th>26269</th>\n",
       "      <td>2020-01-01 04:00:00</td>\n",
       "      <td>7225.00</td>\n",
       "      <td>7230.00</td>\n",
       "      <td>7215.03</td>\n",
       "      <td>7217.27</td>\n",
       "      <td>3.379094e+06</td>\n",
       "    </tr>\n",
       "    <tr>\n",
       "      <th>26270</th>\n",
       "      <td>2020-01-01 03:00:00</td>\n",
       "      <td>7242.66</td>\n",
       "      <td>7245.00</td>\n",
       "      <td>7220.00</td>\n",
       "      <td>7225.01</td>\n",
       "      <td>5.667367e+06</td>\n",
       "    </tr>\n",
       "    <tr>\n",
       "      <th>26271</th>\n",
       "      <td>2020-01-01 02:00:00</td>\n",
       "      <td>7215.52</td>\n",
       "      <td>7244.87</td>\n",
       "      <td>7211.41</td>\n",
       "      <td>7242.85</td>\n",
       "      <td>4.736719e+06</td>\n",
       "    </tr>\n",
       "    <tr>\n",
       "      <th>26272</th>\n",
       "      <td>2020-01-01 01:00:00</td>\n",
       "      <td>7176.47</td>\n",
       "      <td>7230.00</td>\n",
       "      <td>7175.71</td>\n",
       "      <td>7216.27</td>\n",
       "      <td>6.365953e+06</td>\n",
       "    </tr>\n",
       "    <tr>\n",
       "      <th>26273</th>\n",
       "      <td>2020-01-01 00:00:00</td>\n",
       "      <td>7195.24</td>\n",
       "      <td>7196.25</td>\n",
       "      <td>7175.46</td>\n",
       "      <td>7177.02</td>\n",
       "      <td>3.675857e+06</td>\n",
       "    </tr>\n",
       "  </tbody>\n",
       "</table>\n",
       "<p>26274 rows × 6 columns</p>\n",
       "</div>"
      ],
      "text/plain": [
       "                      Date      Open      High       Low     Close  \\\n",
       "0      2022-12-31 23:00:00  16520.28  16551.24  16487.74  16542.40   \n",
       "1      2022-12-31 22:00:00  16548.28  16567.49  16470.00  16520.81   \n",
       "2      2022-12-31 21:00:00  16568.19  16571.64  16544.12  16548.28   \n",
       "3      2022-12-31 20:00:00  16570.14  16574.97  16564.09  16568.60   \n",
       "4      2022-12-31 19:00:00  16577.78  16590.06  16565.10  16570.14   \n",
       "...                    ...       ...       ...       ...       ...   \n",
       "26269  2020-01-01 04:00:00   7225.00   7230.00   7215.03   7217.27   \n",
       "26270  2020-01-01 03:00:00   7242.66   7245.00   7220.00   7225.01   \n",
       "26271  2020-01-01 02:00:00   7215.52   7244.87   7211.41   7242.85   \n",
       "26272  2020-01-01 01:00:00   7176.47   7230.00   7175.71   7216.27   \n",
       "26273  2020-01-01 00:00:00   7195.24   7196.25   7175.46   7177.02   \n",
       "\n",
       "        Volume USDT  \n",
       "0      8.217183e+07  \n",
       "1      1.106669e+08  \n",
       "2      5.992803e+07  \n",
       "3      4.344849e+07  \n",
       "4      6.704605e+07  \n",
       "...             ...  \n",
       "26269  3.379094e+06  \n",
       "26270  5.667367e+06  \n",
       "26271  4.736719e+06  \n",
       "26272  6.365953e+06  \n",
       "26273  3.675857e+06  \n",
       "\n",
       "[26274 rows x 6 columns]"
      ]
     },
     "execution_count": 2,
     "metadata": {},
     "output_type": "execute_result"
    }
   ],
   "source": [
    "btc_dfd = pd.read_csv('../Dataset/Binance_BTCUSDT_1h.csv')\n",
    "btc_dfd"
   ]
  },
  {
   "cell_type": "code",
   "execution_count": 3,
   "id": "41062755-9cca-4348-91bc-e80d46b79c3d",
   "metadata": {},
   "outputs": [
    {
     "data": {
      "text/html": [
       "<div>\n",
       "<style scoped>\n",
       "    .dataframe tbody tr th:only-of-type {\n",
       "        vertical-align: middle;\n",
       "    }\n",
       "\n",
       "    .dataframe tbody tr th {\n",
       "        vertical-align: top;\n",
       "    }\n",
       "\n",
       "    .dataframe thead th {\n",
       "        text-align: right;\n",
       "    }\n",
       "</style>\n",
       "<table border=\"1\" class=\"dataframe\">\n",
       "  <thead>\n",
       "    <tr style=\"text-align: right;\">\n",
       "      <th></th>\n",
       "      <th>Close</th>\n",
       "    </tr>\n",
       "  </thead>\n",
       "  <tbody>\n",
       "    <tr>\n",
       "      <th>0</th>\n",
       "      <td>7177.02</td>\n",
       "    </tr>\n",
       "    <tr>\n",
       "      <th>1</th>\n",
       "      <td>7216.27</td>\n",
       "    </tr>\n",
       "    <tr>\n",
       "      <th>2</th>\n",
       "      <td>7242.85</td>\n",
       "    </tr>\n",
       "    <tr>\n",
       "      <th>3</th>\n",
       "      <td>7225.01</td>\n",
       "    </tr>\n",
       "    <tr>\n",
       "      <th>4</th>\n",
       "      <td>7217.27</td>\n",
       "    </tr>\n",
       "    <tr>\n",
       "      <th>...</th>\n",
       "      <td>...</td>\n",
       "    </tr>\n",
       "    <tr>\n",
       "      <th>26269</th>\n",
       "      <td>16570.14</td>\n",
       "    </tr>\n",
       "    <tr>\n",
       "      <th>26270</th>\n",
       "      <td>16568.60</td>\n",
       "    </tr>\n",
       "    <tr>\n",
       "      <th>26271</th>\n",
       "      <td>16548.28</td>\n",
       "    </tr>\n",
       "    <tr>\n",
       "      <th>26272</th>\n",
       "      <td>16520.81</td>\n",
       "    </tr>\n",
       "    <tr>\n",
       "      <th>26273</th>\n",
       "      <td>16542.40</td>\n",
       "    </tr>\n",
       "  </tbody>\n",
       "</table>\n",
       "<p>26274 rows × 1 columns</p>\n",
       "</div>"
      ],
      "text/plain": [
       "          Close\n",
       "0       7177.02\n",
       "1       7216.27\n",
       "2       7242.85\n",
       "3       7225.01\n",
       "4       7217.27\n",
       "...         ...\n",
       "26269  16570.14\n",
       "26270  16568.60\n",
       "26271  16548.28\n",
       "26272  16520.81\n",
       "26273  16542.40\n",
       "\n",
       "[26274 rows x 1 columns]"
      ]
     },
     "execution_count": 3,
     "metadata": {},
     "output_type": "execute_result"
    }
   ],
   "source": [
    "df = Preprocessing.sort_df(btc_dfd)\n",
    "df"
   ]
  },
  {
   "cell_type": "code",
   "execution_count": 4,
   "id": "140ecfee-f8cf-45f6-b3c6-49e8e7458101",
   "metadata": {},
   "outputs": [
    {
     "data": {
      "text/plain": [
       "array([[0.04722846],\n",
       "       [0.04783696],\n",
       "       [0.04824904],\n",
       "       ...,\n",
       "       [0.19251245],\n",
       "       [0.19208658],\n",
       "       [0.19242129]])"
      ]
     },
     "execution_count": 4,
     "metadata": {},
     "output_type": "execute_result"
    }
   ],
   "source": [
    "x, scaler = Preprocessing.minmax_scale(df)\n",
    "x"
   ]
  },
  {
   "cell_type": "code",
   "execution_count": 5,
   "id": "c42a7847-70b8-4487-a874-67e370666724",
   "metadata": {},
   "outputs": [
    {
     "data": {
      "text/plain": [
       "array([[0.04722846],\n",
       "       [0.04783696],\n",
       "       [0.04824904],\n",
       "       ...,\n",
       "       [0.39344233],\n",
       "       [0.3886748 ],\n",
       "       [0.38670838]])"
      ]
     },
     "execution_count": 5,
     "metadata": {},
     "output_type": "execute_result"
    }
   ],
   "source": [
    "train, test = Preprocessing.splitting_data(x)\n",
    "train"
   ]
  },
  {
   "cell_type": "code",
   "execution_count": 6,
   "id": "a8e525a6-83d0-4c8b-9875-33e0e15480ae",
   "metadata": {},
   "outputs": [
    {
     "data": {
      "text/plain": [
       "array([[0.38493033],\n",
       "       [0.38538193],\n",
       "       [0.38586346],\n",
       "       ...,\n",
       "       [0.19251245],\n",
       "       [0.19208658],\n",
       "       [0.19242129]])"
      ]
     },
     "execution_count": 6,
     "metadata": {},
     "output_type": "execute_result"
    }
   ],
   "source": [
    "test"
   ]
  },
  {
   "cell_type": "code",
   "execution_count": 7,
   "id": "08213717-a303-4c9e-97bb-280204035109",
   "metadata": {},
   "outputs": [],
   "source": [
    "train_X, train_y = Preprocessing.create_dataset(train,25)\n",
    "test_X, test_y = Preprocessing.create_dataset(test,25)"
   ]
  },
  {
   "cell_type": "code",
   "execution_count": 8,
   "id": "aff76bd7-16f2-4bf2-8a64-f1f6a1194661",
   "metadata": {},
   "outputs": [
    {
     "data": {
      "text/plain": [
       "array([[[0.04722846],\n",
       "        [0.04783696],\n",
       "        [0.04824904],\n",
       "        ...,\n",
       "        [0.04755357],\n",
       "        [0.0475979 ],\n",
       "        [0.04775557]],\n",
       "\n",
       "       [[0.04783696],\n",
       "        [0.04824904],\n",
       "        [0.04797246],\n",
       "        ...,\n",
       "        [0.0475979 ],\n",
       "        [0.04775557],\n",
       "        [0.04744504]],\n",
       "\n",
       "       [[0.04824904],\n",
       "        [0.04797246],\n",
       "        [0.04785247],\n",
       "        ...,\n",
       "        [0.04775557],\n",
       "        [0.04744504],\n",
       "        [0.04710444]],\n",
       "\n",
       "       ...,\n",
       "\n",
       "       [[0.39834302],\n",
       "        [0.39773174],\n",
       "        [0.39395827],\n",
       "        ...,\n",
       "        [0.39144071],\n",
       "        [0.39268484],\n",
       "        [0.39452832]],\n",
       "\n",
       "       [[0.39773174],\n",
       "        [0.39395827],\n",
       "        [0.39775096],\n",
       "        ...,\n",
       "        [0.39268484],\n",
       "        [0.39452832],\n",
       "        [0.39344233]],\n",
       "\n",
       "       [[0.39395827],\n",
       "        [0.39775096],\n",
       "        [0.39605305],\n",
       "        ...,\n",
       "        [0.39452832],\n",
       "        [0.39344233],\n",
       "        [0.3886748 ]]])"
      ]
     },
     "execution_count": 8,
     "metadata": {},
     "output_type": "execute_result"
    }
   ],
   "source": [
    "train_X"
   ]
  },
  {
   "cell_type": "code",
   "execution_count": 9,
   "id": "4efa14c4-f85e-47c3-bc04-7f0d029d3a72",
   "metadata": {},
   "outputs": [
    {
     "data": {
      "text/plain": [
       "array([0.04744504, 0.04710444, 0.04649346, ..., 0.39344233, 0.3886748 ,\n",
       "       0.38670838])"
      ]
     },
     "execution_count": 9,
     "metadata": {},
     "output_type": "execute_result"
    }
   ],
   "source": [
    "train_y"
   ]
  },
  {
   "cell_type": "code",
   "execution_count": 10,
   "id": "51dc56af-5903-45ab-a70b-556fb3f3d97a",
   "metadata": {},
   "outputs": [
    {
     "data": {
      "text/plain": [
       "array([[[0.38493033],\n",
       "        [0.38538193],\n",
       "        [0.38586346],\n",
       "        ...,\n",
       "        [0.37981398],\n",
       "        [0.38255028],\n",
       "        [0.37959724]],\n",
       "\n",
       "       [[0.38538193],\n",
       "        [0.38586346],\n",
       "        [0.38442601],\n",
       "        ...,\n",
       "        [0.38255028],\n",
       "        [0.37959724],\n",
       "        [0.38068448]],\n",
       "\n",
       "       [[0.38586346],\n",
       "        [0.38442601],\n",
       "        [0.38245246],\n",
       "        ...,\n",
       "        [0.37959724],\n",
       "        [0.38068448],\n",
       "        [0.38275027]],\n",
       "\n",
       "       ...,\n",
       "\n",
       "       [[0.19282887],\n",
       "        [0.19308265],\n",
       "        [0.1930549 ],\n",
       "        ...,\n",
       "        [0.19296994],\n",
       "        [0.19285135],\n",
       "        [0.19282747]],\n",
       "\n",
       "       [[0.19308265],\n",
       "        [0.1930549 ],\n",
       "        [0.19343023],\n",
       "        ...,\n",
       "        [0.19285135],\n",
       "        [0.19282747],\n",
       "        [0.19251245]],\n",
       "\n",
       "       [[0.1930549 ],\n",
       "        [0.19343023],\n",
       "        [0.19300917],\n",
       "        ...,\n",
       "        [0.19282747],\n",
       "        [0.19251245],\n",
       "        [0.19208658]]])"
      ]
     },
     "execution_count": 10,
     "metadata": {},
     "output_type": "execute_result"
    }
   ],
   "source": [
    "test_X"
   ]
  },
  {
   "cell_type": "code",
   "execution_count": 11,
   "id": "d98152d5-e8c5-4645-90ea-876a042b25e0",
   "metadata": {},
   "outputs": [
    {
     "data": {
      "text/plain": [
       "array([0.38068448, 0.38275027, 0.38296623, ..., 0.19251245, 0.19208658,\n",
       "       0.19242129])"
      ]
     },
     "execution_count": 11,
     "metadata": {},
     "output_type": "execute_result"
    }
   ],
   "source": [
    "test_y"
   ]
  },
  {
   "cell_type": "code",
   "execution_count": 12,
   "id": "d80df0f9-fe70-44f0-bef3-b779d95da0d0",
   "metadata": {},
   "outputs": [
    {
     "name": "stdout",
     "output_type": "stream",
     "text": [
      "(20994, 25, 1) (20994,) (5230, 25, 1) (5230,)\n"
     ]
    }
   ],
   "source": [
    "print(train_X.shape, train_y.shape, test_X.shape, test_y.shape)"
   ]
  },
  {
   "cell_type": "markdown",
   "id": "cf43011a-1b18-4fef-b638-d84109a5347b",
   "metadata": {},
   "source": [
    "## Model Training"
   ]
  },
  {
   "cell_type": "code",
   "execution_count": 13,
   "id": "7c6e3c5f-f40b-427b-bbf6-715de9fbfed4",
   "metadata": {},
   "outputs": [],
   "source": [
    "hyperparam = [(16,50,60)]"
   ]
  },
  {
   "cell_type": "code",
   "execution_count": 14,
   "id": "3ffd8dc1-5eb8-4d7e-aba2-cab78df020ae",
   "metadata": {},
   "outputs": [
    {
     "name": "stdout",
     "output_type": "stream",
     "text": [
      "Metal device set to: Apple M1\n"
     ]
    },
    {
     "name": "stderr",
     "output_type": "stream",
     "text": [
      "2023-06-16 21:14:32.532794: I tensorflow/core/common_runtime/pluggable_device/pluggable_device_factory.cc:306] Could not identify NUMA node of platform GPU ID 0, defaulting to 0. Your kernel may not have been built with NUMA support.\n",
      "2023-06-16 21:14:32.533221: I tensorflow/core/common_runtime/pluggable_device/pluggable_device_factory.cc:272] Created TensorFlow device (/job:localhost/replica:0/task:0/device:GPU:0 with 0 MB memory) -> physical PluggableDevice (device: 0, name: METAL, pci bus id: <undefined>)\n"
     ]
    },
    {
     "name": "stdout",
     "output_type": "stream",
     "text": [
      "Epoch 1/50\n"
     ]
    },
    {
     "name": "stderr",
     "output_type": "stream",
     "text": [
      "2023-06-16 21:14:32.844828: W tensorflow/core/platform/profile_utils/cpu_utils.cc:128] Failed to get CPU frequency: 0 Hz\n",
      "2023-06-16 21:14:33.257317: I tensorflow/core/grappler/optimizers/custom_graph_optimizer_registry.cc:114] Plugin optimizer for device_type GPU is enabled.\n",
      "2023-06-16 21:14:33.349217: I tensorflow/core/grappler/optimizers/custom_graph_optimizer_registry.cc:114] Plugin optimizer for device_type GPU is enabled.\n",
      "2023-06-16 21:14:33.503181: I tensorflow/core/grappler/optimizers/custom_graph_optimizer_registry.cc:114] Plugin optimizer for device_type GPU is enabled.\n",
      "2023-06-16 21:14:48.146056: I tensorflow/core/grappler/optimizers/custom_graph_optimizer_registry.cc:114] Plugin optimizer for device_type GPU is enabled.\n",
      "2023-06-16 21:14:48.180604: I tensorflow/core/grappler/optimizers/custom_graph_optimizer_registry.cc:114] Plugin optimizer for device_type GPU is enabled.\n"
     ]
    },
    {
     "name": "stdout",
     "output_type": "stream",
     "text": [
      "1313/1313 - 17s - loss: 2.0452e-04 - val_loss: 0.0045 - 17s/epoch - 13ms/step\n",
      "Epoch 2/50\n",
      "1313/1313 - 16s - loss: 2.6978e-04 - val_loss: 0.0054 - 16s/epoch - 12ms/step\n",
      "Epoch 3/50\n",
      "1313/1313 - 20s - loss: 3.4142e-04 - val_loss: 0.0053 - 20s/epoch - 15ms/step\n",
      "Epoch 4/50\n",
      "1313/1313 - 21s - loss: 3.4281e-04 - val_loss: 0.0046 - 21s/epoch - 16ms/step\n",
      "Epoch 5/50\n",
      "1313/1313 - 21s - loss: 3.0937e-04 - val_loss: 0.0040 - 21s/epoch - 16ms/step\n",
      "Epoch 6/50\n",
      "1313/1313 - 21s - loss: 2.6230e-04 - val_loss: 0.0034 - 21s/epoch - 16ms/step\n",
      "Epoch 7/50\n",
      "1313/1313 - 22s - loss: 2.1241e-04 - val_loss: 0.0028 - 22s/epoch - 17ms/step\n",
      "Epoch 8/50\n",
      "1313/1313 - 22s - loss: 1.7183e-04 - val_loss: 0.0023 - 22s/epoch - 17ms/step\n",
      "Epoch 9/50\n",
      "1313/1313 - 23s - loss: 1.4569e-04 - val_loss: 0.0019 - 23s/epoch - 18ms/step\n",
      "Epoch 10/50\n",
      "1313/1313 - 23s - loss: 1.2245e-04 - val_loss: 0.0016 - 23s/epoch - 18ms/step\n",
      "Epoch 11/50\n",
      "1313/1313 - 23s - loss: 1.1013e-04 - val_loss: 0.0013 - 23s/epoch - 18ms/step\n",
      "Epoch 12/50\n",
      "1313/1313 - 24s - loss: 9.8200e-05 - val_loss: 0.0012 - 24s/epoch - 18ms/step\n",
      "Epoch 13/50\n",
      "1313/1313 - 24s - loss: 9.7135e-05 - val_loss: 0.0011 - 24s/epoch - 18ms/step\n",
      "Epoch 14/50\n",
      "1313/1313 - 24s - loss: 9.1010e-05 - val_loss: 0.0010 - 24s/epoch - 18ms/step\n",
      "Epoch 15/50\n",
      "1313/1313 - 24s - loss: 8.8561e-05 - val_loss: 9.3192e-04 - 24s/epoch - 18ms/step\n",
      "Epoch 16/50\n",
      "1313/1313 - 24s - loss: 8.3398e-05 - val_loss: 8.6874e-04 - 24s/epoch - 18ms/step\n",
      "Epoch 17/50\n",
      "1313/1313 - 24s - loss: 8.1186e-05 - val_loss: 8.0241e-04 - 24s/epoch - 18ms/step\n",
      "Epoch 18/50\n",
      "1313/1313 - 24s - loss: 7.8392e-05 - val_loss: 7.4824e-04 - 24s/epoch - 18ms/step\n",
      "Epoch 19/50\n",
      "1313/1313 - 24s - loss: 7.6039e-05 - val_loss: 6.8943e-04 - 24s/epoch - 18ms/step\n",
      "Epoch 20/50\n",
      "1313/1313 - 23s - loss: 7.3268e-05 - val_loss: 6.4628e-04 - 23s/epoch - 18ms/step\n",
      "Epoch 21/50\n",
      "1313/1313 - 25s - loss: 7.1386e-05 - val_loss: 5.9989e-04 - 25s/epoch - 19ms/step\n",
      "Epoch 22/50\n",
      "1313/1313 - 24s - loss: 6.9756e-05 - val_loss: 5.6578e-04 - 24s/epoch - 19ms/step\n",
      "Epoch 23/50\n",
      "1313/1313 - 24s - loss: 6.8352e-05 - val_loss: 5.3765e-04 - 24s/epoch - 18ms/step\n",
      "Epoch 24/50\n",
      "1313/1313 - 24s - loss: 6.7568e-05 - val_loss: 5.2029e-04 - 24s/epoch - 18ms/step\n",
      "Epoch 25/50\n",
      "1313/1313 - 24s - loss: 6.6541e-05 - val_loss: 5.0352e-04 - 24s/epoch - 18ms/step\n",
      "Epoch 26/50\n",
      "1313/1313 - 25s - loss: 6.5833e-05 - val_loss: 4.8531e-04 - 25s/epoch - 19ms/step\n",
      "Epoch 27/50\n",
      "1313/1313 - 24s - loss: 6.4711e-05 - val_loss: 4.6809e-04 - 24s/epoch - 19ms/step\n",
      "Epoch 28/50\n",
      "1313/1313 - 24s - loss: 6.4497e-05 - val_loss: 4.5510e-04 - 24s/epoch - 18ms/step\n",
      "Epoch 29/50\n",
      "1313/1313 - 24s - loss: 6.3907e-05 - val_loss: 4.4682e-04 - 24s/epoch - 18ms/step\n",
      "Epoch 30/50\n",
      "1313/1313 - 25s - loss: 6.3947e-05 - val_loss: 4.4397e-04 - 25s/epoch - 19ms/step\n",
      "Epoch 31/50\n",
      "1313/1313 - 26s - loss: 6.3927e-05 - val_loss: 4.3294e-04 - 26s/epoch - 20ms/step\n",
      "Epoch 32/50\n",
      "1313/1313 - 25s - loss: 6.3867e-05 - val_loss: 4.2929e-04 - 25s/epoch - 19ms/step\n",
      "Epoch 33/50\n",
      "1313/1313 - 25s - loss: 6.3896e-05 - val_loss: 4.1440e-04 - 25s/epoch - 19ms/step\n",
      "Epoch 34/50\n",
      "1313/1313 - 24s - loss: 6.4029e-05 - val_loss: 4.1479e-04 - 24s/epoch - 18ms/step\n",
      "Epoch 35/50\n",
      "1313/1313 - 24s - loss: 6.4087e-05 - val_loss: 3.9772e-04 - 24s/epoch - 19ms/step\n",
      "Epoch 36/50\n",
      "1313/1313 - 25s - loss: 6.4338e-05 - val_loss: 3.9736e-04 - 25s/epoch - 19ms/step\n",
      "Epoch 37/50\n",
      "1313/1313 - 24s - loss: 6.4895e-05 - val_loss: 3.9061e-04 - 24s/epoch - 19ms/step\n",
      "Epoch 38/50\n",
      "1313/1313 - 25s - loss: 6.5933e-05 - val_loss: 3.8526e-04 - 25s/epoch - 19ms/step\n",
      "Epoch 39/50\n",
      "1313/1313 - 26s - loss: 6.6615e-05 - val_loss: 3.8087e-04 - 26s/epoch - 19ms/step\n",
      "Epoch 40/50\n",
      "1313/1313 - 26s - loss: 6.8028e-05 - val_loss: 3.6982e-04 - 26s/epoch - 19ms/step\n",
      "Epoch 41/50\n",
      "1313/1313 - 25s - loss: 6.8855e-05 - val_loss: 3.6011e-04 - 25s/epoch - 19ms/step\n",
      "Epoch 42/50\n",
      "1313/1313 - 24s - loss: 7.0257e-05 - val_loss: 3.4823e-04 - 24s/epoch - 19ms/step\n",
      "Epoch 43/50\n",
      "1313/1313 - 25s - loss: 7.1290e-05 - val_loss: 3.3106e-04 - 25s/epoch - 19ms/step\n",
      "Epoch 44/50\n",
      "1313/1313 - 25s - loss: 7.2105e-05 - val_loss: 3.1069e-04 - 25s/epoch - 19ms/step\n",
      "Epoch 45/50\n",
      "1313/1313 - 25s - loss: 7.2596e-05 - val_loss: 2.9331e-04 - 25s/epoch - 19ms/step\n",
      "Epoch 46/50\n",
      "1313/1313 - 25s - loss: 7.3296e-05 - val_loss: 2.7844e-04 - 25s/epoch - 19ms/step\n",
      "Epoch 47/50\n",
      "1313/1313 - 26s - loss: 7.3904e-05 - val_loss: 2.6345e-04 - 26s/epoch - 20ms/step\n",
      "Epoch 48/50\n",
      "1313/1313 - 25s - loss: 7.4375e-05 - val_loss: 2.4839e-04 - 25s/epoch - 19ms/step\n",
      "Epoch 49/50\n",
      "1313/1313 - 25s - loss: 7.4769e-05 - val_loss: 2.3497e-04 - 25s/epoch - 19ms/step\n",
      "Epoch 50/50\n",
      "1313/1313 - 25s - loss: 7.5131e-05 - val_loss: 2.2273e-04 - 25s/epoch - 19ms/step\n"
     ]
    }
   ],
   "source": [
    "for batch, epoch, neuron in hyperparam:\n",
    "    model1, lstm1 = NeuralNetwork.train_lstm(train_X, train_y, test_X, test_y, neuron, epoch, batch)"
   ]
  },
  {
   "cell_type": "code",
   "execution_count": 15,
   "id": "ebe15d8d-6bc9-4220-a7db-48e4d4c7cd18",
   "metadata": {},
   "outputs": [
    {
     "name": "stderr",
     "output_type": "stream",
     "text": [
      "2023-06-16 21:34:18.742394: I tensorflow/core/grappler/optimizers/custom_graph_optimizer_registry.cc:114] Plugin optimizer for device_type GPU is enabled.\n",
      "2023-06-16 21:34:18.839483: I tensorflow/core/grappler/optimizers/custom_graph_optimizer_registry.cc:114] Plugin optimizer for device_type GPU is enabled.\n"
     ]
    },
    {
     "name": "stdout",
     "output_type": "stream",
     "text": [
      "164/164 [==============================] - 2s 8ms/step\n",
      "(16, 50, 60)\n",
      "Epoch: 50\n",
      "Neurons: 60\n",
      "RMSE\n",
      "962.6578798607347\n",
      "MAE\n",
      "924.5501534715596\n",
      "MAPE\n",
      "4.7693115280888865\n"
     ]
    }
   ],
   "source": [
    "i=0\n",
    "# make a prediction\n",
    "test_x2 = test_X\n",
    "yhat = NeuralNetwork.predict(test_x2, model1)\n",
    "inv_yhat = Preprocessing.inverse_scaler(yhat, scaler)\n",
    "inv_y = Preprocessing.inverse_scaler(test_y.reshape(-1,1), scaler)\n",
    "print(hyperparam[i])\n",
    "print(\"Epoch: \"+ str(lstm1.params['epochs']))\n",
    "print(\"Neurons: \"+str(model1.layers[0].units))\n",
    "i = i+1\n",
    "print('RMSE')\n",
    "print(Evaluation.rmse(inv_y,inv_yhat))\n",
    "print('MAE')\n",
    "print(Evaluation.mae(inv_y,inv_yhat))\n",
    "print('MAPE')\n",
    "print(Evaluation.mape(inv_y,inv_yhat))\n",
    "NeuralNetwork.save_model(model1, 0, 'BTC',hyperparam[0])\n",
    "with open('LSTM_BTC'+str(hyperparam[0])+'.pkl', 'wb') as f:\n",
    "    pickle.dump(lstm1.history, f)"
   ]
  },
  {
   "cell_type": "code",
   "execution_count": null,
   "id": "13a58e81-77c7-489c-9932-062972f07b1d",
   "metadata": {},
   "outputs": [],
   "source": []
  }
 ],
 "metadata": {
  "kernelspec": {
   "display_name": "Python 3 (ipykernel)",
   "language": "python",
   "name": "python3"
  },
  "language_info": {
   "codemirror_mode": {
    "name": "ipython",
    "version": 3
   },
   "file_extension": ".py",
   "mimetype": "text/x-python",
   "name": "python",
   "nbconvert_exporter": "python",
   "pygments_lexer": "ipython3",
   "version": "3.9.13"
  }
 },
 "nbformat": 4,
 "nbformat_minor": 5
}
