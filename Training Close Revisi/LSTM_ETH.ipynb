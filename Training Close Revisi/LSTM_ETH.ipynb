{
 "cells": [
  {
   "cell_type": "code",
   "execution_count": 1,
   "id": "499ef9d1-2655-483e-9f50-0badccf17d21",
   "metadata": {},
   "outputs": [],
   "source": [
    "from Skripsi import Preprocessing\n",
    "from Skripsi import Evaluation\n",
    "from Skripsi import NeuralNetwork\n",
    "from pandas import read_csv\n",
    "from pandas import DataFrame\n",
    "import numpy as np\n",
    "import pandas as pd\n",
    "from openpyxl.workbook import Workbook\n",
    "import pickle"
   ]
  },
  {
   "cell_type": "code",
   "execution_count": 2,
   "id": "f8ed0706-d5c2-4868-beee-6933c00b0a83",
   "metadata": {},
   "outputs": [
    {
     "data": {
      "text/html": [
       "<div>\n",
       "<style scoped>\n",
       "    .dataframe tbody tr th:only-of-type {\n",
       "        vertical-align: middle;\n",
       "    }\n",
       "\n",
       "    .dataframe tbody tr th {\n",
       "        vertical-align: top;\n",
       "    }\n",
       "\n",
       "    .dataframe thead th {\n",
       "        text-align: right;\n",
       "    }\n",
       "</style>\n",
       "<table border=\"1\" class=\"dataframe\">\n",
       "  <thead>\n",
       "    <tr style=\"text-align: right;\">\n",
       "      <th></th>\n",
       "      <th>Date</th>\n",
       "      <th>Open</th>\n",
       "      <th>High</th>\n",
       "      <th>Low</th>\n",
       "      <th>Close</th>\n",
       "      <th>Volume USDT</th>\n",
       "    </tr>\n",
       "  </thead>\n",
       "  <tbody>\n",
       "    <tr>\n",
       "      <th>0</th>\n",
       "      <td>2022-12-31 23:00:00</td>\n",
       "      <td>1196.18</td>\n",
       "      <td>1197.43</td>\n",
       "      <td>1193.60</td>\n",
       "      <td>1196.13</td>\n",
       "      <td>7.086714e+06</td>\n",
       "    </tr>\n",
       "    <tr>\n",
       "      <th>1</th>\n",
       "      <td>2022-12-31 22:00:00</td>\n",
       "      <td>1200.09</td>\n",
       "      <td>1201.11</td>\n",
       "      <td>1193.08</td>\n",
       "      <td>1196.19</td>\n",
       "      <td>1.143952e+07</td>\n",
       "    </tr>\n",
       "    <tr>\n",
       "      <th>2</th>\n",
       "      <td>2022-12-31 21:00:00</td>\n",
       "      <td>1202.33</td>\n",
       "      <td>1203.00</td>\n",
       "      <td>1199.83</td>\n",
       "      <td>1200.10</td>\n",
       "      <td>4.643401e+06</td>\n",
       "    </tr>\n",
       "    <tr>\n",
       "      <th>3</th>\n",
       "      <td>2022-12-31 20:00:00</td>\n",
       "      <td>1202.66</td>\n",
       "      <td>1203.71</td>\n",
       "      <td>1202.30</td>\n",
       "      <td>1202.34</td>\n",
       "      <td>4.278879e+06</td>\n",
       "    </tr>\n",
       "    <tr>\n",
       "      <th>4</th>\n",
       "      <td>2022-12-31 19:00:00</td>\n",
       "      <td>1199.59</td>\n",
       "      <td>1205.61</td>\n",
       "      <td>1199.42</td>\n",
       "      <td>1202.65</td>\n",
       "      <td>7.738029e+06</td>\n",
       "    </tr>\n",
       "    <tr>\n",
       "      <th>...</th>\n",
       "      <td>...</td>\n",
       "      <td>...</td>\n",
       "      <td>...</td>\n",
       "      <td>...</td>\n",
       "      <td>...</td>\n",
       "      <td>...</td>\n",
       "    </tr>\n",
       "    <tr>\n",
       "      <th>26269</th>\n",
       "      <td>2020-01-01 04:00:00</td>\n",
       "      <td>130.21</td>\n",
       "      <td>130.74</td>\n",
       "      <td>130.15</td>\n",
       "      <td>130.20</td>\n",
       "      <td>4.430067e+05</td>\n",
       "    </tr>\n",
       "    <tr>\n",
       "      <th>26270</th>\n",
       "      <td>2020-01-01 03:00:00</td>\n",
       "      <td>130.85</td>\n",
       "      <td>130.89</td>\n",
       "      <td>129.94</td>\n",
       "      <td>130.20</td>\n",
       "      <td>6.473610e+05</td>\n",
       "    </tr>\n",
       "    <tr>\n",
       "      <th>26271</th>\n",
       "      <td>2020-01-01 02:00:00</td>\n",
       "      <td>130.63</td>\n",
       "      <td>130.98</td>\n",
       "      <td>130.35</td>\n",
       "      <td>130.85</td>\n",
       "      <td>9.940256e+05</td>\n",
       "    </tr>\n",
       "    <tr>\n",
       "      <th>26272</th>\n",
       "      <td>2020-01-01 01:00:00</td>\n",
       "      <td>128.87</td>\n",
       "      <td>130.65</td>\n",
       "      <td>128.78</td>\n",
       "      <td>130.64</td>\n",
       "      <td>1.474278e+06</td>\n",
       "    </tr>\n",
       "    <tr>\n",
       "      <th>26273</th>\n",
       "      <td>2020-01-01 00:00:00</td>\n",
       "      <td>129.16</td>\n",
       "      <td>129.19</td>\n",
       "      <td>128.68</td>\n",
       "      <td>128.87</td>\n",
       "      <td>1.000930e+06</td>\n",
       "    </tr>\n",
       "  </tbody>\n",
       "</table>\n",
       "<p>26274 rows × 6 columns</p>\n",
       "</div>"
      ],
      "text/plain": [
       "                      Date     Open     High      Low    Close   Volume USDT\n",
       "0      2022-12-31 23:00:00  1196.18  1197.43  1193.60  1196.13  7.086714e+06\n",
       "1      2022-12-31 22:00:00  1200.09  1201.11  1193.08  1196.19  1.143952e+07\n",
       "2      2022-12-31 21:00:00  1202.33  1203.00  1199.83  1200.10  4.643401e+06\n",
       "3      2022-12-31 20:00:00  1202.66  1203.71  1202.30  1202.34  4.278879e+06\n",
       "4      2022-12-31 19:00:00  1199.59  1205.61  1199.42  1202.65  7.738029e+06\n",
       "...                    ...      ...      ...      ...      ...           ...\n",
       "26269  2020-01-01 04:00:00   130.21   130.74   130.15   130.20  4.430067e+05\n",
       "26270  2020-01-01 03:00:00   130.85   130.89   129.94   130.20  6.473610e+05\n",
       "26271  2020-01-01 02:00:00   130.63   130.98   130.35   130.85  9.940256e+05\n",
       "26272  2020-01-01 01:00:00   128.87   130.65   128.78   130.64  1.474278e+06\n",
       "26273  2020-01-01 00:00:00   129.16   129.19   128.68   128.87  1.000930e+06\n",
       "\n",
       "[26274 rows x 6 columns]"
      ]
     },
     "execution_count": 2,
     "metadata": {},
     "output_type": "execute_result"
    }
   ],
   "source": [
    "eth_dfd = pd.read_csv('../Dataset/Binance_ETHUSDT_1h.csv')\n",
    "eth_dfd"
   ]
  },
  {
   "cell_type": "code",
   "execution_count": 3,
   "id": "41062755-9cca-4348-91bc-e80d46b79c3d",
   "metadata": {},
   "outputs": [
    {
     "data": {
      "text/html": [
       "<div>\n",
       "<style scoped>\n",
       "    .dataframe tbody tr th:only-of-type {\n",
       "        vertical-align: middle;\n",
       "    }\n",
       "\n",
       "    .dataframe tbody tr th {\n",
       "        vertical-align: top;\n",
       "    }\n",
       "\n",
       "    .dataframe thead th {\n",
       "        text-align: right;\n",
       "    }\n",
       "</style>\n",
       "<table border=\"1\" class=\"dataframe\">\n",
       "  <thead>\n",
       "    <tr style=\"text-align: right;\">\n",
       "      <th></th>\n",
       "      <th>Close</th>\n",
       "    </tr>\n",
       "  </thead>\n",
       "  <tbody>\n",
       "    <tr>\n",
       "      <th>0</th>\n",
       "      <td>128.87</td>\n",
       "    </tr>\n",
       "    <tr>\n",
       "      <th>1</th>\n",
       "      <td>130.64</td>\n",
       "    </tr>\n",
       "    <tr>\n",
       "      <th>2</th>\n",
       "      <td>130.85</td>\n",
       "    </tr>\n",
       "    <tr>\n",
       "      <th>3</th>\n",
       "      <td>130.20</td>\n",
       "    </tr>\n",
       "    <tr>\n",
       "      <th>4</th>\n",
       "      <td>130.20</td>\n",
       "    </tr>\n",
       "    <tr>\n",
       "      <th>...</th>\n",
       "      <td>...</td>\n",
       "    </tr>\n",
       "    <tr>\n",
       "      <th>26269</th>\n",
       "      <td>1202.65</td>\n",
       "    </tr>\n",
       "    <tr>\n",
       "      <th>26270</th>\n",
       "      <td>1202.34</td>\n",
       "    </tr>\n",
       "    <tr>\n",
       "      <th>26271</th>\n",
       "      <td>1200.10</td>\n",
       "    </tr>\n",
       "    <tr>\n",
       "      <th>26272</th>\n",
       "      <td>1196.19</td>\n",
       "    </tr>\n",
       "    <tr>\n",
       "      <th>26273</th>\n",
       "      <td>1196.13</td>\n",
       "    </tr>\n",
       "  </tbody>\n",
       "</table>\n",
       "<p>26274 rows × 1 columns</p>\n",
       "</div>"
      ],
      "text/plain": [
       "         Close\n",
       "0       128.87\n",
       "1       130.64\n",
       "2       130.85\n",
       "3       130.20\n",
       "4       130.20\n",
       "...        ...\n",
       "26269  1202.65\n",
       "26270  1202.34\n",
       "26271  1200.10\n",
       "26272  1196.19\n",
       "26273  1196.13\n",
       "\n",
       "[26274 rows x 1 columns]"
      ]
     },
     "execution_count": 3,
     "metadata": {},
     "output_type": "execute_result"
    }
   ],
   "source": [
    "df = Preprocessing.sort_df(eth_dfd)\n",
    "df"
   ]
  },
  {
   "cell_type": "code",
   "execution_count": 4,
   "id": "140ecfee-f8cf-45f6-b3c6-49e8e7458101",
   "metadata": {},
   "outputs": [
    {
     "data": {
      "text/plain": [
       "array([[0.00678935],\n",
       "       [0.00716197],\n",
       "       [0.00720618],\n",
       "       ...,\n",
       "       [0.23230718],\n",
       "       [0.23148404],\n",
       "       [0.2314714 ]])"
      ]
     },
     "execution_count": 4,
     "metadata": {},
     "output_type": "execute_result"
    }
   ],
   "source": [
    "x, scaler = Preprocessing.minmax_scale(df)\n",
    "x"
   ]
  },
  {
   "cell_type": "code",
   "execution_count": 5,
   "id": "c42a7847-70b8-4487-a874-67e370666724",
   "metadata": {},
   "outputs": [
    {
     "data": {
      "text/plain": [
       "array([[0.00678935],\n",
       "       [0.00716197],\n",
       "       [0.00720618],\n",
       "       ...,\n",
       "       [0.36294049],\n",
       "       [0.35696376],\n",
       "       [0.35310278]])"
      ]
     },
     "execution_count": 5,
     "metadata": {},
     "output_type": "execute_result"
    }
   ],
   "source": [
    "train, test = Preprocessing.splitting_data(x)\n",
    "train"
   ]
  },
  {
   "cell_type": "code",
   "execution_count": 6,
   "id": "a8e525a6-83d0-4c8b-9875-33e0e15480ae",
   "metadata": {},
   "outputs": [
    {
     "data": {
      "text/plain": [
       "array([[0.34664396],\n",
       "       [0.34877655],\n",
       "       [0.35186281],\n",
       "       ...,\n",
       "       [0.23230718],\n",
       "       [0.23148404],\n",
       "       [0.2314714 ]])"
      ]
     },
     "execution_count": 6,
     "metadata": {},
     "output_type": "execute_result"
    }
   ],
   "source": [
    "test"
   ]
  },
  {
   "cell_type": "code",
   "execution_count": 7,
   "id": "08213717-a303-4c9e-97bb-280204035109",
   "metadata": {},
   "outputs": [],
   "source": [
    "train_X, train_y = Preprocessing.create_dataset(train,25)\n",
    "test_X, test_y = Preprocessing.create_dataset(test,25)"
   ]
  },
  {
   "cell_type": "code",
   "execution_count": 8,
   "id": "aff76bd7-16f2-4bf2-8a64-f1f6a1194661",
   "metadata": {},
   "outputs": [
    {
     "data": {
      "text/plain": [
       "array([[[0.00678935],\n",
       "        [0.00716197],\n",
       "        [0.00720618],\n",
       "        ...,\n",
       "        [0.00708408],\n",
       "        [0.00718934],\n",
       "        [0.00716829]],\n",
       "\n",
       "       [[0.00716197],\n",
       "        [0.00720618],\n",
       "        [0.00706934],\n",
       "        ...,\n",
       "        [0.00718934],\n",
       "        [0.00716829],\n",
       "        [0.00705881]],\n",
       "\n",
       "       [[0.00720618],\n",
       "        [0.00706934],\n",
       "        [0.00706934],\n",
       "        ...,\n",
       "        [0.00716829],\n",
       "        [0.00705881],\n",
       "        [0.00696829]],\n",
       "\n",
       "       ...,\n",
       "\n",
       "       [[0.39394411],\n",
       "        [0.39336939],\n",
       "        [0.38862632],\n",
       "        ...,\n",
       "        [0.36419099],\n",
       "        [0.36438046],\n",
       "        [0.36570254]],\n",
       "\n",
       "       [[0.39336939],\n",
       "        [0.38862632],\n",
       "        [0.39214836],\n",
       "        ...,\n",
       "        [0.36438046],\n",
       "        [0.36570254],\n",
       "        [0.36294049]],\n",
       "\n",
       "       [[0.38862632],\n",
       "        [0.39214836],\n",
       "        [0.38899684],\n",
       "        ...,\n",
       "        [0.36570254],\n",
       "        [0.36294049],\n",
       "        [0.35696376]]])"
      ]
     },
     "execution_count": 8,
     "metadata": {},
     "output_type": "execute_result"
    }
   ],
   "source": [
    "train_X"
   ]
  },
  {
   "cell_type": "code",
   "execution_count": 9,
   "id": "4efa14c4-f85e-47c3-bc04-7f0d029d3a72",
   "metadata": {},
   "outputs": [
    {
     "data": {
      "text/plain": [
       "array([0.00705881, 0.00696829, 0.00683777, ..., 0.36294049, 0.35696376,\n",
       "       0.35310278])"
      ]
     },
     "execution_count": 9,
     "metadata": {},
     "output_type": "execute_result"
    }
   ],
   "source": [
    "train_y"
   ]
  },
  {
   "cell_type": "code",
   "execution_count": 10,
   "id": "51dc56af-5903-45ab-a70b-556fb3f3d97a",
   "metadata": {},
   "outputs": [
    {
     "data": {
      "text/plain": [
       "array([[[0.34664396],\n",
       "        [0.34877655],\n",
       "        [0.35186281],\n",
       "        ...,\n",
       "        [0.34328823],\n",
       "        [0.34773236],\n",
       "        [0.34391769]],\n",
       "\n",
       "       [[0.34877655],\n",
       "        [0.35186281],\n",
       "        [0.34708184],\n",
       "        ...,\n",
       "        [0.34773236],\n",
       "        [0.34391769],\n",
       "        [0.34373243]],\n",
       "\n",
       "       [[0.35186281],\n",
       "        [0.34708184],\n",
       "        [0.34520188],\n",
       "        ...,\n",
       "        [0.34391769],\n",
       "        [0.34373243],\n",
       "        [0.35124808]],\n",
       "\n",
       "       ...,\n",
       "\n",
       "       [[0.23174087],\n",
       "        [0.23192192],\n",
       "        [0.23190718],\n",
       "        ...,\n",
       "        [0.23220192],\n",
       "        [0.23284401],\n",
       "        [0.23277875]],\n",
       "\n",
       "       [[0.23192192],\n",
       "        [0.23190718],\n",
       "        [0.23228402],\n",
       "        ...,\n",
       "        [0.23284401],\n",
       "        [0.23277875],\n",
       "        [0.23230718]],\n",
       "\n",
       "       [[0.23190718],\n",
       "        [0.23228402],\n",
       "        [0.23174087],\n",
       "        ...,\n",
       "        [0.23277875],\n",
       "        [0.23230718],\n",
       "        [0.23148404]]])"
      ]
     },
     "execution_count": 10,
     "metadata": {},
     "output_type": "execute_result"
    }
   ],
   "source": [
    "test_X"
   ]
  },
  {
   "cell_type": "code",
   "execution_count": 11,
   "id": "d98152d5-e8c5-4645-90ea-876a042b25e0",
   "metadata": {},
   "outputs": [
    {
     "data": {
      "text/plain": [
       "array([0.34373243, 0.35124808, 0.35062494, ..., 0.23230718, 0.23148404,\n",
       "       0.2314714 ])"
      ]
     },
     "execution_count": 11,
     "metadata": {},
     "output_type": "execute_result"
    }
   ],
   "source": [
    "test_y"
   ]
  },
  {
   "cell_type": "code",
   "execution_count": 12,
   "id": "d80df0f9-fe70-44f0-bef3-b779d95da0d0",
   "metadata": {},
   "outputs": [
    {
     "name": "stdout",
     "output_type": "stream",
     "text": [
      "(20994, 25, 1) (20994,) (5230, 25, 1) (5230,)\n"
     ]
    }
   ],
   "source": [
    "print(train_X.shape, train_y.shape, test_X.shape, test_y.shape)"
   ]
  },
  {
   "cell_type": "markdown",
   "id": "cf43011a-1b18-4fef-b638-d84109a5347b",
   "metadata": {},
   "source": [
    "## Model Training"
   ]
  },
  {
   "cell_type": "code",
   "execution_count": 13,
   "id": "7c6e3c5f-f40b-427b-bbf6-715de9fbfed4",
   "metadata": {},
   "outputs": [],
   "source": [
    "hyperparam = [(16,100,100)]"
   ]
  },
  {
   "cell_type": "code",
   "execution_count": 14,
   "id": "3ffd8dc1-5eb8-4d7e-aba2-cab78df020ae",
   "metadata": {},
   "outputs": [
    {
     "name": "stdout",
     "output_type": "stream",
     "text": [
      "Metal device set to: Apple M1\n"
     ]
    },
    {
     "name": "stderr",
     "output_type": "stream",
     "text": [
      "2023-06-16 21:14:35.991771: I tensorflow/core/common_runtime/pluggable_device/pluggable_device_factory.cc:306] Could not identify NUMA node of platform GPU ID 0, defaulting to 0. Your kernel may not have been built with NUMA support.\n",
      "2023-06-16 21:14:35.991887: I tensorflow/core/common_runtime/pluggable_device/pluggable_device_factory.cc:272] Created TensorFlow device (/job:localhost/replica:0/task:0/device:GPU:0 with 0 MB memory) -> physical PluggableDevice (device: 0, name: METAL, pci bus id: <undefined>)\n"
     ]
    },
    {
     "name": "stdout",
     "output_type": "stream",
     "text": [
      "Epoch 1/100\n"
     ]
    },
    {
     "name": "stderr",
     "output_type": "stream",
     "text": [
      "2023-06-16 21:14:36.237642: W tensorflow/core/platform/profile_utils/cpu_utils.cc:128] Failed to get CPU frequency: 0 Hz\n",
      "2023-06-16 21:14:36.674227: I tensorflow/core/grappler/optimizers/custom_graph_optimizer_registry.cc:114] Plugin optimizer for device_type GPU is enabled.\n",
      "2023-06-16 21:14:36.763578: I tensorflow/core/grappler/optimizers/custom_graph_optimizer_registry.cc:114] Plugin optimizer for device_type GPU is enabled.\n",
      "2023-06-16 21:14:36.923418: I tensorflow/core/grappler/optimizers/custom_graph_optimizer_registry.cc:114] Plugin optimizer for device_type GPU is enabled.\n",
      "2023-06-16 21:14:51.563342: I tensorflow/core/grappler/optimizers/custom_graph_optimizer_registry.cc:114] Plugin optimizer for device_type GPU is enabled.\n",
      "2023-06-16 21:14:51.595980: I tensorflow/core/grappler/optimizers/custom_graph_optimizer_registry.cc:114] Plugin optimizer for device_type GPU is enabled.\n"
     ]
    },
    {
     "name": "stdout",
     "output_type": "stream",
     "text": [
      "1313/1313 - 17s - loss: 4.2219e-04 - val_loss: 0.0067 - 17s/epoch - 13ms/step\n",
      "Epoch 2/100\n",
      "1313/1313 - 16s - loss: 7.0684e-04 - val_loss: 0.0041 - 16s/epoch - 12ms/step\n",
      "Epoch 3/100\n",
      "1313/1313 - 20s - loss: 6.1644e-04 - val_loss: 0.0032 - 20s/epoch - 15ms/step\n",
      "Epoch 4/100\n",
      "1313/1313 - 21s - loss: 5.0413e-04 - val_loss: 0.0026 - 21s/epoch - 16ms/step\n",
      "Epoch 5/100\n",
      "1313/1313 - 21s - loss: 3.6847e-04 - val_loss: 0.0021 - 21s/epoch - 16ms/step\n",
      "Epoch 6/100\n",
      "1313/1313 - 22s - loss: 2.7496e-04 - val_loss: 0.0017 - 22s/epoch - 16ms/step\n",
      "Epoch 7/100\n",
      "1313/1313 - 22s - loss: 1.9401e-04 - val_loss: 0.0014 - 22s/epoch - 17ms/step\n",
      "Epoch 8/100\n",
      "1313/1313 - 22s - loss: 1.4805e-04 - val_loss: 0.0012 - 22s/epoch - 17ms/step\n",
      "Epoch 9/100\n",
      "1313/1313 - 23s - loss: 1.2079e-04 - val_loss: 9.9491e-04 - 23s/epoch - 18ms/step\n",
      "Epoch 10/100\n",
      "1313/1313 - 23s - loss: 1.0895e-04 - val_loss: 9.1785e-04 - 23s/epoch - 18ms/step\n",
      "Epoch 11/100\n",
      "1313/1313 - 23s - loss: 1.0290e-04 - val_loss: 8.6201e-04 - 23s/epoch - 18ms/step\n",
      "Epoch 12/100\n",
      "1313/1313 - 24s - loss: 9.8666e-05 - val_loss: 8.0183e-04 - 24s/epoch - 18ms/step\n",
      "Epoch 13/100\n",
      "1313/1313 - 24s - loss: 9.4088e-05 - val_loss: 7.3764e-04 - 24s/epoch - 18ms/step\n",
      "Epoch 14/100\n",
      "1313/1313 - 23s - loss: 9.1493e-05 - val_loss: 6.9827e-04 - 23s/epoch - 18ms/step\n",
      "Epoch 15/100\n",
      "1313/1313 - 24s - loss: 9.0662e-05 - val_loss: 6.9174e-04 - 24s/epoch - 18ms/step\n",
      "Epoch 16/100\n",
      "1313/1313 - 24s - loss: 9.0473e-05 - val_loss: 6.5328e-04 - 24s/epoch - 19ms/step\n",
      "Epoch 17/100\n",
      "1313/1313 - 24s - loss: 9.0190e-05 - val_loss: 5.7185e-04 - 24s/epoch - 18ms/step\n",
      "Epoch 18/100\n",
      "1313/1313 - 24s - loss: 8.7054e-05 - val_loss: 5.7947e-04 - 24s/epoch - 18ms/step\n",
      "Epoch 19/100\n",
      "1313/1313 - 23s - loss: 8.8937e-05 - val_loss: 5.6302e-04 - 23s/epoch - 18ms/step\n",
      "Epoch 20/100\n",
      "1313/1313 - 24s - loss: 9.0724e-05 - val_loss: 4.8691e-04 - 24s/epoch - 18ms/step\n",
      "Epoch 21/100\n",
      "1313/1313 - 25s - loss: 8.9032e-05 - val_loss: 4.9979e-04 - 25s/epoch - 19ms/step\n",
      "Epoch 22/100\n",
      "1313/1313 - 24s - loss: 9.1209e-05 - val_loss: 4.7240e-04 - 24s/epoch - 19ms/step\n",
      "Epoch 23/100\n",
      "1313/1313 - 24s - loss: 9.2141e-05 - val_loss: 4.3921e-04 - 24s/epoch - 18ms/step\n",
      "Epoch 24/100\n",
      "1313/1313 - 24s - loss: 9.4652e-05 - val_loss: 4.1882e-04 - 24s/epoch - 18ms/step\n",
      "Epoch 25/100\n",
      "1313/1313 - 24s - loss: 9.5311e-05 - val_loss: 3.8800e-04 - 24s/epoch - 18ms/step\n",
      "Epoch 26/100\n",
      "1313/1313 - 26s - loss: 9.7271e-05 - val_loss: 3.5726e-04 - 26s/epoch - 20ms/step\n",
      "Epoch 27/100\n",
      "1313/1313 - 24s - loss: 9.8262e-05 - val_loss: 3.2317e-04 - 24s/epoch - 18ms/step\n",
      "Epoch 28/100\n",
      "1313/1313 - 24s - loss: 9.9923e-05 - val_loss: 2.9354e-04 - 24s/epoch - 19ms/step\n",
      "Epoch 29/100\n",
      "1313/1313 - 24s - loss: 1.0215e-04 - val_loss: 2.6412e-04 - 24s/epoch - 19ms/step\n",
      "Epoch 30/100\n",
      "1313/1313 - 25s - loss: 1.0370e-04 - val_loss: 2.5586e-04 - 25s/epoch - 19ms/step\n",
      "Epoch 31/100\n",
      "1313/1313 - 25s - loss: 1.0551e-04 - val_loss: 2.5490e-04 - 25s/epoch - 19ms/step\n",
      "Epoch 32/100\n",
      "1313/1313 - 26s - loss: 1.0760e-04 - val_loss: 2.2529e-04 - 26s/epoch - 19ms/step\n",
      "Epoch 33/100\n",
      "1313/1313 - 25s - loss: 1.0877e-04 - val_loss: 2.0188e-04 - 25s/epoch - 19ms/step\n",
      "Epoch 34/100\n",
      "1313/1313 - 24s - loss: 1.0948e-04 - val_loss: 1.7439e-04 - 24s/epoch - 19ms/step\n",
      "Epoch 35/100\n",
      "1313/1313 - 24s - loss: 1.0997e-04 - val_loss: 1.5479e-04 - 24s/epoch - 19ms/step\n",
      "Epoch 36/100\n",
      "1313/1313 - 25s - loss: 1.1060e-04 - val_loss: 1.4034e-04 - 25s/epoch - 19ms/step\n",
      "Epoch 37/100\n",
      "1313/1313 - 24s - loss: 1.1106e-04 - val_loss: 1.2735e-04 - 24s/epoch - 19ms/step\n",
      "Epoch 38/100\n",
      "1313/1313 - 25s - loss: 1.1133e-04 - val_loss: 1.1657e-04 - 25s/epoch - 19ms/step\n",
      "Epoch 39/100\n",
      "1313/1313 - 26s - loss: 1.1177e-04 - val_loss: 1.0935e-04 - 26s/epoch - 20ms/step\n",
      "Epoch 40/100\n",
      "1313/1313 - 26s - loss: 1.1229e-04 - val_loss: 1.0202e-04 - 26s/epoch - 20ms/step\n",
      "Epoch 41/100\n",
      "1313/1313 - 25s - loss: 1.1308e-04 - val_loss: 9.7172e-05 - 25s/epoch - 19ms/step\n",
      "Epoch 42/100\n",
      "1313/1313 - 25s - loss: 1.1373e-04 - val_loss: 9.1005e-05 - 25s/epoch - 19ms/step\n",
      "Epoch 43/100\n",
      "1313/1313 - 25s - loss: 1.1490e-04 - val_loss: 8.6585e-05 - 25s/epoch - 19ms/step\n",
      "Epoch 44/100\n",
      "1313/1313 - 25s - loss: 1.1548e-04 - val_loss: 8.0133e-05 - 25s/epoch - 19ms/step\n",
      "Epoch 45/100\n",
      "1313/1313 - 25s - loss: 1.1645e-04 - val_loss: 7.5781e-05 - 25s/epoch - 19ms/step\n",
      "Epoch 46/100\n",
      "1313/1313 - 26s - loss: 1.1709e-04 - val_loss: 7.0495e-05 - 26s/epoch - 19ms/step\n",
      "Epoch 47/100\n",
      "1313/1313 - 25s - loss: 1.1734e-04 - val_loss: 6.5189e-05 - 25s/epoch - 19ms/step\n",
      "Epoch 48/100\n",
      "1313/1313 - 26s - loss: 1.1706e-04 - val_loss: 5.9965e-05 - 26s/epoch - 20ms/step\n",
      "Epoch 49/100\n",
      "1313/1313 - 25s - loss: 1.1642e-04 - val_loss: 5.5354e-05 - 25s/epoch - 19ms/step\n",
      "Epoch 50/100\n",
      "1313/1313 - 23s - loss: 1.1550e-04 - val_loss: 5.1044e-05 - 23s/epoch - 18ms/step\n",
      "Epoch 51/100\n",
      "1313/1313 - 20s - loss: 1.1421e-04 - val_loss: 4.7982e-05 - 20s/epoch - 15ms/step\n",
      "Epoch 52/100\n",
      "1313/1313 - 20s - loss: 1.1277e-04 - val_loss: 4.5476e-05 - 20s/epoch - 15ms/step\n",
      "Epoch 53/100\n",
      "1313/1313 - 20s - loss: 1.1113e-04 - val_loss: 4.3763e-05 - 20s/epoch - 15ms/step\n",
      "Epoch 54/100\n",
      "1313/1313 - 20s - loss: 1.0947e-04 - val_loss: 4.2491e-05 - 20s/epoch - 15ms/step\n",
      "Epoch 55/100\n",
      "1313/1313 - 20s - loss: 1.0776e-04 - val_loss: 4.1581e-05 - 20s/epoch - 15ms/step\n",
      "Epoch 56/100\n",
      "1313/1313 - 20s - loss: 1.0612e-04 - val_loss: 4.1024e-05 - 20s/epoch - 15ms/step\n",
      "Epoch 57/100\n",
      "1313/1313 - 20s - loss: 1.0442e-04 - val_loss: 4.0604e-05 - 20s/epoch - 15ms/step\n",
      "Epoch 58/100\n",
      "1313/1313 - 20s - loss: 1.0281e-04 - val_loss: 4.0427e-05 - 20s/epoch - 15ms/step\n",
      "Epoch 59/100\n",
      "1313/1313 - 20s - loss: 1.0120e-04 - val_loss: 4.0311e-05 - 20s/epoch - 15ms/step\n",
      "Epoch 60/100\n",
      "1313/1313 - 20s - loss: 9.9646e-05 - val_loss: 4.0240e-05 - 20s/epoch - 15ms/step\n",
      "Epoch 61/100\n",
      "1313/1313 - 20s - loss: 9.8126e-05 - val_loss: 4.0153e-05 - 20s/epoch - 15ms/step\n",
      "Epoch 62/100\n",
      "1313/1313 - 20s - loss: 9.6639e-05 - val_loss: 4.0153e-05 - 20s/epoch - 15ms/step\n",
      "Epoch 63/100\n",
      "1313/1313 - 20s - loss: 9.5188e-05 - val_loss: 4.0156e-05 - 20s/epoch - 15ms/step\n",
      "Epoch 64/100\n",
      "1313/1313 - 21s - loss: 9.3808e-05 - val_loss: 4.0264e-05 - 21s/epoch - 16ms/step\n",
      "Epoch 65/100\n",
      "1313/1313 - 20s - loss: 9.2476e-05 - val_loss: 4.0392e-05 - 20s/epoch - 16ms/step\n",
      "Epoch 66/100\n",
      "1313/1313 - 20s - loss: 9.1211e-05 - val_loss: 4.0533e-05 - 20s/epoch - 15ms/step\n",
      "Epoch 67/100\n",
      "1313/1313 - 21s - loss: 9.0007e-05 - val_loss: 4.0551e-05 - 21s/epoch - 16ms/step\n",
      "Epoch 68/100\n",
      "1313/1313 - 22s - loss: 8.8874e-05 - val_loss: 4.0575e-05 - 22s/epoch - 17ms/step\n",
      "Epoch 69/100\n",
      "1313/1313 - 21s - loss: 8.7758e-05 - val_loss: 4.0564e-05 - 21s/epoch - 16ms/step\n",
      "Epoch 70/100\n",
      "1313/1313 - 21s - loss: 8.6689e-05 - val_loss: 4.0600e-05 - 21s/epoch - 16ms/step\n",
      "Epoch 71/100\n",
      "1313/1313 - 23s - loss: 8.5640e-05 - val_loss: 4.0622e-05 - 23s/epoch - 17ms/step\n",
      "Epoch 72/100\n",
      "1313/1313 - 24s - loss: 8.4656e-05 - val_loss: 4.0798e-05 - 24s/epoch - 18ms/step\n",
      "Epoch 73/100\n",
      "1313/1313 - 21s - loss: 8.3756e-05 - val_loss: 4.0903e-05 - 21s/epoch - 16ms/step\n",
      "Epoch 74/100\n",
      "1313/1313 - 21s - loss: 8.2859e-05 - val_loss: 4.0987e-05 - 21s/epoch - 16ms/step\n",
      "Epoch 75/100\n",
      "1313/1313 - 21s - loss: 8.1998e-05 - val_loss: 4.1050e-05 - 21s/epoch - 16ms/step\n",
      "Epoch 76/100\n",
      "1313/1313 - 22s - loss: 8.1150e-05 - val_loss: 4.1115e-05 - 22s/epoch - 17ms/step\n",
      "Epoch 77/100\n",
      "1313/1313 - 22s - loss: 8.0316e-05 - val_loss: 4.1201e-05 - 22s/epoch - 17ms/step\n",
      "Epoch 78/100\n",
      "1313/1313 - 23s - loss: 7.9494e-05 - val_loss: 4.1326e-05 - 23s/epoch - 17ms/step\n",
      "Epoch 79/100\n",
      "1313/1313 - 21s - loss: 7.8681e-05 - val_loss: 4.1507e-05 - 21s/epoch - 16ms/step\n",
      "Epoch 80/100\n",
      "1313/1313 - 22s - loss: 7.7881e-05 - val_loss: 4.1761e-05 - 22s/epoch - 16ms/step\n",
      "Epoch 81/100\n",
      "1313/1313 - 21s - loss: 7.7094e-05 - val_loss: 4.2092e-05 - 21s/epoch - 16ms/step\n",
      "Epoch 82/100\n",
      "1313/1313 - 21s - loss: 7.6323e-05 - val_loss: 4.2507e-05 - 21s/epoch - 16ms/step\n",
      "Epoch 83/100\n",
      "1313/1313 - 21s - loss: 7.5572e-05 - val_loss: 4.3004e-05 - 21s/epoch - 16ms/step\n",
      "Epoch 84/100\n",
      "1313/1313 - 22s - loss: 7.4844e-05 - val_loss: 4.3575e-05 - 22s/epoch - 16ms/step\n",
      "Epoch 85/100\n",
      "1313/1313 - 22s - loss: 7.4143e-05 - val_loss: 4.4204e-05 - 22s/epoch - 16ms/step\n",
      "Epoch 86/100\n",
      "1313/1313 - 21s - loss: 7.3470e-05 - val_loss: 4.4874e-05 - 21s/epoch - 16ms/step\n",
      "Epoch 87/100\n",
      "1313/1313 - 22s - loss: 7.2825e-05 - val_loss: 4.5562e-05 - 22s/epoch - 16ms/step\n",
      "Epoch 88/100\n",
      "1313/1313 - 21s - loss: 7.2206e-05 - val_loss: 4.6256e-05 - 21s/epoch - 16ms/step\n",
      "Epoch 89/100\n",
      "1313/1313 - 22s - loss: 7.1613e-05 - val_loss: 4.6935e-05 - 22s/epoch - 16ms/step\n",
      "Epoch 90/100\n",
      "1313/1313 - 22s - loss: 7.1041e-05 - val_loss: 4.7582e-05 - 22s/epoch - 17ms/step\n",
      "Epoch 91/100\n",
      "1313/1313 - 22s - loss: 7.0485e-05 - val_loss: 4.8190e-05 - 22s/epoch - 16ms/step\n",
      "Epoch 92/100\n",
      "1313/1313 - 22s - loss: 6.9943e-05 - val_loss: 4.8788e-05 - 22s/epoch - 17ms/step\n",
      "Epoch 93/100\n",
      "1313/1313 - 15s - loss: 6.9412e-05 - val_loss: 4.9372e-05 - 15s/epoch - 12ms/step\n",
      "Epoch 94/100\n",
      "1313/1313 - 13s - loss: 6.8890e-05 - val_loss: 4.9943e-05 - 13s/epoch - 10ms/step\n",
      "Epoch 95/100\n",
      "1313/1313 - 13s - loss: 6.8373e-05 - val_loss: 5.0509e-05 - 13s/epoch - 10ms/step\n",
      "Epoch 96/100\n",
      "1313/1313 - 13s - loss: 6.7855e-05 - val_loss: 5.1063e-05 - 13s/epoch - 10ms/step\n",
      "Epoch 97/100\n",
      "1313/1313 - 13s - loss: 6.7328e-05 - val_loss: 5.1605e-05 - 13s/epoch - 10ms/step\n",
      "Epoch 98/100\n",
      "1313/1313 - 13s - loss: 6.6785e-05 - val_loss: 5.2136e-05 - 13s/epoch - 10ms/step\n",
      "Epoch 99/100\n",
      "1313/1313 - 13s - loss: 6.6214e-05 - val_loss: 5.2656e-05 - 13s/epoch - 10ms/step\n",
      "Epoch 100/100\n",
      "1313/1313 - 13s - loss: 6.5598e-05 - val_loss: 5.3162e-05 - 13s/epoch - 10ms/step\n"
     ]
    }
   ],
   "source": [
    "for batch, epoch, neuron in hyperparam:\n",
    "    model1, lstm1 = NeuralNetwork.train_lstm(train_X, train_y, test_X, test_y, neuron, epoch, batch)"
   ]
  },
  {
   "cell_type": "code",
   "execution_count": 15,
   "id": "ebe15d8d-6bc9-4220-a7db-48e4d4c7cd18",
   "metadata": {},
   "outputs": [
    {
     "name": "stdout",
     "output_type": "stream",
     "text": [
      " 23/164 [===>..........................] - ETA: 0s"
     ]
    },
    {
     "name": "stderr",
     "output_type": "stream",
     "text": [
      "2023-06-16 21:51:00.744657: I tensorflow/core/grappler/optimizers/custom_graph_optimizer_registry.cc:114] Plugin optimizer for device_type GPU is enabled.\n",
      "2023-06-16 21:51:00.774496: I tensorflow/core/grappler/optimizers/custom_graph_optimizer_registry.cc:114] Plugin optimizer for device_type GPU is enabled.\n"
     ]
    },
    {
     "name": "stdout",
     "output_type": "stream",
     "text": [
      "164/164 [==============================] - 1s 5ms/step\n",
      "(16, 100, 100)\n",
      "Epoch: 100\n",
      "Neurons: 100\n",
      "RMSE\n",
      "34.634195735501685\n",
      "MAE\n",
      "31.95845274875275\n",
      "MAPE\n",
      "2.4037880079648444\n"
     ]
    }
   ],
   "source": [
    "i=0\n",
    "# make a prediction\n",
    "test_x2 = test_X\n",
    "yhat = NeuralNetwork.predict(test_x2, model1)\n",
    "inv_yhat = Preprocessing.inverse_scaler(yhat, scaler)\n",
    "inv_y = Preprocessing.inverse_scaler(test_y.reshape(-1,1), scaler)\n",
    "print(hyperparam[i])\n",
    "print(\"Epoch: \"+ str(lstm1.params['epochs']))\n",
    "print(\"Neurons: \"+str(model1.layers[0].units))\n",
    "print('RMSE')\n",
    "print(Evaluation.rmse(inv_y,inv_yhat))\n",
    "print('MAE')\n",
    "print(Evaluation.mae(inv_y,inv_yhat))\n",
    "print('MAPE')\n",
    "print(Evaluation.mape(inv_y,inv_yhat))\n",
    "NeuralNetwork.save_model(model1, 0, 'ETH',hyperparam[0])\n",
    "with open('LSTM_ETH'+str(hyperparam[0])+'.pkl', 'wb') as f:\n",
    "        pickle.dump(lstm1.history, f)"
   ]
  },
  {
   "cell_type": "code",
   "execution_count": null,
   "id": "13933984-11b0-4d41-a35b-555cb6ee930f",
   "metadata": {},
   "outputs": [],
   "source": []
  },
  {
   "cell_type": "code",
   "execution_count": null,
   "id": "39816692-68dd-4e70-bcc1-cf9aabc2b11d",
   "metadata": {},
   "outputs": [],
   "source": []
  }
 ],
 "metadata": {
  "kernelspec": {
   "display_name": "Python 3 (ipykernel)",
   "language": "python",
   "name": "python3"
  },
  "language_info": {
   "codemirror_mode": {
    "name": "ipython",
    "version": 3
   },
   "file_extension": ".py",
   "mimetype": "text/x-python",
   "name": "python",
   "nbconvert_exporter": "python",
   "pygments_lexer": "ipython3",
   "version": "3.9.13"
  }
 },
 "nbformat": 4,
 "nbformat_minor": 5
}
