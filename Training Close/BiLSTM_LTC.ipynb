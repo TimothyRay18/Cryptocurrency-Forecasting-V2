{
 "cells": [
  {
   "cell_type": "code",
   "execution_count": 1,
   "id": "499ef9d1-2655-483e-9f50-0badccf17d21",
   "metadata": {},
   "outputs": [],
   "source": [
    "from Skripsi import Preprocessing\n",
    "from Skripsi import Evaluation\n",
    "from Skripsi import LSTMUnit\n",
    "from pandas import read_csv\n",
    "from pandas import DataFrame\n",
    "import numpy as np\n",
    "import pandas as pd\n",
    "from openpyxl.workbook import Workbook\n",
    "import pickle"
   ]
  },
  {
   "cell_type": "code",
   "execution_count": 2,
   "id": "f8ed0706-d5c2-4868-beee-6933c00b0a83",
   "metadata": {},
   "outputs": [
    {
     "data": {
      "text/html": [
       "<div>\n",
       "<style scoped>\n",
       "    .dataframe tbody tr th:only-of-type {\n",
       "        vertical-align: middle;\n",
       "    }\n",
       "\n",
       "    .dataframe tbody tr th {\n",
       "        vertical-align: top;\n",
       "    }\n",
       "\n",
       "    .dataframe thead th {\n",
       "        text-align: right;\n",
       "    }\n",
       "</style>\n",
       "<table border=\"1\" class=\"dataframe\">\n",
       "  <thead>\n",
       "    <tr style=\"text-align: right;\">\n",
       "      <th></th>\n",
       "      <th>Date</th>\n",
       "      <th>Open</th>\n",
       "      <th>High</th>\n",
       "      <th>Low</th>\n",
       "      <th>Close</th>\n",
       "      <th>Volume USDT</th>\n",
       "    </tr>\n",
       "  </thead>\n",
       "  <tbody>\n",
       "    <tr>\n",
       "      <th>0</th>\n",
       "      <td>2022-12-31 23:00:00</td>\n",
       "      <td>70.08</td>\n",
       "      <td>70.30</td>\n",
       "      <td>69.79</td>\n",
       "      <td>70.14</td>\n",
       "      <td>9.486568e+05</td>\n",
       "    </tr>\n",
       "    <tr>\n",
       "      <th>1</th>\n",
       "      <td>2022-12-31 22:00:00</td>\n",
       "      <td>70.24</td>\n",
       "      <td>70.24</td>\n",
       "      <td>69.71</td>\n",
       "      <td>70.09</td>\n",
       "      <td>8.838422e+05</td>\n",
       "    </tr>\n",
       "    <tr>\n",
       "      <th>2</th>\n",
       "      <td>2022-12-31 21:00:00</td>\n",
       "      <td>70.40</td>\n",
       "      <td>70.45</td>\n",
       "      <td>70.19</td>\n",
       "      <td>70.23</td>\n",
       "      <td>6.820723e+05</td>\n",
       "    </tr>\n",
       "    <tr>\n",
       "      <th>3</th>\n",
       "      <td>2022-12-31 20:00:00</td>\n",
       "      <td>70.15</td>\n",
       "      <td>70.53</td>\n",
       "      <td>70.08</td>\n",
       "      <td>70.39</td>\n",
       "      <td>1.173164e+06</td>\n",
       "    </tr>\n",
       "    <tr>\n",
       "      <th>4</th>\n",
       "      <td>2022-12-31 19:00:00</td>\n",
       "      <td>69.93</td>\n",
       "      <td>70.32</td>\n",
       "      <td>69.93</td>\n",
       "      <td>70.15</td>\n",
       "      <td>9.964355e+05</td>\n",
       "    </tr>\n",
       "    <tr>\n",
       "      <th>...</th>\n",
       "      <td>...</td>\n",
       "      <td>...</td>\n",
       "      <td>...</td>\n",
       "      <td>...</td>\n",
       "      <td>...</td>\n",
       "      <td>...</td>\n",
       "    </tr>\n",
       "    <tr>\n",
       "      <th>26269</th>\n",
       "      <td>2020-01-01 04:00:00</td>\n",
       "      <td>41.53</td>\n",
       "      <td>41.85</td>\n",
       "      <td>41.45</td>\n",
       "      <td>41.59</td>\n",
       "      <td>2.214516e+05</td>\n",
       "    </tr>\n",
       "    <tr>\n",
       "      <th>26270</th>\n",
       "      <td>2020-01-01 03:00:00</td>\n",
       "      <td>41.84</td>\n",
       "      <td>41.85</td>\n",
       "      <td>41.49</td>\n",
       "      <td>41.53</td>\n",
       "      <td>1.613043e+05</td>\n",
       "    </tr>\n",
       "    <tr>\n",
       "      <th>26271</th>\n",
       "      <td>2020-01-01 02:00:00</td>\n",
       "      <td>41.63</td>\n",
       "      <td>41.88</td>\n",
       "      <td>41.62</td>\n",
       "      <td>41.85</td>\n",
       "      <td>2.402871e+05</td>\n",
       "    </tr>\n",
       "    <tr>\n",
       "      <th>26272</th>\n",
       "      <td>2020-01-01 01:00:00</td>\n",
       "      <td>41.28</td>\n",
       "      <td>41.70</td>\n",
       "      <td>41.27</td>\n",
       "      <td>41.62</td>\n",
       "      <td>2.830715e+05</td>\n",
       "    </tr>\n",
       "    <tr>\n",
       "      <th>26273</th>\n",
       "      <td>2020-01-01 00:00:00</td>\n",
       "      <td>41.29</td>\n",
       "      <td>41.29</td>\n",
       "      <td>41.16</td>\n",
       "      <td>41.28</td>\n",
       "      <td>1.165827e+05</td>\n",
       "    </tr>\n",
       "  </tbody>\n",
       "</table>\n",
       "<p>26274 rows × 6 columns</p>\n",
       "</div>"
      ],
      "text/plain": [
       "                      Date   Open   High    Low  Close   Volume USDT\n",
       "0      2022-12-31 23:00:00  70.08  70.30  69.79  70.14  9.486568e+05\n",
       "1      2022-12-31 22:00:00  70.24  70.24  69.71  70.09  8.838422e+05\n",
       "2      2022-12-31 21:00:00  70.40  70.45  70.19  70.23  6.820723e+05\n",
       "3      2022-12-31 20:00:00  70.15  70.53  70.08  70.39  1.173164e+06\n",
       "4      2022-12-31 19:00:00  69.93  70.32  69.93  70.15  9.964355e+05\n",
       "...                    ...    ...    ...    ...    ...           ...\n",
       "26269  2020-01-01 04:00:00  41.53  41.85  41.45  41.59  2.214516e+05\n",
       "26270  2020-01-01 03:00:00  41.84  41.85  41.49  41.53  1.613043e+05\n",
       "26271  2020-01-01 02:00:00  41.63  41.88  41.62  41.85  2.402871e+05\n",
       "26272  2020-01-01 01:00:00  41.28  41.70  41.27  41.62  2.830715e+05\n",
       "26273  2020-01-01 00:00:00  41.29  41.29  41.16  41.28  1.165827e+05\n",
       "\n",
       "[26274 rows x 6 columns]"
      ]
     },
     "execution_count": 2,
     "metadata": {},
     "output_type": "execute_result"
    }
   ],
   "source": [
    "ltc_dfd = pd.read_csv('../Dataset/Binance_LTCUSDT_1h.csv')\n",
    "ltc_dfd"
   ]
  },
  {
   "cell_type": "code",
   "execution_count": 3,
   "id": "41062755-9cca-4348-91bc-e80d46b79c3d",
   "metadata": {},
   "outputs": [
    {
     "data": {
      "text/html": [
       "<div>\n",
       "<style scoped>\n",
       "    .dataframe tbody tr th:only-of-type {\n",
       "        vertical-align: middle;\n",
       "    }\n",
       "\n",
       "    .dataframe tbody tr th {\n",
       "        vertical-align: top;\n",
       "    }\n",
       "\n",
       "    .dataframe thead th {\n",
       "        text-align: right;\n",
       "    }\n",
       "</style>\n",
       "<table border=\"1\" class=\"dataframe\">\n",
       "  <thead>\n",
       "    <tr style=\"text-align: right;\">\n",
       "      <th></th>\n",
       "      <th>Close</th>\n",
       "    </tr>\n",
       "  </thead>\n",
       "  <tbody>\n",
       "    <tr>\n",
       "      <th>0</th>\n",
       "      <td>41.28</td>\n",
       "    </tr>\n",
       "    <tr>\n",
       "      <th>1</th>\n",
       "      <td>41.62</td>\n",
       "    </tr>\n",
       "    <tr>\n",
       "      <th>2</th>\n",
       "      <td>41.85</td>\n",
       "    </tr>\n",
       "    <tr>\n",
       "      <th>3</th>\n",
       "      <td>41.53</td>\n",
       "    </tr>\n",
       "    <tr>\n",
       "      <th>4</th>\n",
       "      <td>41.59</td>\n",
       "    </tr>\n",
       "    <tr>\n",
       "      <th>...</th>\n",
       "      <td>...</td>\n",
       "    </tr>\n",
       "    <tr>\n",
       "      <th>26269</th>\n",
       "      <td>70.15</td>\n",
       "    </tr>\n",
       "    <tr>\n",
       "      <th>26270</th>\n",
       "      <td>70.39</td>\n",
       "    </tr>\n",
       "    <tr>\n",
       "      <th>26271</th>\n",
       "      <td>70.23</td>\n",
       "    </tr>\n",
       "    <tr>\n",
       "      <th>26272</th>\n",
       "      <td>70.09</td>\n",
       "    </tr>\n",
       "    <tr>\n",
       "      <th>26273</th>\n",
       "      <td>70.14</td>\n",
       "    </tr>\n",
       "  </tbody>\n",
       "</table>\n",
       "<p>26274 rows × 1 columns</p>\n",
       "</div>"
      ],
      "text/plain": [
       "       Close\n",
       "0      41.28\n",
       "1      41.62\n",
       "2      41.85\n",
       "3      41.53\n",
       "4      41.59\n",
       "...      ...\n",
       "26269  70.15\n",
       "26270  70.39\n",
       "26271  70.23\n",
       "26272  70.09\n",
       "26273  70.14\n",
       "\n",
       "[26274 rows x 1 columns]"
      ]
     },
     "execution_count": 3,
     "metadata": {},
     "output_type": "execute_result"
    }
   ],
   "source": [
    "df = Preprocessing.sort_df(ltc_dfd)\n",
    "df"
   ]
  },
  {
   "cell_type": "code",
   "execution_count": 4,
   "id": "140ecfee-f8cf-45f6-b3c6-49e8e7458101",
   "metadata": {},
   "outputs": [
    {
     "data": {
      "text/plain": [
       "array([[0.04170567],\n",
       "       [0.0425897 ],\n",
       "       [0.04318773],\n",
       "       ...,\n",
       "       [0.11697868],\n",
       "       [0.11661466],\n",
       "       [0.11674467]])"
      ]
     },
     "execution_count": 4,
     "metadata": {},
     "output_type": "execute_result"
    }
   ],
   "source": [
    "x, scaler = Preprocessing.minmax_scale(df)\n",
    "x"
   ]
  },
  {
   "cell_type": "code",
   "execution_count": 5,
   "id": "c42a7847-70b8-4487-a874-67e370666724",
   "metadata": {},
   "outputs": [
    {
     "data": {
      "text/plain": [
       "array([[0.04170567],\n",
       "       [0.0425897 ],\n",
       "       [0.04318773],\n",
       "       ...,\n",
       "       [0.10208008],\n",
       "       [0.09947998],\n",
       "       [0.09869995]])"
      ]
     },
     "execution_count": 5,
     "metadata": {},
     "output_type": "execute_result"
    }
   ],
   "source": [
    "train, test = Preprocessing.splitting_data(x)\n",
    "train"
   ]
  },
  {
   "cell_type": "code",
   "execution_count": 6,
   "id": "a8e525a6-83d0-4c8b-9875-33e0e15480ae",
   "metadata": {},
   "outputs": [
    {
     "data": {
      "text/plain": [
       "array([[0.09427977],\n",
       "       [0.09557982],\n",
       "       [0.09791992],\n",
       "       ...,\n",
       "       [0.11697868],\n",
       "       [0.11661466],\n",
       "       [0.11674467]])"
      ]
     },
     "execution_count": 6,
     "metadata": {},
     "output_type": "execute_result"
    }
   ],
   "source": [
    "test"
   ]
  },
  {
   "cell_type": "code",
   "execution_count": 7,
   "id": "08213717-a303-4c9e-97bb-280204035109",
   "metadata": {},
   "outputs": [],
   "source": [
    "train_X, train_y = Preprocessing.create_dataset(train,25)\n",
    "test_X, test_y = Preprocessing.create_dataset(test,25)"
   ]
  },
  {
   "cell_type": "code",
   "execution_count": 8,
   "id": "aff76bd7-16f2-4bf2-8a64-f1f6a1194661",
   "metadata": {},
   "outputs": [
    {
     "data": {
      "text/plain": [
       "array([[[0.04170567],\n",
       "        [0.0425897 ],\n",
       "        [0.04318773],\n",
       "        ...,\n",
       "        [0.04230369],\n",
       "        [0.0425897 ],\n",
       "        [0.04290172]],\n",
       "\n",
       "       [[0.0425897 ],\n",
       "        [0.04318773],\n",
       "        [0.04235569],\n",
       "        ...,\n",
       "        [0.0425897 ],\n",
       "        [0.04290172],\n",
       "        [0.0423817 ]],\n",
       "\n",
       "       [[0.04318773],\n",
       "        [0.04235569],\n",
       "        [0.0425117 ],\n",
       "        ...,\n",
       "        [0.04290172],\n",
       "        [0.0423817 ],\n",
       "        [0.04193968]],\n",
       "\n",
       "       ...,\n",
       "\n",
       "       [[0.11300052],\n",
       "        [0.11300052],\n",
       "        [0.11170047],\n",
       "        ...,\n",
       "        [0.09973999],\n",
       "        [0.10104004],\n",
       "        [0.10182007]],\n",
       "\n",
       "       [[0.11300052],\n",
       "        [0.11170047],\n",
       "        [0.11274051],\n",
       "        ...,\n",
       "        [0.10104004],\n",
       "        [0.10182007],\n",
       "        [0.10208008]],\n",
       "\n",
       "       [[0.11170047],\n",
       "        [0.11274051],\n",
       "        [0.11170047],\n",
       "        ...,\n",
       "        [0.10182007],\n",
       "        [0.10208008],\n",
       "        [0.09947998]]])"
      ]
     },
     "execution_count": 8,
     "metadata": {},
     "output_type": "execute_result"
    }
   ],
   "source": [
    "train_X"
   ]
  },
  {
   "cell_type": "code",
   "execution_count": 9,
   "id": "4efa14c4-f85e-47c3-bc04-7f0d029d3a72",
   "metadata": {},
   "outputs": [
    {
     "data": {
      "text/plain": [
       "array([0.0423817 , 0.04193968, 0.04144566, ..., 0.10208008, 0.09947998,\n",
       "       0.09869995])"
      ]
     },
     "execution_count": 9,
     "metadata": {},
     "output_type": "execute_result"
    }
   ],
   "source": [
    "train_y"
   ]
  },
  {
   "cell_type": "code",
   "execution_count": 10,
   "id": "51dc56af-5903-45ab-a70b-556fb3f3d97a",
   "metadata": {},
   "outputs": [
    {
     "data": {
      "text/plain": [
       "array([[[0.09427977],\n",
       "        [0.09557982],\n",
       "        [0.09791992],\n",
       "        ...,\n",
       "        [0.09453978],\n",
       "        [0.0973999 ],\n",
       "        [0.09453978]],\n",
       "\n",
       "       [[0.09557982],\n",
       "        [0.09791992],\n",
       "        [0.09635985],\n",
       "        ...,\n",
       "        [0.0973999 ],\n",
       "        [0.09453978],\n",
       "        [0.09479979]],\n",
       "\n",
       "       [[0.09791992],\n",
       "        [0.09635985],\n",
       "        [0.0950598 ],\n",
       "        ...,\n",
       "        [0.09453978],\n",
       "        [0.09479979],\n",
       "        [0.09635985]],\n",
       "\n",
       "       ...,\n",
       "\n",
       "       [[0.11185647],\n",
       "        [0.11066043],\n",
       "        [0.11097244],\n",
       "        ...,\n",
       "        [0.11619865],\n",
       "        [0.11677067],\n",
       "        [0.1173947 ]],\n",
       "\n",
       "       [[0.11066043],\n",
       "        [0.11097244],\n",
       "        [0.11102444],\n",
       "        ...,\n",
       "        [0.11677067],\n",
       "        [0.1173947 ],\n",
       "        [0.11697868]],\n",
       "\n",
       "       [[0.11097244],\n",
       "        [0.11102444],\n",
       "        [0.11086843],\n",
       "        ...,\n",
       "        [0.1173947 ],\n",
       "        [0.11697868],\n",
       "        [0.11661466]]])"
      ]
     },
     "execution_count": 10,
     "metadata": {},
     "output_type": "execute_result"
    }
   ],
   "source": [
    "test_X"
   ]
  },
  {
   "cell_type": "code",
   "execution_count": 11,
   "id": "d98152d5-e8c5-4645-90ea-876a042b25e0",
   "metadata": {},
   "outputs": [
    {
     "data": {
      "text/plain": [
       "array([0.09479979, 0.09635985, 0.0973999 , ..., 0.11697868, 0.11661466,\n",
       "       0.11674467])"
      ]
     },
     "execution_count": 11,
     "metadata": {},
     "output_type": "execute_result"
    }
   ],
   "source": [
    "test_y"
   ]
  },
  {
   "cell_type": "code",
   "execution_count": 12,
   "id": "d80df0f9-fe70-44f0-bef3-b779d95da0d0",
   "metadata": {},
   "outputs": [
    {
     "name": "stdout",
     "output_type": "stream",
     "text": [
      "(20994, 25, 1) (20994,) (5230, 25, 1) (5230,)\n"
     ]
    }
   ],
   "source": [
    "print(train_X.shape, train_y.shape, test_X.shape, test_y.shape)"
   ]
  },
  {
   "cell_type": "markdown",
   "id": "cf43011a-1b18-4fef-b638-d84109a5347b",
   "metadata": {},
   "source": [
    "## Model Training"
   ]
  },
  {
   "cell_type": "code",
   "execution_count": 13,
   "id": "7c6e3c5f-f40b-427b-bbf6-715de9fbfed4",
   "metadata": {},
   "outputs": [],
   "source": [
    "hyperparam = [(32,100,100)]"
   ]
  },
  {
   "cell_type": "code",
   "execution_count": 14,
   "id": "3ffd8dc1-5eb8-4d7e-aba2-cab78df020ae",
   "metadata": {},
   "outputs": [
    {
     "name": "stdout",
     "output_type": "stream",
     "text": [
      "Metal device set to: Apple M1\n",
      "Epoch 1/100\n"
     ]
    },
    {
     "name": "stderr",
     "output_type": "stream",
     "text": [
      "2023-05-15 11:26:31.416706: I tensorflow/core/common_runtime/pluggable_device/pluggable_device_factory.cc:306] Could not identify NUMA node of platform GPU ID 0, defaulting to 0. Your kernel may not have been built with NUMA support.\n",
      "2023-05-15 11:26:31.416809: I tensorflow/core/common_runtime/pluggable_device/pluggable_device_factory.cc:272] Created TensorFlow device (/job:localhost/replica:0/task:0/device:GPU:0 with 0 MB memory) -> physical PluggableDevice (device: 0, name: METAL, pci bus id: <undefined>)\n",
      "2023-05-15 11:26:31.572259: W tensorflow/core/platform/profile_utils/cpu_utils.cc:128] Failed to get CPU frequency: 0 Hz\n",
      "2023-05-15 11:26:32.901385: I tensorflow/core/grappler/optimizers/custom_graph_optimizer_registry.cc:114] Plugin optimizer for device_type GPU is enabled.\n",
      "2023-05-15 11:26:33.118983: I tensorflow/core/grappler/optimizers/custom_graph_optimizer_registry.cc:114] Plugin optimizer for device_type GPU is enabled.\n",
      "2023-05-15 11:26:33.144015: I tensorflow/core/grappler/optimizers/custom_graph_optimizer_registry.cc:114] Plugin optimizer for device_type GPU is enabled.\n",
      "2023-05-15 11:26:34.764003: I tensorflow/core/grappler/optimizers/custom_graph_optimizer_registry.cc:114] Plugin optimizer for device_type GPU is enabled.\n",
      "2023-05-15 11:26:34.781325: I tensorflow/core/grappler/optimizers/custom_graph_optimizer_registry.cc:114] Plugin optimizer for device_type GPU is enabled.\n",
      "2023-05-15 11:26:48.339231: I tensorflow/core/grappler/optimizers/custom_graph_optimizer_registry.cc:114] Plugin optimizer for device_type GPU is enabled.\n",
      "2023-05-15 11:26:48.396220: I tensorflow/core/grappler/optimizers/custom_graph_optimizer_registry.cc:114] Plugin optimizer for device_type GPU is enabled.\n",
      "2023-05-15 11:26:48.405759: I tensorflow/core/grappler/optimizers/custom_graph_optimizer_registry.cc:114] Plugin optimizer for device_type GPU is enabled.\n"
     ]
    },
    {
     "name": "stdout",
     "output_type": "stream",
     "text": [
      "657/657 - 19s - loss: 4.8453e-04 - val_loss: 1.3617e-04 - 19s/epoch - 28ms/step\n",
      "Epoch 2/100\n",
      "657/657 - 13s - loss: 6.8070e-04 - val_loss: 1.8961e-04 - 13s/epoch - 20ms/step\n",
      "Epoch 3/100\n",
      "657/657 - 13s - loss: 0.0012 - val_loss: 4.9871e-04 - 13s/epoch - 20ms/step\n",
      "Epoch 4/100\n",
      "657/657 - 13s - loss: 0.0015 - val_loss: 2.1992e-04 - 13s/epoch - 20ms/step\n",
      "Epoch 5/100\n",
      "657/657 - 13s - loss: 0.0013 - val_loss: 6.7396e-04 - 13s/epoch - 20ms/step\n",
      "Epoch 6/100\n",
      "657/657 - 13s - loss: 0.0012 - val_loss: 5.5366e-04 - 13s/epoch - 20ms/step\n",
      "Epoch 7/100\n",
      "657/657 - 13s - loss: 9.3531e-04 - val_loss: 3.6882e-04 - 13s/epoch - 20ms/step\n",
      "Epoch 8/100\n",
      "657/657 - 13s - loss: 7.5348e-04 - val_loss: 3.9107e-04 - 13s/epoch - 20ms/step\n",
      "Epoch 9/100\n",
      "657/657 - 13s - loss: 5.9784e-04 - val_loss: 2.3711e-04 - 13s/epoch - 20ms/step\n",
      "Epoch 10/100\n",
      "657/657 - 13s - loss: 4.5123e-04 - val_loss: 1.2449e-04 - 13s/epoch - 20ms/step\n",
      "Epoch 11/100\n",
      "657/657 - 13s - loss: 3.4004e-04 - val_loss: 7.3696e-05 - 13s/epoch - 20ms/step\n",
      "Epoch 12/100\n",
      "657/657 - 13s - loss: 2.7316e-04 - val_loss: 5.1618e-05 - 13s/epoch - 20ms/step\n",
      "Epoch 13/100\n",
      "657/657 - 13s - loss: 2.3836e-04 - val_loss: 4.1528e-05 - 13s/epoch - 20ms/step\n",
      "Epoch 14/100\n",
      "657/657 - 13s - loss: 2.2535e-04 - val_loss: 3.7294e-05 - 13s/epoch - 20ms/step\n",
      "Epoch 15/100\n",
      "657/657 - 13s - loss: 2.1266e-04 - val_loss: 3.3378e-05 - 13s/epoch - 20ms/step\n",
      "Epoch 16/100\n",
      "657/657 - 13s - loss: 1.9237e-04 - val_loss: 2.8762e-05 - 13s/epoch - 20ms/step\n",
      "Epoch 17/100\n",
      "657/657 - 13s - loss: 1.7597e-04 - val_loss: 2.5073e-05 - 13s/epoch - 20ms/step\n",
      "Epoch 18/100\n",
      "657/657 - 13s - loss: 1.5556e-04 - val_loss: 2.1094e-05 - 13s/epoch - 20ms/step\n",
      "Epoch 19/100\n",
      "657/657 - 14s - loss: 1.4083e-04 - val_loss: 1.8424e-05 - 14s/epoch - 21ms/step\n",
      "Epoch 20/100\n",
      "657/657 - 14s - loss: 1.3167e-04 - val_loss: 1.6358e-05 - 14s/epoch - 21ms/step\n",
      "Epoch 21/100\n",
      "657/657 - 14s - loss: 1.3476e-04 - val_loss: 1.7770e-05 - 14s/epoch - 21ms/step\n",
      "Epoch 22/100\n",
      "657/657 - 14s - loss: 1.3852e-04 - val_loss: 1.7008e-05 - 14s/epoch - 21ms/step\n",
      "Epoch 23/100\n",
      "657/657 - 14s - loss: 1.3682e-04 - val_loss: 1.7288e-05 - 14s/epoch - 21ms/step\n",
      "Epoch 24/100\n",
      "657/657 - 14s - loss: 1.2927e-04 - val_loss: 1.5031e-05 - 14s/epoch - 21ms/step\n",
      "Epoch 25/100\n",
      "657/657 - 14s - loss: 1.1755e-04 - val_loss: 1.2849e-05 - 14s/epoch - 21ms/step\n",
      "Epoch 26/100\n",
      "657/657 - 14s - loss: 1.0499e-04 - val_loss: 1.0953e-05 - 14s/epoch - 21ms/step\n",
      "Epoch 27/100\n",
      "657/657 - 14s - loss: 1.0145e-04 - val_loss: 1.1180e-05 - 14s/epoch - 21ms/step\n",
      "Epoch 28/100\n",
      "657/657 - 14s - loss: 1.0228e-04 - val_loss: 1.0696e-05 - 14s/epoch - 21ms/step\n",
      "Epoch 29/100\n",
      "657/657 - 14s - loss: 1.0769e-04 - val_loss: 1.1452e-05 - 14s/epoch - 21ms/step\n",
      "Epoch 30/100\n",
      "657/657 - 14s - loss: 1.0746e-04 - val_loss: 1.0809e-05 - 14s/epoch - 21ms/step\n",
      "Epoch 31/100\n",
      "657/657 - 14s - loss: 9.8426e-05 - val_loss: 9.3306e-06 - 14s/epoch - 22ms/step\n",
      "Epoch 32/100\n",
      "657/657 - 14s - loss: 9.1552e-05 - val_loss: 8.4213e-06 - 14s/epoch - 21ms/step\n",
      "Epoch 33/100\n",
      "657/657 - 14s - loss: 8.7838e-05 - val_loss: 8.2349e-06 - 14s/epoch - 21ms/step\n",
      "Epoch 34/100\n",
      "657/657 - 14s - loss: 9.0793e-05 - val_loss: 8.7088e-06 - 14s/epoch - 21ms/step\n",
      "Epoch 35/100\n",
      "657/657 - 14s - loss: 9.3493e-05 - val_loss: 8.2435e-06 - 14s/epoch - 21ms/step\n",
      "Epoch 36/100\n",
      "657/657 - 14s - loss: 8.9125e-05 - val_loss: 7.6011e-06 - 14s/epoch - 22ms/step\n",
      "Epoch 37/100\n",
      "657/657 - 14s - loss: 8.5129e-05 - val_loss: 7.1710e-06 - 14s/epoch - 21ms/step\n",
      "Epoch 38/100\n",
      "657/657 - 14s - loss: 8.2669e-05 - val_loss: 6.8169e-06 - 14s/epoch - 21ms/step\n",
      "Epoch 39/100\n",
      "657/657 - 16s - loss: 8.0368e-05 - val_loss: 6.9154e-06 - 16s/epoch - 24ms/step\n",
      "Epoch 40/100\n",
      "657/657 - 14s - loss: 7.9787e-05 - val_loss: 6.7032e-06 - 14s/epoch - 22ms/step\n",
      "Epoch 41/100\n",
      "657/657 - 14s - loss: 8.1203e-05 - val_loss: 6.7981e-06 - 14s/epoch - 22ms/step\n",
      "Epoch 42/100\n",
      "657/657 - 14s - loss: 7.9779e-05 - val_loss: 6.2134e-06 - 14s/epoch - 22ms/step\n",
      "Epoch 43/100\n",
      "657/657 - 14s - loss: 7.7484e-05 - val_loss: 6.0480e-06 - 14s/epoch - 22ms/step\n",
      "Epoch 44/100\n",
      "657/657 - 15s - loss: 7.5387e-05 - val_loss: 5.8078e-06 - 15s/epoch - 22ms/step\n",
      "Epoch 45/100\n",
      "657/657 - 14s - loss: 7.4849e-05 - val_loss: 5.9582e-06 - 14s/epoch - 22ms/step\n",
      "Epoch 46/100\n",
      "657/657 - 14s - loss: 7.4391e-05 - val_loss: 5.6429e-06 - 14s/epoch - 22ms/step\n",
      "Epoch 47/100\n",
      "657/657 - 14s - loss: 7.3824e-05 - val_loss: 5.6506e-06 - 14s/epoch - 22ms/step\n",
      "Epoch 48/100\n",
      "657/657 - 14s - loss: 7.2573e-05 - val_loss: 5.3738e-06 - 14s/epoch - 22ms/step\n",
      "Epoch 49/100\n",
      "657/657 - 14s - loss: 7.1672e-05 - val_loss: 5.3799e-06 - 14s/epoch - 22ms/step\n",
      "Epoch 50/100\n",
      "657/657 - 14s - loss: 7.0804e-05 - val_loss: 5.2288e-06 - 14s/epoch - 22ms/step\n",
      "Epoch 51/100\n",
      "657/657 - 14s - loss: 7.0587e-05 - val_loss: 5.2445e-06 - 14s/epoch - 22ms/step\n",
      "Epoch 52/100\n",
      "657/657 - 14s - loss: 6.9804e-05 - val_loss: 5.0604e-06 - 14s/epoch - 22ms/step\n",
      "Epoch 53/100\n",
      "657/657 - 14s - loss: 6.8912e-05 - val_loss: 4.9911e-06 - 14s/epoch - 22ms/step\n",
      "Epoch 54/100\n",
      "657/657 - 14s - loss: 6.7970e-05 - val_loss: 4.9475e-06 - 14s/epoch - 22ms/step\n",
      "Epoch 55/100\n",
      "657/657 - 14s - loss: 6.7715e-05 - val_loss: 4.9050e-06 - 14s/epoch - 22ms/step\n",
      "Epoch 56/100\n",
      "657/657 - 14s - loss: 6.7535e-05 - val_loss: 4.8347e-06 - 14s/epoch - 22ms/step\n",
      "Epoch 57/100\n",
      "657/657 - 14s - loss: 6.6568e-05 - val_loss: 4.7033e-06 - 14s/epoch - 22ms/step\n",
      "Epoch 58/100\n",
      "657/657 - 14s - loss: 6.6036e-05 - val_loss: 4.7025e-06 - 14s/epoch - 22ms/step\n",
      "Epoch 59/100\n",
      "657/657 - 14s - loss: 6.5499e-05 - val_loss: 4.5985e-06 - 14s/epoch - 22ms/step\n",
      "Epoch 60/100\n",
      "657/657 - 14s - loss: 6.5511e-05 - val_loss: 4.5766e-06 - 14s/epoch - 22ms/step\n",
      "Epoch 61/100\n",
      "657/657 - 14s - loss: 6.4451e-05 - val_loss: 4.4282e-06 - 14s/epoch - 22ms/step\n",
      "Epoch 62/100\n",
      "657/657 - 14s - loss: 6.3990e-05 - val_loss: 4.4973e-06 - 14s/epoch - 22ms/step\n",
      "Epoch 63/100\n",
      "657/657 - 15s - loss: 6.3605e-05 - val_loss: 4.4039e-06 - 15s/epoch - 22ms/step\n",
      "Epoch 64/100\n",
      "657/657 - 14s - loss: 6.3923e-05 - val_loss: 4.3549e-06 - 14s/epoch - 22ms/step\n",
      "Epoch 65/100\n",
      "657/657 - 14s - loss: 6.2551e-05 - val_loss: 4.1972e-06 - 14s/epoch - 22ms/step\n",
      "Epoch 66/100\n",
      "657/657 - 15s - loss: 6.1940e-05 - val_loss: 4.3200e-06 - 15s/epoch - 22ms/step\n",
      "Epoch 67/100\n",
      "657/657 - 14s - loss: 6.2762e-05 - val_loss: 4.2234e-06 - 14s/epoch - 22ms/step\n",
      "Epoch 68/100\n",
      "657/657 - 15s - loss: 6.2375e-05 - val_loss: 4.1198e-06 - 15s/epoch - 22ms/step\n",
      "Epoch 69/100\n",
      "657/657 - 15s - loss: 6.0424e-05 - val_loss: 4.0174e-06 - 15s/epoch - 22ms/step\n",
      "Epoch 70/100\n",
      "657/657 - 15s - loss: 6.0733e-05 - val_loss: 4.0658e-06 - 15s/epoch - 22ms/step\n",
      "Epoch 71/100\n",
      "657/657 - 15s - loss: 5.9837e-05 - val_loss: 3.9668e-06 - 15s/epoch - 22ms/step\n",
      "Epoch 72/100\n",
      "657/657 - 15s - loss: 6.0531e-05 - val_loss: 4.0307e-06 - 15s/epoch - 22ms/step\n",
      "Epoch 73/100\n",
      "657/657 - 15s - loss: 5.9334e-05 - val_loss: 3.8665e-06 - 15s/epoch - 22ms/step\n",
      "Epoch 74/100\n",
      "657/657 - 14s - loss: 5.9642e-05 - val_loss: 3.9202e-06 - 14s/epoch - 22ms/step\n",
      "Epoch 75/100\n",
      "657/657 - 15s - loss: 5.8527e-05 - val_loss: 3.7889e-06 - 15s/epoch - 22ms/step\n",
      "Epoch 76/100\n",
      "657/657 - 15s - loss: 5.8936e-05 - val_loss: 3.8873e-06 - 15s/epoch - 22ms/step\n",
      "Epoch 77/100\n",
      "657/657 - 15s - loss: 5.7974e-05 - val_loss: 3.7480e-06 - 15s/epoch - 22ms/step\n",
      "Epoch 78/100\n",
      "657/657 - 14s - loss: 5.8441e-05 - val_loss: 3.7637e-06 - 14s/epoch - 22ms/step\n",
      "Epoch 79/100\n",
      "657/657 - 15s - loss: 5.7377e-05 - val_loss: 3.6614e-06 - 15s/epoch - 22ms/step\n",
      "Epoch 80/100\n",
      "657/657 - 14s - loss: 5.7580e-05 - val_loss: 3.7213e-06 - 14s/epoch - 22ms/step\n",
      "Epoch 81/100\n",
      "657/657 - 15s - loss: 5.7329e-05 - val_loss: 3.6155e-06 - 15s/epoch - 22ms/step\n",
      "Epoch 82/100\n",
      "657/657 - 14s - loss: 5.7095e-05 - val_loss: 3.5909e-06 - 14s/epoch - 22ms/step\n",
      "Epoch 83/100\n",
      "657/657 - 15s - loss: 5.5670e-05 - val_loss: 3.4916e-06 - 15s/epoch - 22ms/step\n",
      "Epoch 84/100\n",
      "657/657 - 15s - loss: 5.6738e-05 - val_loss: 3.5753e-06 - 15s/epoch - 22ms/step\n",
      "Epoch 85/100\n",
      "657/657 - 15s - loss: 5.5628e-05 - val_loss: 3.4504e-06 - 15s/epoch - 22ms/step\n",
      "Epoch 86/100\n",
      "657/657 - 15s - loss: 5.6128e-05 - val_loss: 3.4972e-06 - 15s/epoch - 22ms/step\n",
      "Epoch 87/100\n",
      "657/657 - 14s - loss: 5.4730e-05 - val_loss: 3.3572e-06 - 14s/epoch - 22ms/step\n",
      "Epoch 88/100\n",
      "657/657 - 15s - loss: 5.5614e-05 - val_loss: 3.4414e-06 - 15s/epoch - 22ms/step\n",
      "Epoch 89/100\n",
      "657/657 - 15s - loss: 5.4394e-05 - val_loss: 3.3240e-06 - 15s/epoch - 23ms/step\n",
      "Epoch 90/100\n",
      "657/657 - 15s - loss: 5.5275e-05 - val_loss: 3.3832e-06 - 15s/epoch - 22ms/step\n",
      "Epoch 91/100\n",
      "657/657 - 15s - loss: 5.3630e-05 - val_loss: 3.2341e-06 - 15s/epoch - 22ms/step\n",
      "Epoch 92/100\n",
      "657/657 - 15s - loss: 5.4650e-05 - val_loss: 3.3285e-06 - 15s/epoch - 22ms/step\n",
      "Epoch 93/100\n",
      "657/657 - 15s - loss: 5.3270e-05 - val_loss: 3.2050e-06 - 15s/epoch - 22ms/step\n",
      "Epoch 94/100\n",
      "657/657 - 15s - loss: 5.4372e-05 - val_loss: 3.2744e-06 - 15s/epoch - 22ms/step\n",
      "Epoch 95/100\n",
      "657/657 - 15s - loss: 5.2689e-05 - val_loss: 3.1354e-06 - 15s/epoch - 22ms/step\n",
      "Epoch 96/100\n",
      "657/657 - 15s - loss: 5.3858e-05 - val_loss: 3.2188e-06 - 15s/epoch - 22ms/step\n",
      "Epoch 97/100\n",
      "657/657 - 15s - loss: 5.2281e-05 - val_loss: 3.0878e-06 - 15s/epoch - 23ms/step\n",
      "Epoch 98/100\n",
      "657/657 - 15s - loss: 5.3499e-05 - val_loss: 3.1675e-06 - 15s/epoch - 23ms/step\n",
      "Epoch 99/100\n",
      "657/657 - 15s - loss: 5.1799e-05 - val_loss: 3.0347e-06 - 15s/epoch - 23ms/step\n",
      "Epoch 100/100\n",
      "657/657 - 13s - loss: 5.3090e-05 - val_loss: 3.1209e-06 - 13s/epoch - 21ms/step\n"
     ]
    }
   ],
   "source": [
    "for batch, epoch, neuron in hyperparam:\n",
    "    model1, bilstm1 = LSTMUnit.train_bilstm(train_X, train_y, test_X, test_y, neuron, epoch, batch)"
   ]
  },
  {
   "cell_type": "code",
   "execution_count": 15,
   "id": "ebe15d8d-6bc9-4220-a7db-48e4d4c7cd18",
   "metadata": {},
   "outputs": [
    {
     "name": "stdout",
     "output_type": "stream",
     "text": [
      "  7/164 [>.............................] - ETA: 1s "
     ]
    },
    {
     "name": "stderr",
     "output_type": "stream",
     "text": [
      "2023-05-15 11:50:15.641252: I tensorflow/core/grappler/optimizers/custom_graph_optimizer_registry.cc:114] Plugin optimizer for device_type GPU is enabled.\n",
      "2023-05-15 11:50:15.688722: I tensorflow/core/grappler/optimizers/custom_graph_optimizer_registry.cc:114] Plugin optimizer for device_type GPU is enabled.\n",
      "2023-05-15 11:50:15.697383: I tensorflow/core/grappler/optimizers/custom_graph_optimizer_registry.cc:114] Plugin optimizer for device_type GPU is enabled.\n"
     ]
    },
    {
     "name": "stdout",
     "output_type": "stream",
     "text": [
      "164/164 [==============================] - 2s 9ms/step\n",
      "(32, 100, 100)\n",
      "Epoch: 100\n",
      "Neurons: 100\n",
      "RMSE\n",
      "0.679437502737191\n",
      "MAE\n",
      "0.49839320102202983\n",
      "MAPE\n",
      "0.8287721219630683\n"
     ]
    }
   ],
   "source": [
    "i=0\n",
    "# make a prediction\n",
    "test_x2 = test_X\n",
    "yhat = LSTMUnit.predict(test_x2, model1)\n",
    "inv_yhat = Preprocessing.inverse_scaler(yhat, scaler)\n",
    "inv_y = Preprocessing.inverse_scaler(test_y.reshape(-1,1), scaler)\n",
    "print(hyperparam[i])\n",
    "print(\"Epoch: \"+ str(bilstm1.params['epochs']))\n",
    "print(\"Neurons: \"+str(model1.layers[0].layer.units))\n",
    "i = i+1\n",
    "print('RMSE')\n",
    "print(Evaluation.rmse(inv_y,inv_yhat))\n",
    "print('MAE')\n",
    "print(Evaluation.mae(inv_y,inv_yhat))\n",
    "print('MAPE')\n",
    "print(Evaluation.mape(inv_y,inv_yhat))\n",
    "LSTMUnit.save_model(model1, 1, 'LTC',hyperparam[0])\n",
    "with open('BiLSTM_LTC'+str(hyperparam[0])+'.pkl', 'wb') as f:\n",
    "    pickle.dump(bilstm1.history, f)"
   ]
  },
  {
   "cell_type": "code",
   "execution_count": null,
   "id": "13a58e81-77c7-489c-9932-062972f07b1d",
   "metadata": {},
   "outputs": [],
   "source": []
  }
 ],
 "metadata": {
  "kernelspec": {
   "display_name": "Python 3 (ipykernel)",
   "language": "python",
   "name": "python3"
  },
  "language_info": {
   "codemirror_mode": {
    "name": "ipython",
    "version": 3
   },
   "file_extension": ".py",
   "mimetype": "text/x-python",
   "name": "python",
   "nbconvert_exporter": "python",
   "pygments_lexer": "ipython3",
   "version": "3.9.13"
  }
 },
 "nbformat": 4,
 "nbformat_minor": 5
}
