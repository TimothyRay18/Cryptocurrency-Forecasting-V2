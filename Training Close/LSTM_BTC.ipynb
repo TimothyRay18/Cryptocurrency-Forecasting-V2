{
 "cells": [
  {
   "cell_type": "code",
   "execution_count": 1,
   "id": "499ef9d1-2655-483e-9f50-0badccf17d21",
   "metadata": {},
   "outputs": [],
   "source": [
    "from Skripsi import Preprocessing\n",
    "from Skripsi import Evaluation\n",
    "from Skripsi import LSTMUnit\n",
    "from pandas import read_csv\n",
    "from pandas import DataFrame\n",
    "import numpy as np\n",
    "import pandas as pd\n",
    "from openpyxl.workbook import Workbook\n",
    "import pickle"
   ]
  },
  {
   "cell_type": "code",
   "execution_count": 2,
   "id": "f8ed0706-d5c2-4868-beee-6933c00b0a83",
   "metadata": {},
   "outputs": [
    {
     "data": {
      "text/html": [
       "<div>\n",
       "<style scoped>\n",
       "    .dataframe tbody tr th:only-of-type {\n",
       "        vertical-align: middle;\n",
       "    }\n",
       "\n",
       "    .dataframe tbody tr th {\n",
       "        vertical-align: top;\n",
       "    }\n",
       "\n",
       "    .dataframe thead th {\n",
       "        text-align: right;\n",
       "    }\n",
       "</style>\n",
       "<table border=\"1\" class=\"dataframe\">\n",
       "  <thead>\n",
       "    <tr style=\"text-align: right;\">\n",
       "      <th></th>\n",
       "      <th>Date</th>\n",
       "      <th>Open</th>\n",
       "      <th>High</th>\n",
       "      <th>Low</th>\n",
       "      <th>Close</th>\n",
       "      <th>Volume USDT</th>\n",
       "    </tr>\n",
       "  </thead>\n",
       "  <tbody>\n",
       "    <tr>\n",
       "      <th>0</th>\n",
       "      <td>2022-12-31 23:00:00</td>\n",
       "      <td>16520.28</td>\n",
       "      <td>16551.24</td>\n",
       "      <td>16487.74</td>\n",
       "      <td>16542.40</td>\n",
       "      <td>8.217183e+07</td>\n",
       "    </tr>\n",
       "    <tr>\n",
       "      <th>1</th>\n",
       "      <td>2022-12-31 22:00:00</td>\n",
       "      <td>16548.28</td>\n",
       "      <td>16567.49</td>\n",
       "      <td>16470.00</td>\n",
       "      <td>16520.81</td>\n",
       "      <td>1.106669e+08</td>\n",
       "    </tr>\n",
       "    <tr>\n",
       "      <th>2</th>\n",
       "      <td>2022-12-31 21:00:00</td>\n",
       "      <td>16568.19</td>\n",
       "      <td>16571.64</td>\n",
       "      <td>16544.12</td>\n",
       "      <td>16548.28</td>\n",
       "      <td>5.992803e+07</td>\n",
       "    </tr>\n",
       "    <tr>\n",
       "      <th>3</th>\n",
       "      <td>2022-12-31 20:00:00</td>\n",
       "      <td>16570.14</td>\n",
       "      <td>16574.97</td>\n",
       "      <td>16564.09</td>\n",
       "      <td>16568.60</td>\n",
       "      <td>4.344849e+07</td>\n",
       "    </tr>\n",
       "    <tr>\n",
       "      <th>4</th>\n",
       "      <td>2022-12-31 19:00:00</td>\n",
       "      <td>16577.78</td>\n",
       "      <td>16590.06</td>\n",
       "      <td>16565.10</td>\n",
       "      <td>16570.14</td>\n",
       "      <td>6.704605e+07</td>\n",
       "    </tr>\n",
       "    <tr>\n",
       "      <th>...</th>\n",
       "      <td>...</td>\n",
       "      <td>...</td>\n",
       "      <td>...</td>\n",
       "      <td>...</td>\n",
       "      <td>...</td>\n",
       "      <td>...</td>\n",
       "    </tr>\n",
       "    <tr>\n",
       "      <th>26269</th>\n",
       "      <td>2020-01-01 04:00:00</td>\n",
       "      <td>7225.00</td>\n",
       "      <td>7230.00</td>\n",
       "      <td>7215.03</td>\n",
       "      <td>7217.27</td>\n",
       "      <td>3.379094e+06</td>\n",
       "    </tr>\n",
       "    <tr>\n",
       "      <th>26270</th>\n",
       "      <td>2020-01-01 03:00:00</td>\n",
       "      <td>7242.66</td>\n",
       "      <td>7245.00</td>\n",
       "      <td>7220.00</td>\n",
       "      <td>7225.01</td>\n",
       "      <td>5.667367e+06</td>\n",
       "    </tr>\n",
       "    <tr>\n",
       "      <th>26271</th>\n",
       "      <td>2020-01-01 02:00:00</td>\n",
       "      <td>7215.52</td>\n",
       "      <td>7244.87</td>\n",
       "      <td>7211.41</td>\n",
       "      <td>7242.85</td>\n",
       "      <td>4.736719e+06</td>\n",
       "    </tr>\n",
       "    <tr>\n",
       "      <th>26272</th>\n",
       "      <td>2020-01-01 01:00:00</td>\n",
       "      <td>7176.47</td>\n",
       "      <td>7230.00</td>\n",
       "      <td>7175.71</td>\n",
       "      <td>7216.27</td>\n",
       "      <td>6.365953e+06</td>\n",
       "    </tr>\n",
       "    <tr>\n",
       "      <th>26273</th>\n",
       "      <td>2020-01-01 00:00:00</td>\n",
       "      <td>7195.24</td>\n",
       "      <td>7196.25</td>\n",
       "      <td>7175.46</td>\n",
       "      <td>7177.02</td>\n",
       "      <td>3.675857e+06</td>\n",
       "    </tr>\n",
       "  </tbody>\n",
       "</table>\n",
       "<p>26274 rows × 6 columns</p>\n",
       "</div>"
      ],
      "text/plain": [
       "                      Date      Open      High       Low     Close  \\\n",
       "0      2022-12-31 23:00:00  16520.28  16551.24  16487.74  16542.40   \n",
       "1      2022-12-31 22:00:00  16548.28  16567.49  16470.00  16520.81   \n",
       "2      2022-12-31 21:00:00  16568.19  16571.64  16544.12  16548.28   \n",
       "3      2022-12-31 20:00:00  16570.14  16574.97  16564.09  16568.60   \n",
       "4      2022-12-31 19:00:00  16577.78  16590.06  16565.10  16570.14   \n",
       "...                    ...       ...       ...       ...       ...   \n",
       "26269  2020-01-01 04:00:00   7225.00   7230.00   7215.03   7217.27   \n",
       "26270  2020-01-01 03:00:00   7242.66   7245.00   7220.00   7225.01   \n",
       "26271  2020-01-01 02:00:00   7215.52   7244.87   7211.41   7242.85   \n",
       "26272  2020-01-01 01:00:00   7176.47   7230.00   7175.71   7216.27   \n",
       "26273  2020-01-01 00:00:00   7195.24   7196.25   7175.46   7177.02   \n",
       "\n",
       "        Volume USDT  \n",
       "0      8.217183e+07  \n",
       "1      1.106669e+08  \n",
       "2      5.992803e+07  \n",
       "3      4.344849e+07  \n",
       "4      6.704605e+07  \n",
       "...             ...  \n",
       "26269  3.379094e+06  \n",
       "26270  5.667367e+06  \n",
       "26271  4.736719e+06  \n",
       "26272  6.365953e+06  \n",
       "26273  3.675857e+06  \n",
       "\n",
       "[26274 rows x 6 columns]"
      ]
     },
     "execution_count": 2,
     "metadata": {},
     "output_type": "execute_result"
    }
   ],
   "source": [
    "btc_dfd = pd.read_csv('../Dataset/Binance_BTCUSDT_1h.csv')\n",
    "btc_dfd"
   ]
  },
  {
   "cell_type": "code",
   "execution_count": 3,
   "id": "41062755-9cca-4348-91bc-e80d46b79c3d",
   "metadata": {},
   "outputs": [
    {
     "data": {
      "text/html": [
       "<div>\n",
       "<style scoped>\n",
       "    .dataframe tbody tr th:only-of-type {\n",
       "        vertical-align: middle;\n",
       "    }\n",
       "\n",
       "    .dataframe tbody tr th {\n",
       "        vertical-align: top;\n",
       "    }\n",
       "\n",
       "    .dataframe thead th {\n",
       "        text-align: right;\n",
       "    }\n",
       "</style>\n",
       "<table border=\"1\" class=\"dataframe\">\n",
       "  <thead>\n",
       "    <tr style=\"text-align: right;\">\n",
       "      <th></th>\n",
       "      <th>Close</th>\n",
       "    </tr>\n",
       "  </thead>\n",
       "  <tbody>\n",
       "    <tr>\n",
       "      <th>0</th>\n",
       "      <td>7177.02</td>\n",
       "    </tr>\n",
       "    <tr>\n",
       "      <th>1</th>\n",
       "      <td>7216.27</td>\n",
       "    </tr>\n",
       "    <tr>\n",
       "      <th>2</th>\n",
       "      <td>7242.85</td>\n",
       "    </tr>\n",
       "    <tr>\n",
       "      <th>3</th>\n",
       "      <td>7225.01</td>\n",
       "    </tr>\n",
       "    <tr>\n",
       "      <th>4</th>\n",
       "      <td>7217.27</td>\n",
       "    </tr>\n",
       "    <tr>\n",
       "      <th>...</th>\n",
       "      <td>...</td>\n",
       "    </tr>\n",
       "    <tr>\n",
       "      <th>26269</th>\n",
       "      <td>16570.14</td>\n",
       "    </tr>\n",
       "    <tr>\n",
       "      <th>26270</th>\n",
       "      <td>16568.60</td>\n",
       "    </tr>\n",
       "    <tr>\n",
       "      <th>26271</th>\n",
       "      <td>16548.28</td>\n",
       "    </tr>\n",
       "    <tr>\n",
       "      <th>26272</th>\n",
       "      <td>16520.81</td>\n",
       "    </tr>\n",
       "    <tr>\n",
       "      <th>26273</th>\n",
       "      <td>16542.40</td>\n",
       "    </tr>\n",
       "  </tbody>\n",
       "</table>\n",
       "<p>26274 rows × 1 columns</p>\n",
       "</div>"
      ],
      "text/plain": [
       "          Close\n",
       "0       7177.02\n",
       "1       7216.27\n",
       "2       7242.85\n",
       "3       7225.01\n",
       "4       7217.27\n",
       "...         ...\n",
       "26269  16570.14\n",
       "26270  16568.60\n",
       "26271  16548.28\n",
       "26272  16520.81\n",
       "26273  16542.40\n",
       "\n",
       "[26274 rows x 1 columns]"
      ]
     },
     "execution_count": 3,
     "metadata": {},
     "output_type": "execute_result"
    }
   ],
   "source": [
    "df = Preprocessing.sort_df(btc_dfd)\n",
    "df"
   ]
  },
  {
   "cell_type": "code",
   "execution_count": 4,
   "id": "140ecfee-f8cf-45f6-b3c6-49e8e7458101",
   "metadata": {},
   "outputs": [
    {
     "data": {
      "text/plain": [
       "array([[0.04722846],\n",
       "       [0.04783696],\n",
       "       [0.04824904],\n",
       "       ...,\n",
       "       [0.19251245],\n",
       "       [0.19208658],\n",
       "       [0.19242129]])"
      ]
     },
     "execution_count": 4,
     "metadata": {},
     "output_type": "execute_result"
    }
   ],
   "source": [
    "x, scaler = Preprocessing.minmax_scale(df)\n",
    "x"
   ]
  },
  {
   "cell_type": "code",
   "execution_count": 5,
   "id": "c42a7847-70b8-4487-a874-67e370666724",
   "metadata": {},
   "outputs": [
    {
     "data": {
      "text/plain": [
       "array([[0.04722846],\n",
       "       [0.04783696],\n",
       "       [0.04824904],\n",
       "       ...,\n",
       "       [0.39344233],\n",
       "       [0.3886748 ],\n",
       "       [0.38670838]])"
      ]
     },
     "execution_count": 5,
     "metadata": {},
     "output_type": "execute_result"
    }
   ],
   "source": [
    "train, test = Preprocessing.splitting_data(x)\n",
    "train"
   ]
  },
  {
   "cell_type": "code",
   "execution_count": 6,
   "id": "a8e525a6-83d0-4c8b-9875-33e0e15480ae",
   "metadata": {},
   "outputs": [
    {
     "data": {
      "text/plain": [
       "array([[0.38493033],\n",
       "       [0.38538193],\n",
       "       [0.38586346],\n",
       "       ...,\n",
       "       [0.19251245],\n",
       "       [0.19208658],\n",
       "       [0.19242129]])"
      ]
     },
     "execution_count": 6,
     "metadata": {},
     "output_type": "execute_result"
    }
   ],
   "source": [
    "test"
   ]
  },
  {
   "cell_type": "code",
   "execution_count": 7,
   "id": "08213717-a303-4c9e-97bb-280204035109",
   "metadata": {},
   "outputs": [],
   "source": [
    "train_X, train_y = Preprocessing.create_dataset(train,25)\n",
    "test_X, test_y = Preprocessing.create_dataset(test,25)"
   ]
  },
  {
   "cell_type": "code",
   "execution_count": 8,
   "id": "aff76bd7-16f2-4bf2-8a64-f1f6a1194661",
   "metadata": {},
   "outputs": [
    {
     "data": {
      "text/plain": [
       "array([[[0.04722846],\n",
       "        [0.04783696],\n",
       "        [0.04824904],\n",
       "        ...,\n",
       "        [0.04755357],\n",
       "        [0.0475979 ],\n",
       "        [0.04775557]],\n",
       "\n",
       "       [[0.04783696],\n",
       "        [0.04824904],\n",
       "        [0.04797246],\n",
       "        ...,\n",
       "        [0.0475979 ],\n",
       "        [0.04775557],\n",
       "        [0.04744504]],\n",
       "\n",
       "       [[0.04824904],\n",
       "        [0.04797246],\n",
       "        [0.04785247],\n",
       "        ...,\n",
       "        [0.04775557],\n",
       "        [0.04744504],\n",
       "        [0.04710444]],\n",
       "\n",
       "       ...,\n",
       "\n",
       "       [[0.39834302],\n",
       "        [0.39773174],\n",
       "        [0.39395827],\n",
       "        ...,\n",
       "        [0.39144071],\n",
       "        [0.39268484],\n",
       "        [0.39452832]],\n",
       "\n",
       "       [[0.39773174],\n",
       "        [0.39395827],\n",
       "        [0.39775096],\n",
       "        ...,\n",
       "        [0.39268484],\n",
       "        [0.39452832],\n",
       "        [0.39344233]],\n",
       "\n",
       "       [[0.39395827],\n",
       "        [0.39775096],\n",
       "        [0.39605305],\n",
       "        ...,\n",
       "        [0.39452832],\n",
       "        [0.39344233],\n",
       "        [0.3886748 ]]])"
      ]
     },
     "execution_count": 8,
     "metadata": {},
     "output_type": "execute_result"
    }
   ],
   "source": [
    "train_X"
   ]
  },
  {
   "cell_type": "code",
   "execution_count": 9,
   "id": "4efa14c4-f85e-47c3-bc04-7f0d029d3a72",
   "metadata": {},
   "outputs": [
    {
     "data": {
      "text/plain": [
       "array([0.04744504, 0.04710444, 0.04649346, ..., 0.39344233, 0.3886748 ,\n",
       "       0.38670838])"
      ]
     },
     "execution_count": 9,
     "metadata": {},
     "output_type": "execute_result"
    }
   ],
   "source": [
    "train_y"
   ]
  },
  {
   "cell_type": "code",
   "execution_count": 10,
   "id": "51dc56af-5903-45ab-a70b-556fb3f3d97a",
   "metadata": {},
   "outputs": [
    {
     "data": {
      "text/plain": [
       "array([[[0.38493033],\n",
       "        [0.38538193],\n",
       "        [0.38586346],\n",
       "        ...,\n",
       "        [0.37981398],\n",
       "        [0.38255028],\n",
       "        [0.37959724]],\n",
       "\n",
       "       [[0.38538193],\n",
       "        [0.38586346],\n",
       "        [0.38442601],\n",
       "        ...,\n",
       "        [0.38255028],\n",
       "        [0.37959724],\n",
       "        [0.38068448]],\n",
       "\n",
       "       [[0.38586346],\n",
       "        [0.38442601],\n",
       "        [0.38245246],\n",
       "        ...,\n",
       "        [0.37959724],\n",
       "        [0.38068448],\n",
       "        [0.38275027]],\n",
       "\n",
       "       ...,\n",
       "\n",
       "       [[0.19282887],\n",
       "        [0.19308265],\n",
       "        [0.1930549 ],\n",
       "        ...,\n",
       "        [0.19296994],\n",
       "        [0.19285135],\n",
       "        [0.19282747]],\n",
       "\n",
       "       [[0.19308265],\n",
       "        [0.1930549 ],\n",
       "        [0.19343023],\n",
       "        ...,\n",
       "        [0.19285135],\n",
       "        [0.19282747],\n",
       "        [0.19251245]],\n",
       "\n",
       "       [[0.1930549 ],\n",
       "        [0.19343023],\n",
       "        [0.19300917],\n",
       "        ...,\n",
       "        [0.19282747],\n",
       "        [0.19251245],\n",
       "        [0.19208658]]])"
      ]
     },
     "execution_count": 10,
     "metadata": {},
     "output_type": "execute_result"
    }
   ],
   "source": [
    "test_X"
   ]
  },
  {
   "cell_type": "code",
   "execution_count": 11,
   "id": "d98152d5-e8c5-4645-90ea-876a042b25e0",
   "metadata": {},
   "outputs": [
    {
     "data": {
      "text/plain": [
       "array([0.38068448, 0.38275027, 0.38296623, ..., 0.19251245, 0.19208658,\n",
       "       0.19242129])"
      ]
     },
     "execution_count": 11,
     "metadata": {},
     "output_type": "execute_result"
    }
   ],
   "source": [
    "test_y"
   ]
  },
  {
   "cell_type": "code",
   "execution_count": 12,
   "id": "d80df0f9-fe70-44f0-bef3-b779d95da0d0",
   "metadata": {},
   "outputs": [
    {
     "name": "stdout",
     "output_type": "stream",
     "text": [
      "(20994, 25, 1) (20994,) (5230, 25, 1) (5230,)\n"
     ]
    }
   ],
   "source": [
    "print(train_X.shape, train_y.shape, test_X.shape, test_y.shape)"
   ]
  },
  {
   "cell_type": "markdown",
   "id": "cf43011a-1b18-4fef-b638-d84109a5347b",
   "metadata": {},
   "source": [
    "## Model Training"
   ]
  },
  {
   "cell_type": "code",
   "execution_count": 13,
   "id": "7c6e3c5f-f40b-427b-bbf6-715de9fbfed4",
   "metadata": {},
   "outputs": [],
   "source": [
    "hyperparam = [(64,100,60)]"
   ]
  },
  {
   "cell_type": "code",
   "execution_count": 14,
   "id": "3ffd8dc1-5eb8-4d7e-aba2-cab78df020ae",
   "metadata": {},
   "outputs": [
    {
     "name": "stdout",
     "output_type": "stream",
     "text": [
      "Metal device set to: Apple M1\n"
     ]
    },
    {
     "name": "stderr",
     "output_type": "stream",
     "text": [
      "2023-05-14 22:58:29.312629: I tensorflow/core/common_runtime/pluggable_device/pluggable_device_factory.cc:306] Could not identify NUMA node of platform GPU ID 0, defaulting to 0. Your kernel may not have been built with NUMA support.\n",
      "2023-05-14 22:58:29.312710: I tensorflow/core/common_runtime/pluggable_device/pluggable_device_factory.cc:272] Created TensorFlow device (/job:localhost/replica:0/task:0/device:GPU:0 with 0 MB memory) -> physical PluggableDevice (device: 0, name: METAL, pci bus id: <undefined>)\n"
     ]
    },
    {
     "name": "stdout",
     "output_type": "stream",
     "text": [
      "Epoch 1/100\n"
     ]
    },
    {
     "name": "stderr",
     "output_type": "stream",
     "text": [
      "2023-05-14 22:58:29.522954: W tensorflow/core/platform/profile_utils/cpu_utils.cc:128] Failed to get CPU frequency: 0 Hz\n",
      "2023-05-14 22:58:29.905875: I tensorflow/core/grappler/optimizers/custom_graph_optimizer_registry.cc:114] Plugin optimizer for device_type GPU is enabled.\n",
      "2023-05-14 22:58:29.987642: I tensorflow/core/grappler/optimizers/custom_graph_optimizer_registry.cc:114] Plugin optimizer for device_type GPU is enabled.\n",
      "2023-05-14 22:58:30.119993: I tensorflow/core/grappler/optimizers/custom_graph_optimizer_registry.cc:114] Plugin optimizer for device_type GPU is enabled.\n",
      "2023-05-14 22:58:33.935954: I tensorflow/core/grappler/optimizers/custom_graph_optimizer_registry.cc:114] Plugin optimizer for device_type GPU is enabled.\n",
      "2023-05-14 22:58:33.966608: I tensorflow/core/grappler/optimizers/custom_graph_optimizer_registry.cc:114] Plugin optimizer for device_type GPU is enabled.\n"
     ]
    },
    {
     "name": "stdout",
     "output_type": "stream",
     "text": [
      "329/329 - 5s - loss: 6.0045e-04 - val_loss: 0.0021 - 5s/epoch - 15ms/step\n",
      "Epoch 2/100\n",
      "329/329 - 4s - loss: 0.0010 - val_loss: 0.0019 - 4s/epoch - 12ms/step\n",
      "Epoch 3/100\n",
      "329/329 - 4s - loss: 8.8848e-04 - val_loss: 0.0022 - 4s/epoch - 11ms/step\n",
      "Epoch 4/100\n",
      "329/329 - 4s - loss: 9.0906e-04 - val_loss: 0.0026 - 4s/epoch - 11ms/step\n",
      "Epoch 5/100\n",
      "329/329 - 4s - loss: 0.0011 - val_loss: 0.0032 - 4s/epoch - 11ms/step\n",
      "Epoch 6/100\n",
      "329/329 - 4s - loss: 0.0012 - val_loss: 0.0036 - 4s/epoch - 11ms/step\n",
      "Epoch 7/100\n",
      "329/329 - 4s - loss: 0.0012 - val_loss: 0.0041 - 4s/epoch - 11ms/step\n",
      "Epoch 8/100\n",
      "329/329 - 4s - loss: 0.0013 - val_loss: 0.0044 - 4s/epoch - 11ms/step\n",
      "Epoch 9/100\n",
      "329/329 - 4s - loss: 0.0013 - val_loss: 0.0048 - 4s/epoch - 11ms/step\n",
      "Epoch 10/100\n",
      "329/329 - 4s - loss: 0.0013 - val_loss: 0.0047 - 4s/epoch - 11ms/step\n",
      "Epoch 11/100\n",
      "329/329 - 4s - loss: 0.0012 - val_loss: 0.0047 - 4s/epoch - 11ms/step\n",
      "Epoch 12/100\n",
      "329/329 - 4s - loss: 0.0012 - val_loss: 0.0043 - 4s/epoch - 12ms/step\n",
      "Epoch 13/100\n",
      "329/329 - 4s - loss: 0.0010 - val_loss: 0.0039 - 4s/epoch - 12ms/step\n",
      "Epoch 14/100\n",
      "329/329 - 4s - loss: 9.8838e-04 - val_loss: 0.0036 - 4s/epoch - 12ms/step\n",
      "Epoch 15/100\n",
      "329/329 - 4s - loss: 8.7255e-04 - val_loss: 0.0032 - 4s/epoch - 12ms/step\n",
      "Epoch 16/100\n",
      "329/329 - 4s - loss: 7.9912e-04 - val_loss: 0.0028 - 4s/epoch - 12ms/step\n",
      "Epoch 17/100\n",
      "329/329 - 4s - loss: 7.1288e-04 - val_loss: 0.0025 - 4s/epoch - 13ms/step\n",
      "Epoch 18/100\n",
      "329/329 - 4s - loss: 6.5341e-04 - val_loss: 0.0022 - 4s/epoch - 12ms/step\n",
      "Epoch 19/100\n",
      "329/329 - 4s - loss: 5.9994e-04 - val_loss: 0.0020 - 4s/epoch - 13ms/step\n",
      "Epoch 20/100\n",
      "329/329 - 4s - loss: 5.6028e-04 - val_loss: 0.0018 - 4s/epoch - 13ms/step\n",
      "Epoch 21/100\n",
      "329/329 - 4s - loss: 5.1453e-04 - val_loss: 0.0016 - 4s/epoch - 12ms/step\n",
      "Epoch 22/100\n",
      "329/329 - 5s - loss: 4.6343e-04 - val_loss: 0.0013 - 5s/epoch - 14ms/step\n",
      "Epoch 23/100\n",
      "329/329 - 4s - loss: 4.1941e-04 - val_loss: 0.0012 - 4s/epoch - 13ms/step\n",
      "Epoch 24/100\n",
      "329/329 - 4s - loss: 3.9061e-04 - val_loss: 0.0011 - 4s/epoch - 12ms/step\n",
      "Epoch 25/100\n",
      "329/329 - 4s - loss: 3.7602e-04 - val_loss: 0.0010 - 4s/epoch - 13ms/step\n",
      "Epoch 26/100\n",
      "329/329 - 4s - loss: 3.5542e-04 - val_loss: 9.1421e-04 - 4s/epoch - 13ms/step\n",
      "Epoch 27/100\n",
      "329/329 - 4s - loss: 3.3402e-04 - val_loss: 8.0092e-04 - 4s/epoch - 13ms/step\n",
      "Epoch 28/100\n",
      "329/329 - 4s - loss: 2.9816e-04 - val_loss: 7.2445e-04 - 4s/epoch - 12ms/step\n",
      "Epoch 29/100\n",
      "329/329 - 4s - loss: 2.8156e-04 - val_loss: 6.6946e-04 - 4s/epoch - 11ms/step\n",
      "Epoch 30/100\n",
      "329/329 - 4s - loss: 2.6711e-04 - val_loss: 6.4542e-04 - 4s/epoch - 11ms/step\n",
      "Epoch 31/100\n",
      "329/329 - 4s - loss: 2.6428e-04 - val_loss: 5.8792e-04 - 4s/epoch - 11ms/step\n",
      "Epoch 32/100\n",
      "329/329 - 4s - loss: 2.4812e-04 - val_loss: 5.4161e-04 - 4s/epoch - 11ms/step\n",
      "Epoch 33/100\n",
      "329/329 - 4s - loss: 2.3315e-04 - val_loss: 4.8001e-04 - 4s/epoch - 11ms/step\n",
      "Epoch 34/100\n",
      "329/329 - 4s - loss: 2.1504e-04 - val_loss: 4.2437e-04 - 4s/epoch - 12ms/step\n",
      "Epoch 35/100\n",
      "329/329 - 4s - loss: 1.9955e-04 - val_loss: 3.6918e-04 - 4s/epoch - 12ms/step\n",
      "Epoch 36/100\n",
      "329/329 - 4s - loss: 1.8358e-04 - val_loss: 3.2853e-04 - 4s/epoch - 12ms/step\n",
      "Epoch 37/100\n",
      "329/329 - 4s - loss: 1.7139e-04 - val_loss: 2.9109e-04 - 4s/epoch - 12ms/step\n",
      "Epoch 38/100\n",
      "329/329 - 4s - loss: 1.6018e-04 - val_loss: 2.5501e-04 - 4s/epoch - 12ms/step\n",
      "Epoch 39/100\n",
      "329/329 - 4s - loss: 1.4841e-04 - val_loss: 2.1982e-04 - 4s/epoch - 12ms/step\n",
      "Epoch 40/100\n",
      "329/329 - 4s - loss: 1.3812e-04 - val_loss: 1.8671e-04 - 4s/epoch - 12ms/step\n",
      "Epoch 41/100\n",
      "329/329 - 4s - loss: 1.2656e-04 - val_loss: 1.5441e-04 - 4s/epoch - 13ms/step\n",
      "Epoch 42/100\n",
      "329/329 - 4s - loss: 1.1623e-04 - val_loss: 1.2341e-04 - 4s/epoch - 13ms/step\n",
      "Epoch 43/100\n",
      "329/329 - 4s - loss: 1.0457e-04 - val_loss: 9.4548e-05 - 4s/epoch - 13ms/step\n",
      "Epoch 44/100\n",
      "329/329 - 4s - loss: 9.3350e-05 - val_loss: 6.7687e-05 - 4s/epoch - 13ms/step\n",
      "Epoch 45/100\n",
      "329/329 - 4s - loss: 8.1525e-05 - val_loss: 4.4713e-05 - 4s/epoch - 12ms/step\n",
      "Epoch 46/100\n",
      "329/329 - 4s - loss: 7.0039e-05 - val_loss: 2.5922e-05 - 4s/epoch - 12ms/step\n",
      "Epoch 47/100\n",
      "329/329 - 4s - loss: 5.9296e-05 - val_loss: 1.3085e-05 - 4s/epoch - 12ms/step\n",
      "Epoch 48/100\n",
      "329/329 - 4s - loss: 5.0010e-05 - val_loss: 7.0399e-06 - 4s/epoch - 12ms/step\n",
      "Epoch 49/100\n",
      "329/329 - 4s - loss: 4.2317e-05 - val_loss: 5.3584e-06 - 4s/epoch - 12ms/step\n",
      "Epoch 50/100\n",
      "329/329 - 4s - loss: 3.6456e-05 - val_loss: 5.1836e-06 - 4s/epoch - 12ms/step\n",
      "Epoch 51/100\n",
      "329/329 - 4s - loss: 3.3157e-05 - val_loss: 5.3316e-06 - 4s/epoch - 12ms/step\n",
      "Epoch 52/100\n",
      "329/329 - 4s - loss: 3.2287e-05 - val_loss: 5.2694e-06 - 4s/epoch - 12ms/step\n",
      "Epoch 53/100\n",
      "329/329 - 4s - loss: 3.2853e-05 - val_loss: 5.2976e-06 - 4s/epoch - 12ms/step\n",
      "Epoch 54/100\n",
      "329/329 - 4s - loss: 3.3811e-05 - val_loss: 5.4911e-06 - 4s/epoch - 12ms/step\n",
      "Epoch 55/100\n",
      "329/329 - 4s - loss: 3.4544e-05 - val_loss: 5.7797e-06 - 4s/epoch - 12ms/step\n",
      "Epoch 56/100\n",
      "329/329 - 4s - loss: 3.4874e-05 - val_loss: 6.2492e-06 - 4s/epoch - 12ms/step\n",
      "Epoch 57/100\n",
      "329/329 - 4s - loss: 3.4919e-05 - val_loss: 6.9130e-06 - 4s/epoch - 12ms/step\n",
      "Epoch 58/100\n",
      "329/329 - 4s - loss: 3.4965e-05 - val_loss: 7.7579e-06 - 4s/epoch - 13ms/step\n",
      "Epoch 59/100\n",
      "329/329 - 4s - loss: 3.5204e-05 - val_loss: 8.7887e-06 - 4s/epoch - 12ms/step\n",
      "Epoch 60/100\n",
      "329/329 - 4s - loss: 3.5329e-05 - val_loss: 1.0028e-05 - 4s/epoch - 12ms/step\n",
      "Epoch 61/100\n",
      "329/329 - 4s - loss: 3.5176e-05 - val_loss: 1.1210e-05 - 4s/epoch - 12ms/step\n",
      "Epoch 62/100\n",
      "329/329 - 4s - loss: 3.5068e-05 - val_loss: 1.2527e-05 - 4s/epoch - 12ms/step\n",
      "Epoch 63/100\n",
      "329/329 - 4s - loss: 3.5435e-05 - val_loss: 1.4138e-05 - 4s/epoch - 12ms/step\n",
      "Epoch 64/100\n",
      "329/329 - 4s - loss: 3.5495e-05 - val_loss: 1.5616e-05 - 4s/epoch - 12ms/step\n",
      "Epoch 65/100\n",
      "329/329 - 4s - loss: 3.5268e-05 - val_loss: 1.6804e-05 - 4s/epoch - 12ms/step\n",
      "Epoch 66/100\n",
      "329/329 - 4s - loss: 3.6268e-05 - val_loss: 1.9041e-05 - 4s/epoch - 12ms/step\n",
      "Epoch 67/100\n",
      "329/329 - 4s - loss: 3.5953e-05 - val_loss: 2.0054e-05 - 4s/epoch - 12ms/step\n",
      "Epoch 68/100\n",
      "329/329 - 4s - loss: 3.5712e-05 - val_loss: 2.0903e-05 - 4s/epoch - 12ms/step\n",
      "Epoch 69/100\n",
      "329/329 - 4s - loss: 3.5326e-05 - val_loss: 2.1760e-05 - 4s/epoch - 12ms/step\n",
      "Epoch 70/100\n",
      "329/329 - 4s - loss: 3.5724e-05 - val_loss: 2.3178e-05 - 4s/epoch - 12ms/step\n",
      "Epoch 71/100\n",
      "329/329 - 4s - loss: 3.6538e-05 - val_loss: 2.5647e-05 - 4s/epoch - 12ms/step\n",
      "Epoch 72/100\n",
      "329/329 - 4s - loss: 3.6314e-05 - val_loss: 2.6369e-05 - 4s/epoch - 12ms/step\n",
      "Epoch 73/100\n",
      "329/329 - 4s - loss: 3.6269e-05 - val_loss: 2.7646e-05 - 4s/epoch - 12ms/step\n",
      "Epoch 74/100\n",
      "329/329 - 4s - loss: 3.6026e-05 - val_loss: 2.7988e-05 - 4s/epoch - 12ms/step\n",
      "Epoch 75/100\n",
      "329/329 - 4s - loss: 3.6490e-05 - val_loss: 2.9706e-05 - 4s/epoch - 12ms/step\n",
      "Epoch 76/100\n",
      "329/329 - 4s - loss: 3.6132e-05 - val_loss: 3.0095e-05 - 4s/epoch - 12ms/step\n",
      "Epoch 77/100\n",
      "329/329 - 4s - loss: 3.6468e-05 - val_loss: 3.0723e-05 - 4s/epoch - 12ms/step\n",
      "Epoch 78/100\n",
      "329/329 - 4s - loss: 3.6147e-05 - val_loss: 3.1241e-05 - 4s/epoch - 12ms/step\n",
      "Epoch 79/100\n",
      "329/329 - 4s - loss: 3.6588e-05 - val_loss: 3.2674e-05 - 4s/epoch - 12ms/step\n",
      "Epoch 80/100\n",
      "329/329 - 4s - loss: 3.6390e-05 - val_loss: 3.2984e-05 - 4s/epoch - 12ms/step\n",
      "Epoch 81/100\n",
      "329/329 - 4s - loss: 3.7119e-05 - val_loss: 3.4744e-05 - 4s/epoch - 13ms/step\n",
      "Epoch 82/100\n",
      "329/329 - 4s - loss: 3.6372e-05 - val_loss: 3.4597e-05 - 4s/epoch - 12ms/step\n",
      "Epoch 83/100\n",
      "329/329 - 4s - loss: 3.6775e-05 - val_loss: 3.5485e-05 - 4s/epoch - 12ms/step\n",
      "Epoch 84/100\n",
      "329/329 - 4s - loss: 3.6532e-05 - val_loss: 3.6051e-05 - 4s/epoch - 12ms/step\n",
      "Epoch 85/100\n",
      "329/329 - 4s - loss: 3.6913e-05 - val_loss: 3.6978e-05 - 4s/epoch - 12ms/step\n",
      "Epoch 86/100\n",
      "329/329 - 4s - loss: 3.6544e-05 - val_loss: 3.6853e-05 - 4s/epoch - 12ms/step\n",
      "Epoch 87/100\n",
      "329/329 - 4s - loss: 3.6933e-05 - val_loss: 3.7415e-05 - 4s/epoch - 12ms/step\n",
      "Epoch 88/100\n",
      "329/329 - 4s - loss: 3.6266e-05 - val_loss: 3.7189e-05 - 4s/epoch - 12ms/step\n",
      "Epoch 89/100\n",
      "329/329 - 4s - loss: 3.6602e-05 - val_loss: 3.7510e-05 - 4s/epoch - 13ms/step\n",
      "Epoch 90/100\n",
      "329/329 - 4s - loss: 3.6252e-05 - val_loss: 3.7961e-05 - 4s/epoch - 12ms/step\n",
      "Epoch 91/100\n",
      "329/329 - 4s - loss: 3.6807e-05 - val_loss: 3.8724e-05 - 4s/epoch - 12ms/step\n",
      "Epoch 92/100\n",
      "329/329 - 4s - loss: 3.6527e-05 - val_loss: 3.8993e-05 - 4s/epoch - 12ms/step\n",
      "Epoch 93/100\n",
      "329/329 - 4s - loss: 3.6598e-05 - val_loss: 3.8998e-05 - 4s/epoch - 12ms/step\n",
      "Epoch 94/100\n",
      "329/329 - 4s - loss: 3.6540e-05 - val_loss: 3.9346e-05 - 4s/epoch - 12ms/step\n",
      "Epoch 95/100\n",
      "329/329 - 4s - loss: 3.6403e-05 - val_loss: 3.9819e-05 - 4s/epoch - 12ms/step\n",
      "Epoch 96/100\n",
      "329/329 - 4s - loss: 3.6607e-05 - val_loss: 4.0448e-05 - 4s/epoch - 12ms/step\n",
      "Epoch 97/100\n",
      "329/329 - 4s - loss: 3.6833e-05 - val_loss: 4.1506e-05 - 4s/epoch - 12ms/step\n",
      "Epoch 98/100\n",
      "329/329 - 4s - loss: 3.6557e-05 - val_loss: 4.1461e-05 - 4s/epoch - 13ms/step\n",
      "Epoch 99/100\n",
      "329/329 - 4s - loss: 3.6628e-05 - val_loss: 4.1323e-05 - 4s/epoch - 12ms/step\n",
      "Epoch 100/100\n",
      "329/329 - 4s - loss: 3.6360e-05 - val_loss: 4.1383e-05 - 4s/epoch - 12ms/step\n"
     ]
    }
   ],
   "source": [
    "for batch, epoch, neuron in hyperparam:\n",
    "    model1, lstm1 = LSTMUnit.train_lstm(train_X, train_y, test_X, test_y, neuron, epoch, batch)"
   ]
  },
  {
   "cell_type": "code",
   "execution_count": 15,
   "id": "ebe15d8d-6bc9-4220-a7db-48e4d4c7cd18",
   "metadata": {},
   "outputs": [
    {
     "name": "stdout",
     "output_type": "stream",
     "text": [
      "  1/164 [..............................] - ETA: 49s"
     ]
    },
    {
     "name": "stderr",
     "output_type": "stream",
     "text": [
      "2023-05-14 23:05:11.411426: I tensorflow/core/grappler/optimizers/custom_graph_optimizer_registry.cc:114] Plugin optimizer for device_type GPU is enabled.\n",
      "2023-05-14 23:05:11.448776: I tensorflow/core/grappler/optimizers/custom_graph_optimizer_registry.cc:114] Plugin optimizer for device_type GPU is enabled.\n"
     ]
    },
    {
     "name": "stdout",
     "output_type": "stream",
     "text": [
      "164/164 [==============================] - 1s 6ms/step\n",
      "(64, 100, 60)\n",
      "Epoch: 100\n",
      "Neurons: 60\n",
      "RMSE\n",
      "414.9468679615335\n",
      "MAE\n",
      "377.9278166900693\n",
      "MAPE\n",
      "1.974512057781146\n"
     ]
    }
   ],
   "source": [
    "i=0\n",
    "# make a prediction\n",
    "test_x2 = test_X\n",
    "yhat = LSTMUnit.predict(test_x2, model1)\n",
    "inv_yhat = Preprocessing.inverse_scaler(yhat, scaler)\n",
    "inv_y = Preprocessing.inverse_scaler(test_y.reshape(-1,1), scaler)\n",
    "print(hyperparam[i])\n",
    "print(\"Epoch: \"+ str(lstm1.params['epochs']))\n",
    "print(\"Neurons: \"+str(model1.layers[0].units))\n",
    "i = i+1\n",
    "print('RMSE')\n",
    "print(Evaluation.rmse(inv_y,inv_yhat))\n",
    "print('MAE')\n",
    "print(Evaluation.mae(inv_y,inv_yhat))\n",
    "print('MAPE')\n",
    "print(Evaluation.mape(inv_y,inv_yhat))\n",
    "LSTMUnit.save_model(model1, 0, 'BTC',hyperparam[0])\n",
    "with open('LSTM_BTC'+str(hyperparam[0])+'.pkl', 'wb') as f:\n",
    "    pickle.dump(lstm1.history, f)"
   ]
  },
  {
   "cell_type": "code",
   "execution_count": null,
   "id": "13a58e81-77c7-489c-9932-062972f07b1d",
   "metadata": {},
   "outputs": [],
   "source": []
  }
 ],
 "metadata": {
  "kernelspec": {
   "display_name": "Python 3 (ipykernel)",
   "language": "python",
   "name": "python3"
  },
  "language_info": {
   "codemirror_mode": {
    "name": "ipython",
    "version": 3
   },
   "file_extension": ".py",
   "mimetype": "text/x-python",
   "name": "python",
   "nbconvert_exporter": "python",
   "pygments_lexer": "ipython3",
   "version": "3.9.13"
  }
 },
 "nbformat": 4,
 "nbformat_minor": 5
}
