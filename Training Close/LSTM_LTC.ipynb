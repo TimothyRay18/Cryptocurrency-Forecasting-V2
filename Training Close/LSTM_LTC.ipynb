{
 "cells": [
  {
   "cell_type": "code",
   "execution_count": 1,
   "id": "499ef9d1-2655-483e-9f50-0badccf17d21",
   "metadata": {},
   "outputs": [],
   "source": [
    "from Skripsi import Preprocessing\n",
    "from Skripsi import Evaluation\n",
    "from Skripsi import LSTMUnit\n",
    "from pandas import read_csv\n",
    "from pandas import DataFrame\n",
    "import numpy as np\n",
    "import pandas as pd\n",
    "from openpyxl.workbook import Workbook\n",
    "import pickle"
   ]
  },
  {
   "cell_type": "code",
   "execution_count": 2,
   "id": "f8ed0706-d5c2-4868-beee-6933c00b0a83",
   "metadata": {},
   "outputs": [
    {
     "data": {
      "text/html": [
       "<div>\n",
       "<style scoped>\n",
       "    .dataframe tbody tr th:only-of-type {\n",
       "        vertical-align: middle;\n",
       "    }\n",
       "\n",
       "    .dataframe tbody tr th {\n",
       "        vertical-align: top;\n",
       "    }\n",
       "\n",
       "    .dataframe thead th {\n",
       "        text-align: right;\n",
       "    }\n",
       "</style>\n",
       "<table border=\"1\" class=\"dataframe\">\n",
       "  <thead>\n",
       "    <tr style=\"text-align: right;\">\n",
       "      <th></th>\n",
       "      <th>Date</th>\n",
       "      <th>Open</th>\n",
       "      <th>High</th>\n",
       "      <th>Low</th>\n",
       "      <th>Close</th>\n",
       "      <th>Volume USDT</th>\n",
       "    </tr>\n",
       "  </thead>\n",
       "  <tbody>\n",
       "    <tr>\n",
       "      <th>0</th>\n",
       "      <td>2022-12-31 23:00:00</td>\n",
       "      <td>70.08</td>\n",
       "      <td>70.30</td>\n",
       "      <td>69.79</td>\n",
       "      <td>70.14</td>\n",
       "      <td>9.486568e+05</td>\n",
       "    </tr>\n",
       "    <tr>\n",
       "      <th>1</th>\n",
       "      <td>2022-12-31 22:00:00</td>\n",
       "      <td>70.24</td>\n",
       "      <td>70.24</td>\n",
       "      <td>69.71</td>\n",
       "      <td>70.09</td>\n",
       "      <td>8.838422e+05</td>\n",
       "    </tr>\n",
       "    <tr>\n",
       "      <th>2</th>\n",
       "      <td>2022-12-31 21:00:00</td>\n",
       "      <td>70.40</td>\n",
       "      <td>70.45</td>\n",
       "      <td>70.19</td>\n",
       "      <td>70.23</td>\n",
       "      <td>6.820723e+05</td>\n",
       "    </tr>\n",
       "    <tr>\n",
       "      <th>3</th>\n",
       "      <td>2022-12-31 20:00:00</td>\n",
       "      <td>70.15</td>\n",
       "      <td>70.53</td>\n",
       "      <td>70.08</td>\n",
       "      <td>70.39</td>\n",
       "      <td>1.173164e+06</td>\n",
       "    </tr>\n",
       "    <tr>\n",
       "      <th>4</th>\n",
       "      <td>2022-12-31 19:00:00</td>\n",
       "      <td>69.93</td>\n",
       "      <td>70.32</td>\n",
       "      <td>69.93</td>\n",
       "      <td>70.15</td>\n",
       "      <td>9.964355e+05</td>\n",
       "    </tr>\n",
       "    <tr>\n",
       "      <th>...</th>\n",
       "      <td>...</td>\n",
       "      <td>...</td>\n",
       "      <td>...</td>\n",
       "      <td>...</td>\n",
       "      <td>...</td>\n",
       "      <td>...</td>\n",
       "    </tr>\n",
       "    <tr>\n",
       "      <th>26269</th>\n",
       "      <td>2020-01-01 04:00:00</td>\n",
       "      <td>41.53</td>\n",
       "      <td>41.85</td>\n",
       "      <td>41.45</td>\n",
       "      <td>41.59</td>\n",
       "      <td>2.214516e+05</td>\n",
       "    </tr>\n",
       "    <tr>\n",
       "      <th>26270</th>\n",
       "      <td>2020-01-01 03:00:00</td>\n",
       "      <td>41.84</td>\n",
       "      <td>41.85</td>\n",
       "      <td>41.49</td>\n",
       "      <td>41.53</td>\n",
       "      <td>1.613043e+05</td>\n",
       "    </tr>\n",
       "    <tr>\n",
       "      <th>26271</th>\n",
       "      <td>2020-01-01 02:00:00</td>\n",
       "      <td>41.63</td>\n",
       "      <td>41.88</td>\n",
       "      <td>41.62</td>\n",
       "      <td>41.85</td>\n",
       "      <td>2.402871e+05</td>\n",
       "    </tr>\n",
       "    <tr>\n",
       "      <th>26272</th>\n",
       "      <td>2020-01-01 01:00:00</td>\n",
       "      <td>41.28</td>\n",
       "      <td>41.70</td>\n",
       "      <td>41.27</td>\n",
       "      <td>41.62</td>\n",
       "      <td>2.830715e+05</td>\n",
       "    </tr>\n",
       "    <tr>\n",
       "      <th>26273</th>\n",
       "      <td>2020-01-01 00:00:00</td>\n",
       "      <td>41.29</td>\n",
       "      <td>41.29</td>\n",
       "      <td>41.16</td>\n",
       "      <td>41.28</td>\n",
       "      <td>1.165827e+05</td>\n",
       "    </tr>\n",
       "  </tbody>\n",
       "</table>\n",
       "<p>26274 rows × 6 columns</p>\n",
       "</div>"
      ],
      "text/plain": [
       "                      Date   Open   High    Low  Close   Volume USDT\n",
       "0      2022-12-31 23:00:00  70.08  70.30  69.79  70.14  9.486568e+05\n",
       "1      2022-12-31 22:00:00  70.24  70.24  69.71  70.09  8.838422e+05\n",
       "2      2022-12-31 21:00:00  70.40  70.45  70.19  70.23  6.820723e+05\n",
       "3      2022-12-31 20:00:00  70.15  70.53  70.08  70.39  1.173164e+06\n",
       "4      2022-12-31 19:00:00  69.93  70.32  69.93  70.15  9.964355e+05\n",
       "...                    ...    ...    ...    ...    ...           ...\n",
       "26269  2020-01-01 04:00:00  41.53  41.85  41.45  41.59  2.214516e+05\n",
       "26270  2020-01-01 03:00:00  41.84  41.85  41.49  41.53  1.613043e+05\n",
       "26271  2020-01-01 02:00:00  41.63  41.88  41.62  41.85  2.402871e+05\n",
       "26272  2020-01-01 01:00:00  41.28  41.70  41.27  41.62  2.830715e+05\n",
       "26273  2020-01-01 00:00:00  41.29  41.29  41.16  41.28  1.165827e+05\n",
       "\n",
       "[26274 rows x 6 columns]"
      ]
     },
     "execution_count": 2,
     "metadata": {},
     "output_type": "execute_result"
    }
   ],
   "source": [
    "ltc_dfd = pd.read_csv('../Dataset/Binance_LTCUSDT_1h.csv')\n",
    "ltc_dfd"
   ]
  },
  {
   "cell_type": "code",
   "execution_count": 3,
   "id": "41062755-9cca-4348-91bc-e80d46b79c3d",
   "metadata": {},
   "outputs": [
    {
     "data": {
      "text/html": [
       "<div>\n",
       "<style scoped>\n",
       "    .dataframe tbody tr th:only-of-type {\n",
       "        vertical-align: middle;\n",
       "    }\n",
       "\n",
       "    .dataframe tbody tr th {\n",
       "        vertical-align: top;\n",
       "    }\n",
       "\n",
       "    .dataframe thead th {\n",
       "        text-align: right;\n",
       "    }\n",
       "</style>\n",
       "<table border=\"1\" class=\"dataframe\">\n",
       "  <thead>\n",
       "    <tr style=\"text-align: right;\">\n",
       "      <th></th>\n",
       "      <th>Close</th>\n",
       "    </tr>\n",
       "  </thead>\n",
       "  <tbody>\n",
       "    <tr>\n",
       "      <th>0</th>\n",
       "      <td>41.28</td>\n",
       "    </tr>\n",
       "    <tr>\n",
       "      <th>1</th>\n",
       "      <td>41.62</td>\n",
       "    </tr>\n",
       "    <tr>\n",
       "      <th>2</th>\n",
       "      <td>41.85</td>\n",
       "    </tr>\n",
       "    <tr>\n",
       "      <th>3</th>\n",
       "      <td>41.53</td>\n",
       "    </tr>\n",
       "    <tr>\n",
       "      <th>4</th>\n",
       "      <td>41.59</td>\n",
       "    </tr>\n",
       "    <tr>\n",
       "      <th>...</th>\n",
       "      <td>...</td>\n",
       "    </tr>\n",
       "    <tr>\n",
       "      <th>26269</th>\n",
       "      <td>70.15</td>\n",
       "    </tr>\n",
       "    <tr>\n",
       "      <th>26270</th>\n",
       "      <td>70.39</td>\n",
       "    </tr>\n",
       "    <tr>\n",
       "      <th>26271</th>\n",
       "      <td>70.23</td>\n",
       "    </tr>\n",
       "    <tr>\n",
       "      <th>26272</th>\n",
       "      <td>70.09</td>\n",
       "    </tr>\n",
       "    <tr>\n",
       "      <th>26273</th>\n",
       "      <td>70.14</td>\n",
       "    </tr>\n",
       "  </tbody>\n",
       "</table>\n",
       "<p>26274 rows × 1 columns</p>\n",
       "</div>"
      ],
      "text/plain": [
       "       Close\n",
       "0      41.28\n",
       "1      41.62\n",
       "2      41.85\n",
       "3      41.53\n",
       "4      41.59\n",
       "...      ...\n",
       "26269  70.15\n",
       "26270  70.39\n",
       "26271  70.23\n",
       "26272  70.09\n",
       "26273  70.14\n",
       "\n",
       "[26274 rows x 1 columns]"
      ]
     },
     "execution_count": 3,
     "metadata": {},
     "output_type": "execute_result"
    }
   ],
   "source": [
    "df = Preprocessing.sort_df(ltc_dfd)\n",
    "df"
   ]
  },
  {
   "cell_type": "code",
   "execution_count": 4,
   "id": "140ecfee-f8cf-45f6-b3c6-49e8e7458101",
   "metadata": {},
   "outputs": [
    {
     "data": {
      "text/plain": [
       "(26274, 1)"
      ]
     },
     "execution_count": 4,
     "metadata": {},
     "output_type": "execute_result"
    }
   ],
   "source": [
    "x, scaler = Preprocessing.minmax_scale(df)\n",
    "x.shape"
   ]
  },
  {
   "cell_type": "code",
   "execution_count": 5,
   "id": "c42a7847-70b8-4487-a874-67e370666724",
   "metadata": {},
   "outputs": [
    {
     "data": {
      "text/plain": [
       "(21019, 1)"
      ]
     },
     "execution_count": 5,
     "metadata": {},
     "output_type": "execute_result"
    }
   ],
   "source": [
    "train, test = Preprocessing.splitting_data(x)\n",
    "train.shape"
   ]
  },
  {
   "cell_type": "code",
   "execution_count": 6,
   "id": "a8e525a6-83d0-4c8b-9875-33e0e15480ae",
   "metadata": {},
   "outputs": [
    {
     "data": {
      "text/plain": [
       "array([[0.09427977],\n",
       "       [0.09557982],\n",
       "       [0.09791992],\n",
       "       ...,\n",
       "       [0.11697868],\n",
       "       [0.11661466],\n",
       "       [0.11674467]])"
      ]
     },
     "execution_count": 6,
     "metadata": {},
     "output_type": "execute_result"
    }
   ],
   "source": [
    "test"
   ]
  },
  {
   "cell_type": "code",
   "execution_count": 7,
   "id": "08213717-a303-4c9e-97bb-280204035109",
   "metadata": {},
   "outputs": [],
   "source": [
    "train_X, train_y = Preprocessing.create_dataset(train,25)\n",
    "test_X, test_y = Preprocessing.create_dataset(test,25)"
   ]
  },
  {
   "cell_type": "code",
   "execution_count": 8,
   "id": "aff76bd7-16f2-4bf2-8a64-f1f6a1194661",
   "metadata": {},
   "outputs": [
    {
     "data": {
      "text/plain": [
       "(20994, 25, 1)"
      ]
     },
     "execution_count": 8,
     "metadata": {},
     "output_type": "execute_result"
    }
   ],
   "source": [
    "train_X.shape"
   ]
  },
  {
   "cell_type": "code",
   "execution_count": 9,
   "id": "4efa14c4-f85e-47c3-bc04-7f0d029d3a72",
   "metadata": {},
   "outputs": [
    {
     "data": {
      "text/plain": [
       "array([0.0423817 , 0.04193968, 0.04144566, ..., 0.10208008, 0.09947998,\n",
       "       0.09869995])"
      ]
     },
     "execution_count": 9,
     "metadata": {},
     "output_type": "execute_result"
    }
   ],
   "source": [
    "train_y"
   ]
  },
  {
   "cell_type": "code",
   "execution_count": 10,
   "id": "51dc56af-5903-45ab-a70b-556fb3f3d97a",
   "metadata": {},
   "outputs": [
    {
     "data": {
      "text/plain": [
       "array([[[0.09427977],\n",
       "        [0.09557982],\n",
       "        [0.09791992],\n",
       "        ...,\n",
       "        [0.09453978],\n",
       "        [0.0973999 ],\n",
       "        [0.09453978]],\n",
       "\n",
       "       [[0.09557982],\n",
       "        [0.09791992],\n",
       "        [0.09635985],\n",
       "        ...,\n",
       "        [0.0973999 ],\n",
       "        [0.09453978],\n",
       "        [0.09479979]],\n",
       "\n",
       "       [[0.09791992],\n",
       "        [0.09635985],\n",
       "        [0.0950598 ],\n",
       "        ...,\n",
       "        [0.09453978],\n",
       "        [0.09479979],\n",
       "        [0.09635985]],\n",
       "\n",
       "       ...,\n",
       "\n",
       "       [[0.11185647],\n",
       "        [0.11066043],\n",
       "        [0.11097244],\n",
       "        ...,\n",
       "        [0.11619865],\n",
       "        [0.11677067],\n",
       "        [0.1173947 ]],\n",
       "\n",
       "       [[0.11066043],\n",
       "        [0.11097244],\n",
       "        [0.11102444],\n",
       "        ...,\n",
       "        [0.11677067],\n",
       "        [0.1173947 ],\n",
       "        [0.11697868]],\n",
       "\n",
       "       [[0.11097244],\n",
       "        [0.11102444],\n",
       "        [0.11086843],\n",
       "        ...,\n",
       "        [0.1173947 ],\n",
       "        [0.11697868],\n",
       "        [0.11661466]]])"
      ]
     },
     "execution_count": 10,
     "metadata": {},
     "output_type": "execute_result"
    }
   ],
   "source": [
    "test_X"
   ]
  },
  {
   "cell_type": "code",
   "execution_count": 11,
   "id": "d98152d5-e8c5-4645-90ea-876a042b25e0",
   "metadata": {},
   "outputs": [
    {
     "data": {
      "text/plain": [
       "array([0.09479979, 0.09635985, 0.0973999 , ..., 0.11697868, 0.11661466,\n",
       "       0.11674467])"
      ]
     },
     "execution_count": 11,
     "metadata": {},
     "output_type": "execute_result"
    }
   ],
   "source": [
    "test_y"
   ]
  },
  {
   "cell_type": "code",
   "execution_count": 12,
   "id": "d80df0f9-fe70-44f0-bef3-b779d95da0d0",
   "metadata": {},
   "outputs": [
    {
     "name": "stdout",
     "output_type": "stream",
     "text": [
      "(20994, 25, 1) (20994,) (5230, 25, 1) (5230,)\n"
     ]
    }
   ],
   "source": [
    "print(train_X.shape, train_y.shape, test_X.shape, test_y.shape)"
   ]
  },
  {
   "cell_type": "markdown",
   "id": "cf43011a-1b18-4fef-b638-d84109a5347b",
   "metadata": {},
   "source": [
    "## Model Training"
   ]
  },
  {
   "cell_type": "code",
   "execution_count": 13,
   "id": "7c6e3c5f-f40b-427b-bbf6-715de9fbfed4",
   "metadata": {},
   "outputs": [],
   "source": [
    "hyperparam = [(32,100,60)]"
   ]
  },
  {
   "cell_type": "code",
   "execution_count": 14,
   "id": "3ffd8dc1-5eb8-4d7e-aba2-cab78df020ae",
   "metadata": {},
   "outputs": [
    {
     "name": "stdout",
     "output_type": "stream",
     "text": [
      "Metal device set to: Apple M1\n"
     ]
    },
    {
     "name": "stderr",
     "output_type": "stream",
     "text": [
      "2023-05-14 23:08:03.812572: I tensorflow/core/common_runtime/pluggable_device/pluggable_device_factory.cc:306] Could not identify NUMA node of platform GPU ID 0, defaulting to 0. Your kernel may not have been built with NUMA support.\n",
      "2023-05-14 23:08:03.812861: I tensorflow/core/common_runtime/pluggable_device/pluggable_device_factory.cc:272] Created TensorFlow device (/job:localhost/replica:0/task:0/device:GPU:0 with 0 MB memory) -> physical PluggableDevice (device: 0, name: METAL, pci bus id: <undefined>)\n"
     ]
    },
    {
     "name": "stdout",
     "output_type": "stream",
     "text": [
      "Epoch 1/100\n"
     ]
    },
    {
     "name": "stderr",
     "output_type": "stream",
     "text": [
      "2023-05-14 23:08:04.159775: W tensorflow/core/platform/profile_utils/cpu_utils.cc:128] Failed to get CPU frequency: 0 Hz\n",
      "2023-05-14 23:08:04.612825: I tensorflow/core/grappler/optimizers/custom_graph_optimizer_registry.cc:114] Plugin optimizer for device_type GPU is enabled.\n",
      "2023-05-14 23:08:04.731091: I tensorflow/core/grappler/optimizers/custom_graph_optimizer_registry.cc:114] Plugin optimizer for device_type GPU is enabled.\n",
      "2023-05-14 23:08:05.620096: I tensorflow/core/grappler/optimizers/custom_graph_optimizer_registry.cc:114] Plugin optimizer for device_type GPU is enabled.\n",
      "2023-05-14 23:08:14.164896: I tensorflow/core/grappler/optimizers/custom_graph_optimizer_registry.cc:114] Plugin optimizer for device_type GPU is enabled.\n",
      "2023-05-14 23:08:14.197498: I tensorflow/core/grappler/optimizers/custom_graph_optimizer_registry.cc:114] Plugin optimizer for device_type GPU is enabled.\n"
     ]
    },
    {
     "name": "stdout",
     "output_type": "stream",
     "text": [
      "657/657 - 11s - loss: 3.2708e-04 - val_loss: 1.0887e-04 - 11s/epoch - 17ms/step\n",
      "Epoch 2/100\n",
      "657/657 - 8s - loss: 5.3929e-04 - val_loss: 2.5150e-04 - 8s/epoch - 12ms/step\n",
      "Epoch 3/100\n",
      "657/657 - 8s - loss: 0.0012 - val_loss: 6.4401e-04 - 8s/epoch - 12ms/step\n",
      "Epoch 4/100\n",
      "657/657 - 8s - loss: 0.0011 - val_loss: 8.5717e-04 - 8s/epoch - 12ms/step\n",
      "Epoch 5/100\n",
      "657/657 - 8s - loss: 8.5819e-04 - val_loss: 6.5485e-04 - 8s/epoch - 12ms/step\n",
      "Epoch 6/100\n",
      "657/657 - 8s - loss: 6.6530e-04 - val_loss: 3.9026e-04 - 8s/epoch - 12ms/step\n",
      "Epoch 7/100\n",
      "657/657 - 8s - loss: 4.9280e-04 - val_loss: 2.0994e-04 - 8s/epoch - 12ms/step\n",
      "Epoch 8/100\n",
      "657/657 - 9s - loss: 3.5598e-04 - val_loss: 1.0620e-04 - 9s/epoch - 13ms/step\n",
      "Epoch 9/100\n",
      "657/657 - 8s - loss: 2.6342e-04 - val_loss: 6.0019e-05 - 8s/epoch - 12ms/step\n",
      "Epoch 10/100\n",
      "657/657 - 8s - loss: 2.0532e-04 - val_loss: 3.9312e-05 - 8s/epoch - 12ms/step\n",
      "Epoch 11/100\n",
      "657/657 - 8s - loss: 1.7100e-04 - val_loss: 3.0409e-05 - 8s/epoch - 12ms/step\n",
      "Epoch 12/100\n",
      "657/657 - 8s - loss: 1.5132e-04 - val_loss: 2.6226e-05 - 8s/epoch - 12ms/step\n",
      "Epoch 13/100\n",
      "657/657 - 8s - loss: 1.4711e-04 - val_loss: 2.6946e-05 - 8s/epoch - 12ms/step\n",
      "Epoch 14/100\n",
      "657/657 - 8s - loss: 1.5747e-04 - val_loss: 2.8082e-05 - 8s/epoch - 12ms/step\n",
      "Epoch 15/100\n",
      "657/657 - 8s - loss: 1.6919e-04 - val_loss: 3.0667e-05 - 8s/epoch - 12ms/step\n",
      "Epoch 16/100\n",
      "657/657 - 8s - loss: 1.7328e-04 - val_loss: 2.8889e-05 - 8s/epoch - 12ms/step\n",
      "Epoch 17/100\n",
      "657/657 - 8s - loss: 1.5695e-04 - val_loss: 2.3365e-05 - 8s/epoch - 12ms/step\n",
      "Epoch 18/100\n",
      "657/657 - 8s - loss: 1.3108e-04 - val_loss: 1.8675e-05 - 8s/epoch - 12ms/step\n",
      "Epoch 19/100\n",
      "657/657 - 8s - loss: 1.1513e-04 - val_loss: 1.6174e-05 - 8s/epoch - 12ms/step\n",
      "Epoch 20/100\n",
      "657/657 - 8s - loss: 1.1132e-04 - val_loss: 1.6007e-05 - 8s/epoch - 12ms/step\n",
      "Epoch 21/100\n",
      "657/657 - 8s - loss: 1.1609e-04 - val_loss: 1.6890e-05 - 8s/epoch - 12ms/step\n",
      "Epoch 22/100\n",
      "657/657 - 8s - loss: 1.2369e-04 - val_loss: 1.7195e-05 - 8s/epoch - 12ms/step\n",
      "Epoch 23/100\n",
      "657/657 - 8s - loss: 1.2107e-04 - val_loss: 1.5516e-05 - 8s/epoch - 12ms/step\n",
      "Epoch 24/100\n",
      "657/657 - 8s - loss: 1.1151e-04 - val_loss: 1.3319e-05 - 8s/epoch - 12ms/step\n",
      "Epoch 25/100\n",
      "657/657 - 8s - loss: 1.0163e-04 - val_loss: 1.1890e-05 - 8s/epoch - 12ms/step\n",
      "Epoch 26/100\n",
      "657/657 - 8s - loss: 9.7412e-05 - val_loss: 1.1095e-05 - 8s/epoch - 12ms/step\n",
      "Epoch 27/100\n",
      "657/657 - 8s - loss: 9.7023e-05 - val_loss: 1.1303e-05 - 8s/epoch - 12ms/step\n",
      "Epoch 28/100\n",
      "657/657 - 8s - loss: 1.0008e-04 - val_loss: 1.1303e-05 - 8s/epoch - 12ms/step\n",
      "Epoch 29/100\n",
      "657/657 - 8s - loss: 9.9376e-05 - val_loss: 1.0731e-05 - 8s/epoch - 12ms/step\n",
      "Epoch 30/100\n",
      "657/657 - 8s - loss: 9.5853e-05 - val_loss: 1.0023e-05 - 8s/epoch - 12ms/step\n",
      "Epoch 31/100\n",
      "657/657 - 8s - loss: 9.0978e-05 - val_loss: 9.2156e-06 - 8s/epoch - 12ms/step\n",
      "Epoch 32/100\n",
      "657/657 - 8s - loss: 8.7491e-05 - val_loss: 8.8962e-06 - 8s/epoch - 12ms/step\n",
      "Epoch 33/100\n",
      "657/657 - 8s - loss: 8.8189e-05 - val_loss: 8.9757e-06 - 8s/epoch - 12ms/step\n",
      "Epoch 34/100\n",
      "657/657 - 8s - loss: 8.8613e-05 - val_loss: 8.6905e-06 - 8s/epoch - 12ms/step\n",
      "Epoch 35/100\n",
      "657/657 - 8s - loss: 8.6336e-05 - val_loss: 8.3220e-06 - 8s/epoch - 12ms/step\n",
      "Epoch 36/100\n",
      "657/657 - 8s - loss: 8.3910e-05 - val_loss: 8.0043e-06 - 8s/epoch - 12ms/step\n",
      "Epoch 37/100\n",
      "657/657 - 8s - loss: 8.2311e-05 - val_loss: 7.7605e-06 - 8s/epoch - 12ms/step\n",
      "Epoch 38/100\n",
      "657/657 - 8s - loss: 8.1276e-05 - val_loss: 7.6359e-06 - 8s/epoch - 12ms/step\n",
      "Epoch 39/100\n",
      "657/657 - 8s - loss: 8.0125e-05 - val_loss: 7.5065e-06 - 8s/epoch - 12ms/step\n",
      "Epoch 40/100\n",
      "657/657 - 8s - loss: 7.9281e-05 - val_loss: 7.3632e-06 - 8s/epoch - 12ms/step\n",
      "Epoch 41/100\n",
      "657/657 - 8s - loss: 7.8370e-05 - val_loss: 7.2503e-06 - 8s/epoch - 12ms/step\n",
      "Epoch 42/100\n",
      "657/657 - 8s - loss: 7.7667e-05 - val_loss: 7.2021e-06 - 8s/epoch - 12ms/step\n",
      "Epoch 43/100\n",
      "657/657 - 8s - loss: 7.7297e-05 - val_loss: 7.0174e-06 - 8s/epoch - 12ms/step\n",
      "Epoch 44/100\n",
      "657/657 - 8s - loss: 7.5710e-05 - val_loss: 6.8884e-06 - 8s/epoch - 12ms/step\n",
      "Epoch 45/100\n",
      "657/657 - 7s - loss: 7.4681e-05 - val_loss: 6.7574e-06 - 7s/epoch - 10ms/step\n",
      "Epoch 46/100\n",
      "657/657 - 7s - loss: 7.3443e-05 - val_loss: 6.7134e-06 - 7s/epoch - 10ms/step\n",
      "Epoch 47/100\n",
      "657/657 - 7s - loss: 7.2947e-05 - val_loss: 6.6016e-06 - 7s/epoch - 10ms/step\n",
      "Epoch 48/100\n",
      "657/657 - 7s - loss: 7.1975e-05 - val_loss: 6.5343e-06 - 7s/epoch - 10ms/step\n",
      "Epoch 49/100\n",
      "657/657 - 7s - loss: 7.1426e-05 - val_loss: 6.4094e-06 - 7s/epoch - 10ms/step\n",
      "Epoch 50/100\n",
      "657/657 - 7s - loss: 7.0311e-05 - val_loss: 6.3763e-06 - 7s/epoch - 10ms/step\n",
      "Epoch 51/100\n",
      "657/657 - 7s - loss: 6.9782e-05 - val_loss: 6.3886e-06 - 7s/epoch - 10ms/step\n",
      "Epoch 52/100\n",
      "657/657 - 7s - loss: 6.9706e-05 - val_loss: 6.3665e-06 - 7s/epoch - 10ms/step\n",
      "Epoch 53/100\n",
      "657/657 - 7s - loss: 6.9551e-05 - val_loss: 6.2648e-06 - 7s/epoch - 10ms/step\n",
      "Epoch 54/100\n",
      "657/657 - 7s - loss: 6.8488e-05 - val_loss: 6.1750e-06 - 7s/epoch - 10ms/step\n",
      "Epoch 55/100\n",
      "657/657 - 7s - loss: 6.7253e-05 - val_loss: 6.1263e-06 - 7s/epoch - 10ms/step\n",
      "Epoch 56/100\n",
      "657/657 - 7s - loss: 6.6320e-05 - val_loss: 6.0772e-06 - 7s/epoch - 10ms/step\n",
      "Epoch 57/100\n",
      "657/657 - 7s - loss: 6.5582e-05 - val_loss: 6.0527e-06 - 7s/epoch - 10ms/step\n",
      "Epoch 58/100\n",
      "657/657 - 7s - loss: 6.5160e-05 - val_loss: 6.0144e-06 - 7s/epoch - 10ms/step\n",
      "Epoch 59/100\n",
      "657/657 - 7s - loss: 6.4926e-05 - val_loss: 5.9497e-06 - 7s/epoch - 10ms/step\n",
      "Epoch 60/100\n",
      "657/657 - 7s - loss: 6.4500e-05 - val_loss: 5.8754e-06 - 7s/epoch - 10ms/step\n",
      "Epoch 61/100\n",
      "657/657 - 7s - loss: 6.4065e-05 - val_loss: 5.8530e-06 - 7s/epoch - 10ms/step\n",
      "Epoch 62/100\n",
      "657/657 - 7s - loss: 6.3661e-05 - val_loss: 5.9194e-06 - 7s/epoch - 10ms/step\n",
      "Epoch 63/100\n",
      "657/657 - 7s - loss: 6.3615e-05 - val_loss: 6.0101e-06 - 7s/epoch - 10ms/step\n",
      "Epoch 64/100\n",
      "657/657 - 7s - loss: 6.4172e-05 - val_loss: 5.8920e-06 - 7s/epoch - 10ms/step\n",
      "Epoch 65/100\n",
      "657/657 - 7s - loss: 6.3384e-05 - val_loss: 5.7575e-06 - 7s/epoch - 10ms/step\n",
      "Epoch 66/100\n",
      "657/657 - 7s - loss: 6.1730e-05 - val_loss: 5.7279e-06 - 7s/epoch - 10ms/step\n",
      "Epoch 67/100\n",
      "657/657 - 7s - loss: 6.0899e-05 - val_loss: 5.7027e-06 - 7s/epoch - 10ms/step\n",
      "Epoch 68/100\n",
      "657/657 - 7s - loss: 6.0395e-05 - val_loss: 5.7071e-06 - 7s/epoch - 10ms/step\n",
      "Epoch 69/100\n",
      "657/657 - 7s - loss: 6.0485e-05 - val_loss: 5.7079e-06 - 7s/epoch - 10ms/step\n",
      "Epoch 70/100\n",
      "657/657 - 7s - loss: 6.0463e-05 - val_loss: 5.6180e-06 - 7s/epoch - 10ms/step\n",
      "Epoch 71/100\n",
      "657/657 - 7s - loss: 6.0026e-05 - val_loss: 5.5762e-06 - 7s/epoch - 10ms/step\n",
      "Epoch 72/100\n",
      "657/657 - 7s - loss: 5.9640e-05 - val_loss: 5.5382e-06 - 7s/epoch - 10ms/step\n",
      "Epoch 73/100\n",
      "657/657 - 7s - loss: 5.9314e-05 - val_loss: 5.5529e-06 - 7s/epoch - 10ms/step\n",
      "Epoch 74/100\n",
      "657/657 - 7s - loss: 5.9156e-05 - val_loss: 5.5961e-06 - 7s/epoch - 10ms/step\n",
      "Epoch 75/100\n",
      "657/657 - 7s - loss: 5.9007e-05 - val_loss: 5.7308e-06 - 7s/epoch - 10ms/step\n",
      "Epoch 76/100\n",
      "657/657 - 7s - loss: 5.9562e-05 - val_loss: 5.6963e-06 - 7s/epoch - 10ms/step\n",
      "Epoch 77/100\n",
      "657/657 - 7s - loss: 5.9441e-05 - val_loss: 5.5244e-06 - 7s/epoch - 10ms/step\n",
      "Epoch 78/100\n",
      "657/657 - 7s - loss: 5.7918e-05 - val_loss: 5.4505e-06 - 7s/epoch - 10ms/step\n",
      "Epoch 79/100\n",
      "657/657 - 7s - loss: 5.7102e-05 - val_loss: 5.4290e-06 - 7s/epoch - 10ms/step\n",
      "Epoch 80/100\n",
      "657/657 - 7s - loss: 5.6606e-05 - val_loss: 5.4308e-06 - 7s/epoch - 10ms/step\n",
      "Epoch 81/100\n",
      "657/657 - 7s - loss: 5.6781e-05 - val_loss: 5.4455e-06 - 7s/epoch - 10ms/step\n",
      "Epoch 82/100\n",
      "657/657 - 7s - loss: 5.6780e-05 - val_loss: 5.3950e-06 - 7s/epoch - 10ms/step\n",
      "Epoch 83/100\n",
      "657/657 - 7s - loss: 5.6602e-05 - val_loss: 5.3459e-06 - 7s/epoch - 10ms/step\n",
      "Epoch 84/100\n",
      "657/657 - 7s - loss: 5.6194e-05 - val_loss: 5.2960e-06 - 7s/epoch - 10ms/step\n",
      "Epoch 85/100\n",
      "657/657 - 7s - loss: 5.5916e-05 - val_loss: 5.2976e-06 - 7s/epoch - 10ms/step\n",
      "Epoch 86/100\n",
      "657/657 - 7s - loss: 5.5792e-05 - val_loss: 5.2787e-06 - 7s/epoch - 10ms/step\n",
      "Epoch 87/100\n",
      "657/657 - 7s - loss: 5.5626e-05 - val_loss: 5.2866e-06 - 7s/epoch - 10ms/step\n",
      "Epoch 88/100\n",
      "657/657 - 7s - loss: 5.5472e-05 - val_loss: 5.3374e-06 - 7s/epoch - 10ms/step\n",
      "Epoch 89/100\n",
      "657/657 - 7s - loss: 5.5524e-05 - val_loss: 5.4381e-06 - 7s/epoch - 10ms/step\n",
      "Epoch 90/100\n",
      "657/657 - 7s - loss: 5.5955e-05 - val_loss: 5.3938e-06 - 7s/epoch - 10ms/step\n",
      "Epoch 91/100\n",
      "657/657 - 7s - loss: 5.5456e-05 - val_loss: 5.2464e-06 - 7s/epoch - 10ms/step\n",
      "Epoch 92/100\n",
      "657/657 - 7s - loss: 5.4072e-05 - val_loss: 5.1822e-06 - 7s/epoch - 10ms/step\n",
      "Epoch 93/100\n",
      "657/657 - 7s - loss: 5.3799e-05 - val_loss: 5.1478e-06 - 7s/epoch - 10ms/step\n",
      "Epoch 94/100\n",
      "657/657 - 7s - loss: 5.3443e-05 - val_loss: 5.1571e-06 - 7s/epoch - 10ms/step\n",
      "Epoch 95/100\n",
      "657/657 - 7s - loss: 5.3732e-05 - val_loss: 5.1564e-06 - 7s/epoch - 10ms/step\n",
      "Epoch 96/100\n",
      "657/657 - 7s - loss: 5.3590e-05 - val_loss: 5.0978e-06 - 7s/epoch - 10ms/step\n",
      "Epoch 97/100\n",
      "657/657 - 7s - loss: 5.3406e-05 - val_loss: 5.0654e-06 - 7s/epoch - 10ms/step\n",
      "Epoch 98/100\n",
      "657/657 - 7s - loss: 5.3078e-05 - val_loss: 5.0218e-06 - 7s/epoch - 10ms/step\n",
      "Epoch 99/100\n",
      "657/657 - 7s - loss: 5.2902e-05 - val_loss: 5.0160e-06 - 7s/epoch - 10ms/step\n",
      "Epoch 100/100\n",
      "657/657 - 7s - loss: 5.2773e-05 - val_loss: 4.9868e-06 - 7s/epoch - 10ms/step\n"
     ]
    }
   ],
   "source": [
    "for batch, epoch, neuron in hyperparam:\n",
    "    model1, lstm1 = LSTMUnit.train_lstm(train_X, train_y, test_X, test_y, neuron, epoch, batch)"
   ]
  },
  {
   "cell_type": "code",
   "execution_count": 15,
   "id": "ebe15d8d-6bc9-4220-a7db-48e4d4c7cd18",
   "metadata": {},
   "outputs": [
    {
     "name": "stdout",
     "output_type": "stream",
     "text": [
      " 26/164 [===>..........................] - ETA: 0s"
     ]
    },
    {
     "name": "stderr",
     "output_type": "stream",
     "text": [
      "2023-05-14 23:20:21.278134: I tensorflow/core/grappler/optimizers/custom_graph_optimizer_registry.cc:114] Plugin optimizer for device_type GPU is enabled.\n",
      "2023-05-14 23:20:21.304823: I tensorflow/core/grappler/optimizers/custom_graph_optimizer_registry.cc:114] Plugin optimizer for device_type GPU is enabled.\n"
     ]
    },
    {
     "name": "stdout",
     "output_type": "stream",
     "text": [
      "164/164 [==============================] - 1s 4ms/step\n",
      "(32, 100, 60)\n",
      "Epoch: 100\n",
      "Neurons: 60\n",
      "RMSE\n",
      "0.8588553422994142\n",
      "MAE\n",
      "0.6420822860396845\n",
      "MAPE\n",
      "1.0317123783557842\n"
     ]
    }
   ],
   "source": [
    "i=0\n",
    "# make a prediction\n",
    "test_x2 = test_X\n",
    "yhat = LSTMUnit.predict(test_x2, model1)\n",
    "inv_yhat = Preprocessing.inverse_scaler(yhat, scaler)\n",
    "inv_y = Preprocessing.inverse_scaler(test_y.reshape(-1,1), scaler)\n",
    "print(hyperparam[i])\n",
    "print(\"Epoch: \"+ str(lstm1.params['epochs']))\n",
    "print(\"Neurons: \"+str(model1.layers[0].units))\n",
    "print('RMSE')\n",
    "print(Evaluation.rmse(inv_y,inv_yhat))\n",
    "print('MAE')\n",
    "print(Evaluation.mae(inv_y,inv_yhat))\n",
    "print('MAPE')\n",
    "print(Evaluation.mape(inv_y,inv_yhat))\n",
    "LSTMUnit.save_model(model1, 0, 'LTC',hyperparam[0])\n",
    "with open('LSTM_LTC'+str(hyperparam[0])+'.pkl', 'wb') as f:\n",
    "    pickle.dump(lstm1.history, f)"
   ]
  },
  {
   "cell_type": "code",
   "execution_count": null,
   "id": "5cf5f094-86fd-4622-8e6c-75fd077553f5",
   "metadata": {},
   "outputs": [],
   "source": []
  }
 ],
 "metadata": {
  "kernelspec": {
   "display_name": "Python 3 (ipykernel)",
   "language": "python",
   "name": "python3"
  },
  "language_info": {
   "codemirror_mode": {
    "name": "ipython",
    "version": 3
   },
   "file_extension": ".py",
   "mimetype": "text/x-python",
   "name": "python",
   "nbconvert_exporter": "python",
   "pygments_lexer": "ipython3",
   "version": "3.9.13"
  }
 },
 "nbformat": 4,
 "nbformat_minor": 5
}
